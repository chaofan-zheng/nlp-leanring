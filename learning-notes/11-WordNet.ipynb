{
 "cells": [
  {
   "cell_type": "markdown",
   "metadata": {},
   "source": [
    "# WordNet"
   ]
  },
  {
   "cell_type": "code",
   "execution_count": 1,
   "metadata": {},
   "outputs": [],
   "source": [
    "import nltk"
   ]
  },
  {
   "cell_type": "code",
   "execution_count": 3,
   "metadata": {},
   "outputs": [],
   "source": [
    "from nltk.corpus import wordnet as wn"
   ]
  },
  {
   "cell_type": "code",
   "execution_count": 8,
   "metadata": {},
   "outputs": [],
   "source": [
    "terrier = wn.synsets('terrier')[0]"
   ]
  },
  {
   "cell_type": "code",
   "execution_count": 9,
   "metadata": {},
   "outputs": [
    {
     "data": {
      "text/plain": [
       "<bound method Synset.name of Synset('terrier.n.01')>"
      ]
     },
     "execution_count": 9,
     "metadata": {},
     "output_type": "execute_result"
    }
   ],
   "source": [
    "terrier.name"
   ]
  },
  {
   "cell_type": "code",
   "execution_count": 11,
   "metadata": {},
   "outputs": [
    {
     "data": {
      "text/plain": [
       "[Lemma('terrier.n.01.terrier')]"
      ]
     },
     "execution_count": 11,
     "metadata": {},
     "output_type": "execute_result"
    }
   ],
   "source": [
    "terrier.lemmas()"
   ]
  },
  {
   "cell_type": "code",
   "execution_count": 12,
   "metadata": {},
   "outputs": [
    {
     "data": {
      "text/plain": [
       "['terrier']"
      ]
     },
     "execution_count": 12,
     "metadata": {},
     "output_type": "execute_result"
    }
   ],
   "source": [
    "terrier.lemma_names()"
   ]
  },
  {
   "cell_type": "code",
   "execution_count": 17,
   "metadata": {},
   "outputs": [],
   "source": [
    "dog = terrier.hypernyms()[0].hypernyms()[0]"
   ]
  },
  {
   "cell_type": "code",
   "execution_count": 58,
   "metadata": {},
   "outputs": [],
   "source": [
    "def getHyponym(word): \n",
    "    return word.hyponyms()\n",
    "\n",
    "def getHypernym(word): \n",
    "    return word.hypernyms()"
   ]
  },
  {
   "cell_type": "code",
   "execution_count": 25,
   "metadata": {},
   "outputs": [],
   "source": [
    "dogTree = dog.tree(rel=getHyponym)"
   ]
  },
  {
   "cell_type": "code",
   "execution_count": 46,
   "metadata": {},
   "outputs": [],
   "source": [
    "def isSynset(node): \n",
    "    return type(node) == nltk.corpus.reader.wordnet.Synset"
   ]
  },
  {
   "cell_type": "code",
   "execution_count": 44,
   "metadata": {},
   "outputs": [
    {
     "data": {
      "text/plain": [
       "True"
      ]
     },
     "execution_count": 44,
     "metadata": {},
     "output_type": "execute_result"
    }
   ],
   "source": [
    "isSynset(dogTree[0])"
   ]
  },
  {
   "cell_type": "code",
   "execution_count": 55,
   "metadata": {},
   "outputs": [],
   "source": [
    "def getLemmas(tree): \n",
    "    allLemmas = []\n",
    "    for node in tree: \n",
    "        if isSynset(node): \n",
    "            nodeLemmas = node.lemma_names()\n",
    "            for lem in nodeLemmas: \n",
    "                allLemmas.append(lem)\n",
    "        else: \n",
    "            nodeLemmas = getLemmas(node)\n",
    "            for lem in nodeLemmas: \n",
    "                allLemmas.append(lem)\n",
    "    return allLemmas"
   ]
  },
  {
   "cell_type": "code",
   "execution_count": 57,
   "metadata": {},
   "outputs": [],
   "source": [
    "dogLemmas = getLemmas(dogTree)"
   ]
  },
  {
   "cell_type": "code",
   "execution_count": 59,
   "metadata": {},
   "outputs": [],
   "source": [
    "dogHypers = dog.tree(getHypernym)"
   ]
  },
  {
   "cell_type": "code",
   "execution_count": 60,
   "metadata": {},
   "outputs": [
    {
     "data": {
      "text/plain": [
       "[Synset('dog.n.01'),\n",
       " [Synset('canine.n.02'),\n",
       "  [Synset('carnivore.n.01'),\n",
       "   [Synset('placental.n.01'),\n",
       "    [Synset('mammal.n.01'),\n",
       "     [Synset('vertebrate.n.01'),\n",
       "      [Synset('chordate.n.01'),\n",
       "       [Synset('animal.n.01'),\n",
       "        [Synset('organism.n.01'),\n",
       "         [Synset('living_thing.n.01'),\n",
       "          [Synset('whole.n.02'),\n",
       "           [Synset('object.n.01'),\n",
       "            [Synset('physical_entity.n.01'),\n",
       "             [Synset('entity.n.01')]]]]]]]]]]]]],\n",
       " [Synset('domestic_animal.n.01'),\n",
       "  [Synset('animal.n.01'),\n",
       "   [Synset('organism.n.01'),\n",
       "    [Synset('living_thing.n.01'),\n",
       "     [Synset('whole.n.02'),\n",
       "      [Synset('object.n.01'),\n",
       "       [Synset('physical_entity.n.01'), [Synset('entity.n.01')]]]]]]]]]"
      ]
     },
     "execution_count": 60,
     "metadata": {},
     "output_type": "execute_result"
    }
   ],
   "source": [
    "dogHypers"
   ]
  },
  {
   "cell_type": "code",
   "execution_count": 61,
   "metadata": {},
   "outputs": [],
   "source": [
    "garden = open('../Readings/content/texts/garden-party.md').read()"
   ]
  },
  {
   "cell_type": "code",
   "execution_count": 68,
   "metadata": {},
   "outputs": [],
   "source": [
    "gardenParts = garden.split('\\n##')"
   ]
  },
  {
   "cell_type": "code",
   "execution_count": 71,
   "metadata": {},
   "outputs": [
    {
     "data": {
      "text/plain": [
       "74314"
      ]
     },
     "execution_count": 71,
     "metadata": {},
     "output_type": "execute_result"
    }
   ],
   "source": [
    "garden.index('the weather was ideal')"
   ]
  },
  {
   "cell_type": "code",
   "execution_count": 72,
   "metadata": {},
   "outputs": [
    {
     "data": {
      "text/plain": [
       "'as though it waked out of a\\ndark dream. All was still.\\n\\n\\n2. THE GARDEN PARTY.\\n--------------------\\n\\nAnd after all the weather was ideal. They could not have had a more\\nperfect day for a garden-party i'"
      ]
     },
     "execution_count": 72,
     "metadata": {},
     "output_type": "execute_result"
    }
   ],
   "source": [
    "garden[74200:74400]"
   ]
  },
  {
   "cell_type": "code",
   "execution_count": 73,
   "metadata": {},
   "outputs": [
    {
     "data": {
      "text/plain": [
       "74254"
      ]
     },
     "execution_count": 73,
     "metadata": {},
     "output_type": "execute_result"
    }
   ],
   "source": [
    "garden.index('\\n\\n\\n2. THE')"
   ]
  },
  {
   "cell_type": "code",
   "execution_count": 74,
   "metadata": {},
   "outputs": [
    {
     "data": {
      "text/plain": [
       "104246"
      ]
     },
     "execution_count": 74,
     "metadata": {},
     "output_type": "execute_result"
    }
   ],
   "source": [
    "garden.index('\\n\\n\\n3. THE')"
   ]
  },
  {
   "cell_type": "code",
   "execution_count": 76,
   "metadata": {},
   "outputs": [],
   "source": [
    "gardenParty = garden[74254:104246]"
   ]
  },
  {
   "cell_type": "code",
   "execution_count": 114,
   "metadata": {},
   "outputs": [],
   "source": [
    "gardenTokens = nltk.word_tokenize(gardenParty.lower())"
   ]
  },
  {
   "cell_type": "code",
   "execution_count": 82,
   "metadata": {},
   "outputs": [],
   "source": [
    "# gardenAlphaTokens = [token for token in gardenTokens if token.isalpha()]"
   ]
  },
  {
   "cell_type": "code",
   "execution_count": 84,
   "metadata": {},
   "outputs": [],
   "source": [
    "lemmatizer = nltk.stem.WordNetLemmatizer()\n",
    "stemmer = nltk.stem.LancasterStemmer()"
   ]
  },
  {
   "cell_type": "code",
   "execution_count": null,
   "metadata": {},
   "outputs": [],
   "source": [
    "lemmatizer.lemmatize"
   ]
  },
  {
   "cell_type": "code",
   "execution_count": 97,
   "metadata": {},
   "outputs": [],
   "source": [
    "gardenLemmas = [lemmatizer.lemmatize(token) for token in gardenTokens]"
   ]
  },
  {
   "cell_type": "code",
   "execution_count": 90,
   "metadata": {},
   "outputs": [
    {
     "data": {
      "text/plain": [
       "8"
      ]
     },
     "execution_count": 90,
     "metadata": {},
     "output_type": "execute_result"
    }
   ],
   "source": [
    "dog.min_depth()"
   ]
  },
  {
   "cell_type": "code",
   "execution_count": 95,
   "metadata": {},
   "outputs": [
    {
     "data": {
      "text/plain": [
       "Synset('living_thing.n.01')"
      ]
     },
     "execution_count": 95,
     "metadata": {},
     "output_type": "execute_result"
    }
   ],
   "source": [
    "dog.hypernyms()[0].hypernyms()[0].hypernyms()[0].hypernyms()[0].hypernyms()[0].hypernyms()[0].hypernyms()[0].hypernyms()[0].hypernyms()[0]"
   ]
  },
  {
   "cell_type": "markdown",
   "metadata": {},
   "source": [
    "## POS Analysis: Parts of Speech\n",
    "\n",
    "- Nouns: people, places, things\n",
    "- Adjectives: descriptors: blue, happy, miserable, huge\n",
    "- Verbs: actions: run, jump, write\n",
    "\n",
    "POS Parsing / POS disambiguation\n",
    "\n",
    "bank / bear\n",
    "\n",
    "He deposited money at the bank. <- Bank (n) \n",
    "You can bank on it. <- Bank (v) \n",
    "\n",
    "He couldn't bear it. <- bear (v) \n",
    "He saw a terrifying bear! <- bear (n) \n",
    "\n"
   ]
  },
  {
   "cell_type": "code",
   "execution_count": 115,
   "metadata": {},
   "outputs": [],
   "source": [
    "gardenPOS = nltk.pos_tag(gardenTokens)"
   ]
  },
  {
   "cell_type": "code",
   "execution_count": 117,
   "metadata": {},
   "outputs": [],
   "source": [
    "gardenNouns = set([word for word, pos in gardenPOS if pos == 'NN'])"
   ]
  },
  {
   "cell_type": "markdown",
   "metadata": {},
   "source": [
    "- Walk up the hypernym tree for each noun, until the `min_depth()` is 3. \n",
    "- Categorize each noun according their hypernyms at that level. "
   ]
  },
  {
   "cell_type": "code",
   "execution_count": 163,
   "metadata": {},
   "outputs": [],
   "source": [
    "def getHypernymLevel3(word): \n",
    "    synsets = wn.synsets(word)\n",
    "    if len(synsets) > 0: \n",
    "        synset = synsets[0]\n",
    "        while synset.min_depth() > 4: \n",
    "            hypernyms = synset.hypernyms()\n",
    "            if len(hypernyms) > 0:\n",
    "                synset = hypernyms[0]\n",
    "            else: \n",
    "                break\n",
    "        return synset\n",
    "    else: \n",
    "        return"
   ]
  },
  {
   "cell_type": "markdown",
   "metadata": {},
   "source": [
    "## While Loops\n",
    "\n",
    "```python\n",
    "while (somecondition): \n",
    "    doSomething()\n",
    "```"
   ]
  },
  {
   "cell_type": "code",
   "execution_count": 167,
   "metadata": {},
   "outputs": [
    {
     "name": "stdout",
     "output_type": "stream",
     "text": [
      "0\n",
      "1\n",
      "2\n",
      "3\n",
      "4\n",
      "5\n",
      "6\n",
      "7\n",
      "8\n",
      "9\n"
     ]
    }
   ],
   "source": [
    "i = 0\n",
    "while i < 10: \n",
    "    print(i)\n",
    "    i += 1"
   ]
  },
  {
   "cell_type": "code",
   "execution_count": 135,
   "metadata": {},
   "outputs": [
    {
     "data": {
      "text/plain": [
       "Synset('living_thing.n.01')"
      ]
     },
     "execution_count": 135,
     "metadata": {},
     "output_type": "execute_result"
    }
   ],
   "source": [
    "getHypernymLevel3('plum')"
   ]
  },
  {
   "cell_type": "code",
   "execution_count": 139,
   "metadata": {},
   "outputs": [],
   "source": [
    "livingThing = wn.synsets('living_thing')[0]"
   ]
  },
  {
   "cell_type": "code",
   "execution_count": 141,
   "metadata": {},
   "outputs": [
    {
     "data": {
      "text/plain": [
       "True"
      ]
     },
     "execution_count": 141,
     "metadata": {},
     "output_type": "execute_result"
    }
   ],
   "source": [
    "livingThing == getHypernymLevel3('plum')"
   ]
  },
  {
   "cell_type": "code",
   "execution_count": 147,
   "metadata": {},
   "outputs": [
    {
     "data": {
      "text/plain": [
       "Synset('living_thing.n.01')"
      ]
     },
     "execution_count": 147,
     "metadata": {},
     "output_type": "execute_result"
    }
   ],
   "source": [
    "getHypernymLevel3('oak_tree')"
   ]
  },
  {
   "cell_type": "code",
   "execution_count": 156,
   "metadata": {},
   "outputs": [],
   "source": [
    "def isLivingThing(word): \n",
    "    hypernym = getHypernymLevel3(word)\n",
    "    if hypernym is not None: \n",
    "        return getHypernymLevel3(word) == livingThing\n",
    "    else: \n",
    "        return False"
   ]
  },
  {
   "cell_type": "code",
   "execution_count": 148,
   "metadata": {},
   "outputs": [
    {
     "data": {
      "text/plain": [
       "True"
      ]
     },
     "execution_count": 148,
     "metadata": {},
     "output_type": "execute_result"
    }
   ],
   "source": [
    "isLivingThing('oak_tree')"
   ]
  },
  {
   "cell_type": "code",
   "execution_count": 166,
   "metadata": {},
   "outputs": [
    {
     "data": {
      "text/plain": [
       "['egg',\n",
       " 'bushes',\n",
       " 'canna',\n",
       " 'butterfly',\n",
       " 'grass',\n",
       " 'creature',\n",
       " 'lavender',\n",
       " 'horse',\n",
       " 'dog',\n",
       " 'sang',\n",
       " 'mice',\n",
       " 'daisy',\n",
       " 'hen']"
      ]
     },
     "execution_count": 166,
     "metadata": {},
     "output_type": "execute_result"
    }
   ],
   "source": [
    "[token for token in list(gardenNouns) if isLivingThing(token)]"
   ]
  },
  {
   "cell_type": "code",
   "execution_count": 171,
   "metadata": {},
   "outputs": [
    {
     "data": {
      "text/plain": [
       "29992"
      ]
     },
     "execution_count": 171,
     "metadata": {},
     "output_type": "execute_result"
    }
   ],
   "source": [
    "open('garden-party.txt', 'w').write(gardenParty)"
   ]
  },
  {
   "cell_type": "code",
   "execution_count": 170,
   "metadata": {},
   "outputs": [
    {
     "data": {
      "text/plain": [
       "'\\n\\n\\n2. THE GARDEN PARTY.\\n--------------------\\n\\nAnd after all the weather was ideal. They could not have had a more\\nperfect day for a garden-party if they had ordered it. Windless, warm,\\nthe sky without a cloud. Only the blue was veiled with a haze of light\\ngold, as it is sometimes in early summer. The gardener had been up since\\ndawn, mowing the lawns and sweeping them, until the grass and the dark\\nflat rosettes where the daisy plants had been seemed to shine. As for\\nthe roses, you could not help feeling they understood that roses are the\\nonly flowers that impress people at garden-parties; the only flowers\\nthat everybody is certain of knowing. Hundreds, yes, literally hundreds,\\nhad come out in a single night; the green bushes bowed down as though\\nthey had been visited by archangels.\\n\\nBreakfast was not yet over before the men came to put up the marquee.\\n\\n\"Where do you want the marquee put, mother?\"\\n\\n\"My dear child, it\\'s no use asking me. I\\'m determined to leave\\neverything to you children this year. Forget I am your mother. Treat me\\nas an honoured guest.\"\\n\\nBut Meg could not possibly go and supervise the men. She had washed her\\nhair before breakfast, and she sat drinking her coffee in a green\\nturban, with a dark wet curl stamped on each cheek. Jose, the butterfly,\\nalways came down in a silk petticoat and a kimono jacket.\\n\\n\"You\\'ll have to go, Laura; you\\'re the artistic one.\"\\n\\nAway Laura flew, still holding her piece of bread-and-butter. It\\'s so\\ndelicious to have an excuse for eating out of doors, and besides, she\\nloved having to arrange things; she always felt she could do it so much\\nbetter than anybody else.\\n\\nFour men in their shirt-sleeves stood grouped together on the garden\\npath. They carried staves covered with rolls of canvas, and they had big\\ntool-bags slung on their backs. They looked impressive. Laura wished now\\nthat she had not got the bread-and-butter, but there was nowhere to put\\nit, and she couldn\\'t possibly throw it away. She blushed and tried to\\nlook severe and even a little bit short-sighted as she came up to them.\\n\\n\"Good morning,\" she said, copying her mother\\'s voice. But that\\nsounded so fearfully affected that she was ashamed, and stammered like a\\nlittle girl, \"Oh---er---have you come---is it about the marquee?\"\\n\\n\"That\\'s right, miss,\" said the tallest of the men, a lanky, freckled\\nfellow, and he shifted his tool-bag, knocked back his straw hat and\\nsmiled down at her. \"That\\'s about it.\"\\n\\nHis smile was so easy, so friendly that Laura recovered. What nice eyes\\nhe had, small, but such a dark blue! And now she looked at the others,\\nthey were smiling too. \"Cheer up, we won\\'t bite,\" their smile seemed\\nto say. How very nice workmen were! And what a beautiful morning! She\\nmustn\\'t mention the morning; she must be business-like. The marquee.\\n\\n\"Well, what about the lily-lawn? Would that do?\"\\n\\nAnd she pointed to the lily-lawn with the hand that didn\\'t hold the\\nbread-and-butter. They turned, they stared in the direction. A little\\nfat chap thrust out his under-lip, and the tall fellow frowned.\\n\\n\"I don\\'t fancy it,\" said he. \"Not conspicuous enough. You see, with\\na thing like a marquee,\" and he turned to Laura in his easy way, \"you\\nwant to put it somewhere where it\\'ll give you a bang slap in the eye,\\nif you follow me.\"\\n\\nLaura\\'s upbringing made her wonder for a moment whether it was quite\\nrespectful of a workman to talk to her of bangs slap in the eye. But she\\ndid quite follow him.\\n\\n\"A corner of the tennis-court,\" she suggested. \"But the band\\'s going\\nto be in one corner.\"\\n\\n\"H\\'m, going to have a band, are you?\" said another of the workmen. He\\nwas pale. He had a haggard look as his dark eyes scanned the\\ntennis-court. What was he thinking?\\n\\n\"Only a very small band,\" said Laura gently. Perhaps he wouldn\\'t mind\\nso much if the band was quite small. But the tall fellow interrupted.\\n\\n\"Look here, miss, that\\'s the place. Against those trees. Over there.\\nThat\\'ll do fine.\"\\n\\nAgainst the karakas. Then the karaka-trees would be hidden. And they\\nwere so lovely, with their broad, gleaming leaves, and their clusters of\\nyellow fruit. They were like trees you imagined growing on a desert\\nisland, proud, solitary, lifting their leaves and fruits to the sun in a\\nkind of silent splendour. Must they be hidden by a marquee?\\n\\nThey must. Already the men had shouldered their staves and were making\\nfor the place. Only the tall fellow was left. He bent down, pinched a\\nsprig of lavender, put his thumb and forefinger to his nose and snuffed\\nup the smell. When Laura saw that gesture she forgot all about the\\nkarakas in her wonder at him caring for things like that---caring for\\nthe smell of lavender. How many men that she knew would have done such a\\nthing? Oh, how extraordinarily nice workmen were, she thought. Why\\ncouldn\\'t she have workmen for her friends rather than the silly boys\\nshe danced with and who came to Sunday night supper? She would get on\\nmuch better with men like these.\\n\\nIt\\'s all the fault, she decided, as the tall fellow drew something on\\nthe back of an envelope, something that was to be looped up or left to\\nhang, of these absurd class distinctions. Well, for her part, she\\ndidn\\'t feel them. Not a bit, not an atom\\\\... And now there came the\\nchock-chock of wooden hammers. Some one whistled, some one sang out,\\n\"Are you right there, matey?\" \"Matey!\" The friendliness of it,\\nthe---the---Just to prove how happy she was, just to show the tall\\nfellow how at home she felt, and how she despised stupid conventions,\\nLaura took a big bite of her bread-and-butter as she stared at the\\nlittle drawing. She felt just like a work-girl.\\n\\n\"Laura, Laura, where are you? Telephone, Laura!\" a voice cried from\\nthe house.\\n\\n\"Coming!\" Away she skimmed, over the lawn, up the path, up the steps,\\nacross the veranda, and into the porch. In the hall her father and\\nLaurie were brushing their hats ready to go to the office.\\n\\n\"I say, Laura,\" said Laurie very fast, \"you might just give a squiz\\nat my coat before this afternoon. See if it wants pressing.\"\\n\\n\"I will,\" said she. Suddenly she couldn\\'t stop herself. She ran at\\nLaurie and gave him a small, quick squeeze. \"Oh, I do love parties,\\ndon\\'t you?\" gasped Laura.\\n\\n\"Ra-ther,\" said Laurie\\'s warm, boyish voice, and he squeezed his\\nsister too, and gave her a gentle push. \"Dash off to the telephone, old\\ngirl.\"\\n\\nThe telephone. \"Yes, yes; oh yes. Kitty? Good morning, dear. Come to\\nlunch? Do, dear. Delighted of course. It will only be a very scratch\\nmeal---just the sandwich crusts and broken meringue-shells and what\\'s\\nleft over. Yes, isn\\'t it a perfect morning? Your white? Oh, I certainly\\nshould. One moment---hold the line. Mother\\'s calling.\" And Laura sat\\nback. \"What, mother? Can\\'t hear.\"\\n\\nMrs. Sheridan\\'s voice floated down the stairs. \"Tell her to wear that\\nsweet hat she had on last Sunday.\"\\n\\n\"Mother says you\\'re to wear that sweet hat you had on last Sunday.\\nGood. One o\\'clock. Bye-bye.\"\\n\\nLaura put back the receiver, flung her arms over her head, took a deep\\nbreath, stretched and let them fall. \"Huh,\" she sighed, and the moment\\nafter the sigh she sat up quickly. She was still, listening. All the\\ndoors in the house seemed to be open. The house was alive with soft,\\nquick steps and running voices. The green baize door that led to the\\nkitchen regions swung open and shut with a muffled thud. And now there\\ncame a long, chuckling absurd sound. It was the heavy piano being moved\\non its stiff castors. But the air! If you stopped to notice, was the air\\nalways like this? Little faint winds were playing chase, in at the tops\\nof the windows, out at the doors. And there were two tiny spots of sun,\\none on the inkpot, one on a silver photograph frame, playing too.\\nDarling little spots. Especially the one on the inkpot lid. It was quite\\nwarm. A warm little silver star. She could have kissed it.\\n\\nThe front door bell pealed, and there sounded the rustle of Sadie\\'s\\nprint skirt on the stairs. A man\\'s voice murmured; Sadie answered,\\ncareless, \"I\\'m sure I don\\'t know. Wait. I\\'ll ask Mrs Sheridan.\"\\n\\n\"What is it, Sadie?\" Laura came into the hall.\\n\\n\"It\\'s the florist, Miss Laura.\"\\n\\nIt was, indeed. There, just inside the door, stood a wide, shallow tray\\nfull of pots of pink lilies. No other kind. Nothing but lilies---canna\\nlilies, big pink flowers, wide open, radiant, almost frighteningly alive\\non bright crimson stems.\\n\\n\"O-oh, Sadie!\" said Laura, and the sound was like a little moan. She\\ncrouched down as if to warm herself at that blaze of lilies; she felt\\nthey were in her fingers, on her lips, growing in her breast.\\n\\n\"It\\'s some mistake,\" she said faintly. \"Nobody ever ordered so many.\\nSadie, go and find mother.\"\\n\\nBut at that moment Mrs. Sheridan joined them.\\n\\n\"It\\'s quite right,\" she said calmly. \"Yes, I ordered them. Aren\\'t\\nthey lovely?\" She pressed Laura\\'s arm. \"I was passing the shop\\nyesterday, and I saw them in the window. And I suddenly thought for once\\nin my life I shall have enough canna lilies. The garden-party will be a\\ngood excuse.\"\\n\\n\"But I thought you said you didn\\'t mean to interfere,\" said Laura.\\nSadie had gone. The florist\\'s man was still outside at his van. She put\\nher arm round her mother\\'s neck and gently, very gently, she bit her\\nmother\\'s ear.\\n\\n\"My darling child, you wouldn\\'t like a logical mother, would you?\\nDon\\'t do that. Here\\'s the man.\"\\n\\nHe carried more lilies still, another whole tray.\\n\\n\"Bank them up, just inside the door, on both sides of the porch,\\nplease,\" said Mrs. Sheridan. \"Don\\'t you agree, Laura?\"\\n\\n\"Oh, I do, mother.\"\\n\\nIn the drawing-room Meg, Jose and good little Hans had at last succeeded\\nin moving the piano.\\n\\n\"Now, if we put this chesterfield against the wall and move everything\\nout of the room except the chairs, don\\'t you think?\"\\n\\n\"Quite.\"\\n\\n\"Hans, move these tables into the smoking-room, and bring a sweeper to\\ntake these marks off the carpet and---one moment, Hans---\" Jose loved\\ngiving orders to the servants, and they loved obeying her. She always\\nmade them feel they were taking part in some drama. \"Tell mother and\\nMiss Laura to come here at once.\\n\\n\"Very good, Miss Jose.\"\\n\\nShe turned to Meg. \"I want to hear what the piano sounds like, just in\\ncase I\\'m asked to sing this afternoon. Let\\'s try over \\'This life is\\nWeary.\\'\"\\n\\nPom! Ta-ta-ta Tee-ta! The piano burst out so passionately that Jose\\'s\\nface changed. She clasped her hands. She looked mournfully and\\nenigmatically at her mother and Laura as they came in.\\n\\n         \"This Life is Wee-ary,\\n          A Tear—a Sigh.\\n          A Love that Chan-ges,\\n            This Life is Wee-ary,\\n          A Tear—a Sigh.\\n          A Love that Chan-ges,\\n          And then... Good-bye!\"\\n\\nBut at the word \"Good-bye,\" and although the piano sounded more\\ndesperate than ever, her face broke into a brilliant, dreadfully\\nunsympathetic smile.\\n\\n\"Aren\\'t I in good voice, mummy?\" she beamed.\\n\\n         \"This Life is Wee-ary,\\n          Hope comes to Die.\\n          A Dream—a Wa-kening.\"\\n\\nBut now Sadie interrupted them. \"What is it, Sadie?\"\\n\\n\"If you please, m\\'m, cook says have you got the flags for the\\nsandwiches?\"\\n\\n\"The flags for the sandwiches, Sadie?\" echoed Mrs. Sheridan dreamily.\\nAnd the children knew by her face that she hadn\\'t got them. \"Let me\\nsee.\" And she said to Sadie firmly, \"Tell cook I\\'ll let her have them\\nin ten minutes.\"\\n\\nSadie went.\\n\\n\"Now, Laura,\" said her mother quickly, \"come with me into the\\nsmoking-room. I\\'ve got the names somewhere on the back of an envelope.\\nYou\\'ll have to write them out for me. Meg, go upstairs this minute and\\ntake that wet thing off your head. Jose, run and finish dressing this\\ninstant. Do you hear me, children, or shall I have to tell your father\\nwhen he comes home to-night? And---and, Jose, pacify cook if you do go\\ninto the kitchen, will you? I\\'m terrified of her this morning.\"\\n\\nThe envelope was found at last behind the dining-room clock, though how\\nit had got there Mrs. Sheridan could not imagine.\\n\\n\"One of you children must have stolen it out of my bag, because I\\nremember vividly---cream cheese and lemon-curd. Have you done that?\"\\n\\n\"Yes.\"\\n\\n\"Egg and---\" Mrs. Sheridan held the envelope away from her. \"It looks\\nlike mice. It can\\'t be mice, can it?\"\\n\\n\"Olive, pet,\" said Laura, looking over her shoulder.\\n\\n\"Yes, of course, olive. What a horrible combination it sounds. Egg and\\nolive.\"\\n\\nThey were finished at last, and Laura took them off to the kitchen. She\\nfound Jose there pacifying the cook, who did not look at all terrifying.\\n\\n\"I have never seen such exquisite sandwiches,\" said Jose\\'s rapturous\\nvoice. \"How many kinds did you say there were, cook? Fifteen?\"\\n\\n\"Fifteen, Miss Jose.\"\\n\\n\"Well, cook, I congratulate you.\"\\n\\nCook swept up crusts with the long sandwich knife, and smiled broadly.\\n\\n\"Godber\\'s has come,\" announced Sadie, issuing out of the pantry. She\\nhad seen the man pass the window.\\n\\nThat meant the cream puffs had come. Godber\\'s were famous for their\\ncream puffs. Nobody ever thought of making them at home.\\n\\n\"Bring them in and put them on the table, my girl,\" ordered cook.\\n\\nSadie brought them in and went back to the door. Of course Laura and\\nJose were far too grown-up to really care about such things. All the\\nsame, they couldn\\'t help agreeing that the puffs looked very\\nattractive. Very. Cook began arranging them, shaking off the extra icing\\nsugar.\\n\\n\"Don\\'t they carry one back to all one\\'s parties?\" said Laura.\\n\\n\"I suppose they do,\" said practical Jose, who never liked to be\\ncarried back. \"They look beautifully light and feathery, I must say.\"\\n\\n\"Have one each, my dears,\" said cook in her comfortable voice. \"Yer\\nma won\\'t know.\"\\n\\nOh, impossible. Fancy cream puffs so soon after breakfast. The very idea\\nmade one shudder. All the same, two minutes later Jose and Laura were\\nlicking their fingers with that absorbed inward look that only comes\\nfrom whipped cream.\\n\\n\"Let\\'s go into the garden, out by the back way,\" suggested Laura. \"I\\nwant to see how the men are getting on with the marquee. They\\'re such\\nawfully nice men.\"\\n\\nBut the back door was blocked by cook, Sadie, Godber\\'s man and Hans.\\n\\nSomething had happened.\\n\\n\"Tuk-tuk-tuk,\" clucked cook like an agitated hen. Sadie had her hand\\nclapped to her cheek as though she had toothache. Hans\\'s face was\\nscrewed up in the effort to understand. Only Godber\\'s man seemed to be\\nenjoying himself; it was his story.\\n\\n\"What\\'s the matter? What\\'s happened?\"\\n\\n\"There\\'s been a horrible accident,\" said Cook. \"A man killed.\"\\n\\n\"A man killed! Where? How? When?\"\\n\\nBut Godber\\'s man wasn\\'t going to have his story snatched from under\\nhis very nose.\\n\\n\"Know those little cottages just below here, miss?\" Know them? Of\\ncourse, she knew them. \"Well, there\\'s a young chap living there, name\\nof Scott, a carter. His horse shied at a traction-engine, corner of\\nHawke Street this morning, and he was thrown out on the back of his\\nhead. Killed.\"\\n\\n\"Dead!\" Laura stared at Godber\\'s man.\\n\\n\"Dead when they picked him up,\" said Godber\\'s man with relish. \"They\\nwere taking the body home as I come up here.\" And he said to the cook,\\n\"He\\'s left a wife and five little ones.\"\\n\\n\"Jose, come here.\" Laura caught hold of her sister\\'s sleeve and\\ndragged her through the kitchen to the other side of the green baize\\ndoor. There she paused and leaned against it. \"Jose!\" she said,\\nhorrified, \"however are we going to stop everything?\"\\n\\n\"Stop everything, Laura!\" cried Jose in astonishment. \"What do you\\nmean?\"\\n\\n\"Stop the garden-party, of course.\" Why did Jose pretend?\\n\\nBut Jose was still more amazed. \"Stop the garden-party? My dear Laura,\\ndon\\'t be so absurd. Of course we can\\'t do anything of the kind. Nobody\\nexpects us to. Don\\'t be so extravagant.\"\\n\\n\"But we can\\'t possibly have a garden-party with a man dead just\\noutside the front gate.\"\\n\\nThat really was extravagant, for the little cottages were in a lane to\\nthemselves at the very bottom of a steep rise that led up to the house.\\nA broad road ran between. True, they were far too near. They were the\\ngreatest possible eyesore, and they had no right to be in that\\nneighbourhood at all. They were little mean dwellings painted a\\nchocolate brown. In the garden patches there was nothing but cabbage\\nstalks, sick hens and tomato cans. The very smoke coming out of their\\nchimneys was poverty-stricken. Little rags and shreds of smoke, so\\nunlike the great silvery plumes that uncurled from the Sheridans\\'\\nchimneys. Washerwomen lived in the lane and sweeps and a cobbler, and a\\nman whose house-front was studded all over with minute bird-cages.\\nChildren swarmed. When the Sheridans were little they were forbidden to\\nset foot there because of the revolting language and of what they might\\ncatch. But since they were grown up, Laura and Laurie on their prowls\\nsometimes walked through. It was disgusting and sordid. They came out\\nwith a shudder. But still one must go everywhere; one must see\\neverything. So through they went.\\n\\n\"And just think of what the band would sound like to that poor woman,\"\\nsaid Laura.\\n\\n\"Oh, Laura!\" Jose began to be seriously annoyed. \"If you\\'re going to\\nstop a band playing every time some one has an accident, you\\'ll lead a\\nvery strenuous life. I\\'m every bit as sorry about it as you. I feel\\njust as sympathetic.\" Her eyes hardened. She looked at her sister just\\nas she used to when they were little and fighting together. \"You won\\'t\\nbring a drunken workman back to life by being sentimental,\" she said\\nsoftly.\\n\\n\"Drunk! Who said he was drunk?\" Laura turned furiously on Jose. She\\nsaid, just as they had used to say on those occasions, \"I\\'m going\\nstraight up to tell mother.\"\\n\\n\"Do, dear,\" cooed Jose.\\n\\n\"Mother, can I come into your room?\" Laura turned the big glass\\ndoor-knob.\\n\\n\"Of course, child. Why, what\\'s the matter? What\\'s given you such a\\ncolour?\" And Mrs. Sheridan turned round from her dressing-table. She\\nwas trying on a new hat.\\n\\n\"Mother, a man\\'s been killed,\" began Laura.\\n\\n\"Not in the garden?\" interrupted her mother.\\n\\n\"No, no!\"\\n\\n\"Oh, what a fright you gave me!\" Mrs. Sheridan sighed with relief, and\\ntook off the big hat and held it on her knees.\\n\\n\"But listen, mother,\" said Laura. Breathless, half-choking, she told\\nthe dreadful story. \"Of course, we can\\'t have our party, can we?\" she\\npleaded. \"The band and everybody arriving. They\\'d hear us, mother;\\nthey\\'re nearly neighbours!\"\\n\\nTo Laura\\'s astonishment her mother behaved just like Jose; it was\\nharder to bear because she seemed amused. She refused to take Laura\\nseriously.\\n\\n\"But, my dear child, use your common sense. It\\'s only by accident\\nwe\\'ve heard of it. If some one had died there normally---and I can\\'t\\nunderstand how they keep alive in those poky little holes---we should\\nstill be having our party, shouldn\\'t we?\"\\n\\nLaura had to say \"yes\" to that, but she felt it was all wrong. She sat\\ndown on her mother\\'s sofa and pinched the cushion frill.\\n\\n\"Mother, isn\\'t it terribly heartless of us?\" she asked.\\n\\n\"Darling!\" Mrs. Sheridan got up and came over to her, carrying the\\nhat. Before Laura could stop her she had popped it on. \"My child!\"\\nsaid her mother, \"the hat is yours. It\\'s made for you. It\\'s much too\\nyoung for me. I have never seen you look such a picture. Look at\\nyourself!\" And she held up her hand-mirror.\\n\\n\"But, mother,\" Laura began again. She couldn\\'t look at herself; she\\nturned aside.\\n\\nThis time Mrs. Sheridan lost patience just as Jose had done.\\n\\n\"You are being very absurd, Laura,\" she said coldly. \"People like\\nthat don\\'t expect sacrifices from us. And it\\'s not very sympathetic to\\nspoil everybody\\'s enjoyment as you\\'re doing now.\"\\n\\n\"I don\\'t understand,\" said Laura, and she walked quickly out of the\\nroom into her own bedroom. There, quite by chance, the first thing she\\nsaw was this charming girl in the mirror, in her black hat trimmed with\\ngold daisies, and a long black velvet ribbon. Never had she imagined she\\ncould look like that. Is mother right? she thought. And now she hoped\\nher mother was right. Am I being extravagant? Perhaps it was\\nextravagant. Just for a moment she had another glimpse of that poor\\nwoman and those little children, and the body being carried into the\\nhouse. But it all seemed blurred, unreal, like a picture in the\\nnewspaper. I\\'ll remember it again after the party\\'s over, she decided.\\nAnd somehow that seemed quite the best plan\\\\...\\n\\nLunch was over by half-past one. By half-past two they were all ready\\nfor the fray. The green-coated band had arrived and was established in a\\ncorner of the tennis-court.\\n\\n\"My dear!\" trilled Kitty Maitland, \"aren\\'t they too like frogs for\\nwords? You ought to have arranged them round the pond with the conductor\\nin the middle on a leaf.\"\\n\\nLaurie arrived and hailed them on his way to dress. At the sight of him\\nLaura remembered the accident again. She wanted to tell him. If Laurie\\nagreed with the others, then it was bound to be all right. And she\\nfollowed him into the hall.\\n\\n\"Laurie!\"\\n\\n\"Hallo!\" He was half-way upstairs, but when he turned round and saw\\nLaura he suddenly puffed out his cheeks and goggled his eyes at her.\\n\"My word, Laura! You do look stunning,\" said Laurie. \"What an\\nabsolutely topping hat!\"\\n\\nLaura said faintly \"Is it?\" and smiled up at Laurie, and didn\\'t tell\\nhim after all.\\n\\nSoon after that people began coming in streams. The band struck up; the\\nhired waiters ran from the house to the marquee. Wherever you looked\\nthere were couples strolling, bending to the flowers, greeting, moving\\non over the lawn. They were like bright birds that had alighted in the\\nSheridans\\' garden for this one afternoon, on their way to---where? Ah,\\nwhat happiness it is to be with people who all are happy, to press\\nhands, press cheeks, smile into eyes.\\n\\n\"Darling Laura, how well you look!\"\\n\\n\"What a becoming hat, child!\"\\n\\n\"Laura, you look quite Spanish. I\\'ve never seen you look so\\nstriking.\"\\n\\nAnd Laura, glowing, answered softly, \"Have you had tea? Won\\'t you have\\nan ice? The passion-fruit ices really are rather special.\" She ran to\\nher father and begged him. \"Daddy darling, can\\'t the band have\\nsomething to drink?\"\\n\\nAnd the perfect afternoon slowly ripened, slowly faded, slowly its\\npetals closed.\\n\\n\"Never a more delightful garden-party\\\\... \" \"The greatest success\\\\...\\n\" \"Quite the most\\\\... \"\\n\\nLaura helped her mother with the good-byes. They stood side by side in\\nthe porch till it was all over.\\n\\n\"All over, all over, thank heaven,\" said Mrs. Sheridan. \"Round up the\\nothers, Laura. Let\\'s go and have some fresh coffee. I\\'m exhausted.\\nYes, it\\'s been very successful. But oh, these parties, these parties!\\nWhy will you children insist on giving parties!\" And they all of them\\nsat down in the deserted marquee.\\n\\n\"Have a sandwich, daddy dear. I wrote the flag.\"\\n\\n\"Thanks.\" Mr. Sheridan took a bite and the sandwich was gone. He took\\nanother. \"I suppose you didn\\'t hear of a beastly accident that\\nhappened to-day?\" he said.\\n\\n\"My dear,\" said Mrs. Sheridan, holding up her hand, \"we did. It\\nnearly ruined the party. Laura insisted we should put it off.\"\\n\\n\"Oh, mother!\" Laura didn\\'t want to be teased about it.\\n\\n\"It was a horrible affair all the same,\" said Mr. Sheridan. \"The chap\\nwas married too. Lived just below in the lane, and leaves a wife and\\nhalf a dozen kiddies, so they say.\"\\n\\nAn awkward little silence fell. Mrs. Sheridan fidgeted with her cup.\\nReally, it was very tactless of father\\\\...\\n\\nSuddenly she looked up. There on the table were all those sandwiches,\\ncakes, puffs, all uneaten, all going to be wasted. She had one of her\\nbrilliant ideas.\\n\\n\"I know,\" she said. \"Let\\'s make up a basket. Let\\'s send that poor\\ncreature some of this perfectly good food. At any rate, it will be the\\ngreatest treat for the children. Don\\'t you agree? And she\\'s sure to\\nhave neighbours calling in and so on. What a point to have it all ready\\nprepared. Laura!\" She jumped up. \"Get me the big basket out of the\\nstairs cupboard.\"\\n\\n\"But, mother, do you really think it\\'s a good idea?\" said Laura.\\n\\nAgain, how curious, she seemed to be different from them all. To take\\nscraps from their party. Would the poor woman really like that?\\n\\n\"Of course! What\\'s the matter with you to-day? An hour or two ago you\\nwere insisting on us being sympathetic, and now---\"\\n\\nOh well! Laura ran for the basket. It was filled, it was heaped by her\\nmother.\\n\\n\"Take it yourself, darling,\" said she. \"Run down just as you are. No,\\nwait, take the arum lilies too. People of that class are so impressed by\\narum lilies.\"\\n\\n\"The stems will ruin her lace frock,\" said practical Jose.\\n\\nSo they would. Just in time. \"Only the basket, then. And,\\nLaura!\"---her mother followed her out of the marquee---\"don\\'t on any\\naccount---\"\\n\\n\"What mother?\"\\n\\nNo, better not put such ideas into the child\\'s head! \"Nothing! Run\\nalong.\"\\n\\nIt was just growing dusky as Laura shut their garden gates. A big dog\\nran by like a shadow. The road gleamed white, and down below in the\\nhollow the little cottages were in deep shade. How quiet it seemed after\\nthe afternoon. Here she was going down the hill to somewhere where a man\\nlay dead, and she couldn\\'t realize it. Why couldn\\'t she? She stopped a\\nminute. And it seemed to her that kisses, voices, tinkling spoons,\\nlaughter, the smell of crushed grass were somehow inside her. She had no\\nroom for anything else. How strange! She looked up at the pale sky, and\\nall she thought was, \"Yes, it was the most successful party.\"\\n\\nNow the broad road was crossed. The lane began, smoky and dark. Women in\\nshawls and men\\'s tweed caps hurried by. Men hung over the palings; the\\nchildren played in the doorways. A low hum came from the mean little\\ncottages. In some of them there was a flicker of light, and a shadow,\\ncrab-like, moved across the window. Laura bent her head and hurried on.\\nShe wished now she had put on a coat. How her frock shone! And the big\\nhat with the velvet streamer---if only it was another hat! Were the\\npeople looking at her? They must be. It was a mistake to have come; she\\nknew all along it was a mistake. Should she go back even now?\\n\\nNo, too late. This was the house. It must be. A dark knot of people\\nstood outside. Beside the gate an old, old woman with a crutch sat in a\\nchair, watching. She had her feet on a newspaper. The voices stopped as\\nLaura drew near. The group parted. It was as though she was expected, as\\nthough they had known she was coming here.\\n\\nLaura was terribly nervous. Tossing the velvet ribbon over her shoulder,\\nshe said to a woman standing by, \"Is this Mrs. Scott\\'s house?\" and\\nthe woman, smiling queerly, said, \"It is, my lass.\"\\n\\nOh, to be away from this! She actually said, \"Help me, God,\" as she\\nwalked up the tiny path and knocked. To be away from those staring eyes,\\nor to be covered up in anything, one of those women\\'s shawls even.\\nI\\'ll just leave the basket and go, she decided. I shan\\'t even wait for\\nit to be emptied.\\n\\nThen the door opened. A little woman in black showed in the gloom.\\n\\nLaura said, \"Are you Mrs. Scott?\" But to her horror the woman\\nanswered, \"Walk in please, miss,\" and she was shut in the passage.\\n\\n\"No,\" said Laura, \"I don\\'t want to come in. I only want to leave\\nthis basket. Mother sent---\"\\n\\nThe little woman in the gloomy passage seemed not to have heard her.\\n\"Step this way, please, miss,\" she said in an oily voice, and Laura\\nfollowed her.\\n\\nShe found herself in a wretched little low kitchen, lighted by a smoky\\nlamp. There was a woman sitting before the fire.\\n\\n\"Em,\" said the little creature who had let her in. \"Em! It\\'s a young\\nlady.\" She turned to Laura. She said meaningly, \"I\\'m \\'er sister,\\nmiss. You\\'ll excuse \\'er, won\\'t you?\"\\n\\n\"Oh, but of course!\" said Laura. \"Please, please don\\'t disturb her.\\nI---I only want to leave---\"\\n\\nBut at that moment the woman at the fire turned round. Her face, puffed\\nup, red, with swollen eyes and swollen lips, looked terrible. She seemed\\nas though she couldn\\'t understand why Laura was there. What did it\\nmean? Why was this stranger standing in the kitchen with a basket? What\\nwas it all about? And the poor face puckered up again.\\n\\n\"All right, my dear,\" said the other. \"I\\'ll thenk the young lady.\"\\n\\nAnd again she began, \"You\\'ll excuse her, miss, I\\'m sure,\" and her\\nface, swollen too, tried an oily smile.\\n\\nLaura only wanted to get out, to get away. She was back in the passage.\\nThe door opened. She walked straight through into the bedroom, where the\\ndead man was lying.\\n\\n\"You\\'d like a look at \\'im, wouldn\\'t you?\" said Em\\'s sister, and\\nshe brushed past Laura over to the bed. \"Don\\'t be afraid, my\\nlass,\"---and now her voice sounded fond and sly, and fondly she drew\\ndown the sheet---\"\\'e looks a picture. There\\'s nothing to show. Come\\nalong, my dear.\"\\n\\nLaura came.\\n\\nThere lay a young man, fast asleep---sleeping so soundly, so deeply,\\nthat he was far, far away from them both. Oh, so remote, so peaceful. He\\nwas dreaming. Never wake him up again. His head was sunk in the pillow,\\nhis eyes were closed; they were blind under the closed eyelids. He was\\ngiven up to his dream. What did garden-parties and baskets and lace\\nfrocks matter to him? He was far from all those things. He was\\nwonderful, beautiful. While they were laughing and while the band was\\nplaying, this marvel had come to the lane. Happy\\\\... happy\\\\... All is\\nwell, said that sleeping face. This is just as it should be. I am\\ncontent.\\n\\nBut all the same you had to cry, and she couldn\\'t go out of the room\\nwithout saying something to him. Laura gave a loud childish sob.\\n\\n\"Forgive my hat,\" she said.\\n\\nAnd this time she didn\\'t wait for Em\\'s sister. She found her way out\\nof the door, down the path, past all those dark people. At the corner of\\nthe lane she met Laurie.\\n\\nHe stepped out of the shadow. \"Is that you, Laura?\"\\n\\n\"Yes.\"\\n\\n\"Mother was getting anxious. Was it all right?\"\\n\\n\"Yes, quite. Oh, Laurie!\" She took his arm, she pressed up against\\nhim.\\n\\n\"I say, you\\'re not crying, are you?\" asked her brother.\\n\\nLaura shook her head. She was.\\n\\nLaurie put his arm round her shoulder. \"Don\\'t cry,\" he said in his\\nwarm, loving voice. \"Was it awful?\"\\n\\n\"No,\" sobbed Laura. \"It was simply marvellous. But Laurie---\" She\\nstopped, she looked at her brother. \"Isn\\'t life,\" she stammered,\\n\"isn\\'t life---\" But what life was she couldn\\'t explain. No matter.\\nHe quite understood.\\n\\n\"Isn\\'t it, darling?\" said Laurie.\\n'"
      ]
     },
     "execution_count": 170,
     "metadata": {},
     "output_type": "execute_result"
    }
   ],
   "source": [
    "gardenParty"
   ]
  },
  {
   "cell_type": "code",
   "execution_count": null,
   "metadata": {},
   "outputs": [],
   "source": []
  }
 ],
 "metadata": {
  "kernelspec": {
   "display_name": "Python 3",
   "language": "python",
   "name": "python3"
  },
  "language_info": {
   "codemirror_mode": {
    "name": "ipython",
    "version": 3
   },
   "file_extension": ".py",
   "mimetype": "text/x-python",
   "name": "python",
   "nbconvert_exporter": "python",
   "pygments_lexer": "ipython3",
   "version": "3.7.7"
  }
 },
 "nbformat": 4,
 "nbformat_minor": 4
}
