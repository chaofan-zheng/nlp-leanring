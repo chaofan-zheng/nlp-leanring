{
 "cells": [
  {
   "cell_type": "markdown",
   "metadata": {},
   "source": [
    "# Plotting Things in Narrative Time"
   ]
  },
  {
   "cell_type": "code",
   "execution_count": 99,
   "metadata": {},
   "outputs": [],
   "source": [
    "import pandas as pd\n",
    "import nltk\n",
    "from collections import Counter"
   ]
  },
  {
   "cell_type": "code",
   "execution_count": 2,
   "metadata": {},
   "outputs": [],
   "source": [
    "moonstone = open('../Readings/content/texts/moonstone.md').read()"
   ]
  },
  {
   "cell_type": "code",
   "execution_count": 4,
   "metadata": {},
   "outputs": [],
   "source": [
    "moonstoneTokens = nltk.word_tokenize(moonstone.lower())"
   ]
  },
  {
   "cell_type": "code",
   "execution_count": 6,
   "metadata": {},
   "outputs": [
    {
     "data": {
      "text/plain": [
       "103"
      ]
     },
     "execution_count": 6,
     "metadata": {},
     "output_type": "execute_result"
    }
   ],
   "source": [
    "moonstoneTokens.index('herncastle')"
   ]
  },
  {
   "cell_type": "code",
   "execution_count": 8,
   "metadata": {},
   "outputs": [
    {
     "data": {
      "text/plain": [
       "[(1, 'a'), (2, 'b'), (3, 'c')]"
      ]
     },
     "execution_count": 8,
     "metadata": {},
     "output_type": "execute_result"
    }
   ],
   "source": [
    "list(zip([1, 2, 3], ['a', 'b', 'c']))"
   ]
  },
  {
   "cell_type": "code",
   "execution_count": 10,
   "metadata": {},
   "outputs": [
    {
     "data": {
      "text/plain": [
       "[(0, 'a'), (1, 'b'), (2, 'c')]"
      ]
     },
     "execution_count": 10,
     "metadata": {},
     "output_type": "execute_result"
    }
   ],
   "source": [
    "list(enumerate(['a', 'b', 'c']))"
   ]
  },
  {
   "cell_type": "code",
   "execution_count": 11,
   "metadata": {},
   "outputs": [],
   "source": [
    "moonstoneTokensEnumerated = enumerate(moonstoneTokens)"
   ]
  },
  {
   "cell_type": "code",
   "execution_count": 16,
   "metadata": {},
   "outputs": [
    {
     "name": "stdout",
     "output_type": "stream",
     "text": [
      "herncastle :  103\n",
      "herncastle :  1160\n",
      "herncastle :  1316\n",
      "herncastle :  1410\n",
      "herncastle :  1692\n",
      "herncastle :  1759\n",
      "herncastle :  1963\n",
      "herncastle :  2051\n",
      "herncastle :  2166\n",
      "herncastle :  2478\n",
      "herncastle :  2988\n",
      "herncastle :  14201\n",
      "herncastle :  14448\n",
      "herncastle :  15870\n",
      "herncastle :  17223\n",
      "herncastle :  21123\n",
      "herncastle :  37301\n",
      "herncastle :  92502\n",
      "herncastle :  130620\n",
      "herncastle :  132168\n",
      "herncastle :  139349\n",
      "herncastle :  141568\n",
      "herncastle :  141909\n",
      "herncastle :  142119\n",
      "herncastle :  142463\n",
      "herncastle :  143574\n",
      "herncastle :  143972\n"
     ]
    }
   ],
   "source": [
    "# As a for loop\n",
    "for i, token in enumerate(moonstoneTokens): \n",
    "    if token == 'herncastle': \n",
    "        print(token, ': ', str(i))"
   ]
  },
  {
   "cell_type": "code",
   "execution_count": 19,
   "metadata": {},
   "outputs": [],
   "source": [
    "herncastleLocations = [i for i, token in enumerate(moonstoneTokens) if token == 'herncastle']"
   ]
  },
  {
   "cell_type": "code",
   "execution_count": 20,
   "metadata": {},
   "outputs": [
    {
     "data": {
      "text/plain": [
       "[103,\n",
       " 1160,\n",
       " 1316,\n",
       " 1410,\n",
       " 1692,\n",
       " 1759,\n",
       " 1963,\n",
       " 2051,\n",
       " 2166,\n",
       " 2478,\n",
       " 2988,\n",
       " 14201,\n",
       " 14448,\n",
       " 15870,\n",
       " 17223,\n",
       " 21123,\n",
       " 37301,\n",
       " 92502,\n",
       " 130620,\n",
       " 132168,\n",
       " 139349,\n",
       " 141568,\n",
       " 141909,\n",
       " 142119,\n",
       " 142463,\n",
       " 143574,\n",
       " 143972]"
      ]
     },
     "execution_count": 20,
     "metadata": {},
     "output_type": "execute_result"
    }
   ],
   "source": [
    "herncastleLocations"
   ]
  },
  {
   "cell_type": "markdown",
   "metadata": {},
   "source": [
    "## Binning\n",
    "\n",
    "Given a list of something, we want to make a histogram, where we count the number of things in each category. \n",
    "\n",
    "Ex: Ages: 14, 14, 14, 15, 18, 30, 45, 60, 75, 100\n",
    "\n",
    "0-12, 13-18, 19-30, 31-50 \n",
    "--------------------------\n",
    " 0      5      1     1\n",
    " "
   ]
  },
  {
   "cell_type": "code",
   "execution_count": 24,
   "metadata": {},
   "outputs": [],
   "source": [
    "categories, bins = pd.cut(range(len(moonstoneTokens)), bins=10, retbins=True)"
   ]
  },
  {
   "cell_type": "code",
   "execution_count": 25,
   "metadata": {},
   "outputs": [
    {
     "data": {
      "text/plain": [
       "array([  -233.922,  23392.2  ,  46784.4  ,  70176.6  ,  93568.8  ,\n",
       "       116961.   , 140353.2  , 163745.4  , 187137.6  , 210529.8  ,\n",
       "       233922.   ])"
      ]
     },
     "execution_count": 25,
     "metadata": {},
     "output_type": "execute_result"
    }
   ],
   "source": [
    "bins"
   ]
  },
  {
   "cell_type": "code",
   "execution_count": 29,
   "metadata": {},
   "outputs": [],
   "source": [
    "herncastleBinned = pd.cut(herncastleLocations, bins).value_counts()"
   ]
  },
  {
   "cell_type": "code",
   "execution_count": 33,
   "metadata": {},
   "outputs": [
    {
     "data": {
      "text/plain": [
       "<matplotlib.axes._subplots.AxesSubplot at 0x7f4570d1f850>"
      ]
     },
     "execution_count": 33,
     "metadata": {},
     "output_type": "execute_result"
    },
    {
     "data": {
      "image/png": "[encoded data removed]",
      "text/plain": [
       "<Figure size 720x288 with 1 Axes>"
      ]
     },
     "metadata": {
      "needs_background": "light"
     },
     "output_type": "display_data"
    }
   ],
   "source": [
    "herncastleBinned.plot(figsize=(10,4))"
   ]
  },
  {
   "cell_type": "code",
   "execution_count": 128,
   "metadata": {},
   "outputs": [],
   "source": [
    "def binTokens(word, nBins=10): \n",
    "    indices = [i for i, token in enumerate(moonstoneTokens) if token == word]\n",
    "    categories, bins = pd.cut(range(len(moonstoneTokens)), bins=nBins, retbins=True)\n",
    "    binned = pd.cut(indices, bins).value_counts()\n",
    "    return binned"
   ]
  },
  {
   "cell_type": "code",
   "execution_count": 129,
   "metadata": {},
   "outputs": [
    {
     "data": {
      "text/html": [
       "<div>\n",
       "<style scoped>\n",
       "    .dataframe tbody tr th:only-of-type {\n",
       "        vertical-align: middle;\n",
       "    }\n",
       "\n",
       "    .dataframe tbody tr th {\n",
       "        vertical-align: top;\n",
       "    }\n",
       "\n",
       "    .dataframe thead th {\n",
       "        text-align: right;\n",
       "    }\n",
       "</style>\n",
       "<table border=\"1\" class=\"dataframe\">\n",
       "  <thead>\n",
       "    <tr style=\"text-align: right;\">\n",
       "      <th></th>\n",
       "      <th>herncastle</th>\n",
       "      <th>diamond</th>\n",
       "    </tr>\n",
       "  </thead>\n",
       "  <tbody>\n",
       "    <tr>\n",
       "      <th>(-233.922, 23392.2]</th>\n",
       "      <td>16</td>\n",
       "      <td>65</td>\n",
       "    </tr>\n",
       "    <tr>\n",
       "      <th>(23392.2, 46784.4]</th>\n",
       "      <td>1</td>\n",
       "      <td>53</td>\n",
       "    </tr>\n",
       "    <tr>\n",
       "      <th>(46784.4, 70176.6]</th>\n",
       "      <td>0</td>\n",
       "      <td>21</td>\n",
       "    </tr>\n",
       "    <tr>\n",
       "      <th>(70176.6, 93568.8]</th>\n",
       "      <td>1</td>\n",
       "      <td>24</td>\n",
       "    </tr>\n",
       "    <tr>\n",
       "      <th>(93568.8, 116961.0]</th>\n",
       "      <td>0</td>\n",
       "      <td>12</td>\n",
       "    </tr>\n",
       "    <tr>\n",
       "      <th>(116961.0, 140353.2]</th>\n",
       "      <td>3</td>\n",
       "      <td>5</td>\n",
       "    </tr>\n",
       "    <tr>\n",
       "      <th>(140353.2, 163745.4]</th>\n",
       "      <td>6</td>\n",
       "      <td>32</td>\n",
       "    </tr>\n",
       "    <tr>\n",
       "      <th>(163745.4, 187137.6]</th>\n",
       "      <td>0</td>\n",
       "      <td>31</td>\n",
       "    </tr>\n",
       "    <tr>\n",
       "      <th>(187137.6, 210529.8]</th>\n",
       "      <td>0</td>\n",
       "      <td>29</td>\n",
       "    </tr>\n",
       "    <tr>\n",
       "      <th>(210529.8, 233922.0]</th>\n",
       "      <td>0</td>\n",
       "      <td>43</td>\n",
       "    </tr>\n",
       "  </tbody>\n",
       "</table>\n",
       "</div>"
      ],
      "text/plain": [
       "                      herncastle  diamond\n",
       "(-233.922, 23392.2]           16       65\n",
       "(23392.2, 46784.4]             1       53\n",
       "(46784.4, 70176.6]             0       21\n",
       "(70176.6, 93568.8]             1       24\n",
       "(93568.8, 116961.0]            0       12\n",
       "(116961.0, 140353.2]           3        5\n",
       "(140353.2, 163745.4]           6       32\n",
       "(163745.4, 187137.6]           0       31\n",
       "(187137.6, 210529.8]           0       29\n",
       "(210529.8, 233922.0]           0       43"
      ]
     },
     "execution_count": 129,
     "metadata": {},
     "output_type": "execute_result"
    }
   ],
   "source": [
    "pd.DataFrame({\"herncastle\": binTokens(\"herncastle\"), \"diamond\": binTokens('diamond')})"
   ]
  },
  {
   "cell_type": "code",
   "execution_count": 130,
   "metadata": {},
   "outputs": [],
   "source": [
    "def plotNarrativeTime(words): \n",
    "    wordsAndLocations = {word: binTokens(word) for word in words}\n",
    "    return pd.DataFrame(wordsAndLocations).plot()"
   ]
  },
  {
   "cell_type": "code",
   "execution_count": 132,
   "metadata": {},
   "outputs": [
    {
     "data": {
      "image/png": "[encoded data removed]",
      "text/plain": [
       "<Figure size 432x288 with 1 Axes>"
      ]
     },
     "metadata": {
      "needs_background": "light"
     },
     "output_type": "display_data"
    }
   ],
   "source": [
    "plotAxis = plotNarrativeTime(['!', '?', '—', '('])\n",
    "moonstoneNoTOC = moonstone[400:]\n",
    "for marker in [\"First Period\", \"First Narrative\", \"Second Narrative\", \"Third Narrative\", \n",
    "               \"Fourth Narrative\", \"Fifth Narrative\", \"Sixth Narrative\"]:\n",
    "    markerIndex = moonstoneNoTOC.index(marker)\n",
    "    plotAxis.axvline((markerIndex / len(moonstoneNoTOC)*10))"
   ]
  },
  {
   "cell_type": "markdown",
   "metadata": {},
   "source": [
    "# N-grams\n",
    "\n",
    "N-grams are just collections of N- numbers of words. \n",
    "\n",
    "1. unigrams\n",
    "2. bigrams\n",
    "3. trigrams\n",
    "\n",
    "4-grams, 5-grams"
   ]
  },
  {
   "cell_type": "code",
   "execution_count": 79,
   "metadata": {},
   "outputs": [],
   "source": [
    "tokens = [\"The\", \"quick\", \"brown\", \"fox\", \"jumped\"]"
   ]
  },
  {
   "cell_type": "code",
   "execution_count": 81,
   "metadata": {},
   "outputs": [],
   "source": [
    "bigrams = [(\"The\", \"quick\"), (\"quick\", \"brown\"), (\"brown\", \"fox\"), (\"fox\", \"jumped\") ]"
   ]
  },
  {
   "cell_type": "code",
   "execution_count": 82,
   "metadata": {},
   "outputs": [
    {
     "data": {
      "text/plain": [
       "[('The', 'quick'), ('quick', 'brown'), ('brown', 'fox'), ('fox', 'jumped')]"
      ]
     },
     "execution_count": 82,
     "metadata": {},
     "output_type": "execute_result"
    }
   ],
   "source": [
    "bigrams"
   ]
  },
  {
   "cell_type": "code",
   "execution_count": 84,
   "metadata": {},
   "outputs": [
    {
     "data": {
      "text/plain": [
       "['The', 'quick', 'brown', 'fox', 'jumped']"
      ]
     },
     "execution_count": 84,
     "metadata": {},
     "output_type": "execute_result"
    }
   ],
   "source": [
    "tokens"
   ]
  },
  {
   "cell_type": "code",
   "execution_count": 85,
   "metadata": {},
   "outputs": [
    {
     "data": {
      "text/plain": [
       "['quick', 'brown', 'fox', 'jumped']"
      ]
     },
     "execution_count": 85,
     "metadata": {},
     "output_type": "execute_result"
    }
   ],
   "source": [
    "tokens[1:]"
   ]
  },
  {
   "cell_type": "code",
   "execution_count": 88,
   "metadata": {},
   "outputs": [
    {
     "data": {
      "text/plain": [
       "[('The', 'quick', 'brown'),\n",
       " ('quick', 'brown', 'fox'),\n",
       " ('brown', 'fox', 'jumped')]"
      ]
     },
     "execution_count": 88,
     "metadata": {},
     "output_type": "execute_result"
    }
   ],
   "source": [
    "list(zip(tokens, tokens[1:], tokens[2:]))"
   ]
  },
  {
   "cell_type": "code",
   "execution_count": 90,
   "metadata": {},
   "outputs": [
    {
     "data": {
      "text/plain": [
       "[('The', 'quick', 'brown'),\n",
       " ('quick', 'brown', 'fox'),\n",
       " ('brown', 'fox', 'jumped')]"
      ]
     },
     "execution_count": 90,
     "metadata": {},
     "output_type": "execute_result"
    }
   ],
   "source": [
    "list(nltk.ngrams(tokens, 3))"
   ]
  },
  {
   "cell_type": "code",
   "execution_count": 109,
   "metadata": {},
   "outputs": [],
   "source": [
    "moonstoneTokensAlpha = [token for token in moonstoneTokens if token.isalpha()] # gets rid of n't"
   ]
  },
  {
   "cell_type": "code",
   "execution_count": 110,
   "metadata": {},
   "outputs": [],
   "source": [
    "moonstoneTrigrams = nltk.ngrams(moonstoneTokensAlpha, 3)"
   ]
  },
  {
   "cell_type": "code",
   "execution_count": 112,
   "metadata": {},
   "outputs": [],
   "source": [
    "moonstoneTrigramsList = list(moonstoneTrigrams)"
   ]
  },
  {
   "cell_type": "code",
   "execution_count": 114,
   "metadata": {},
   "outputs": [
    {
     "data": {
      "text/plain": [
       "[(('i', 'don', 't'), 91),\n",
       " (('in', 'the', 'house'), 80),\n",
       " (('one', 'of', 'the'), 76),\n",
       " (('out', 'of', 'the'), 75),\n",
       " (('i', 'can', 't'), 62),\n",
       " (('of', 'the', 'moonstone'), 59),\n",
       " (('of', 'the', 'diamond'), 54),\n",
       " (('which', 'i', 'had'), 53),\n",
       " (('that', 'i', 'had'), 51),\n",
       " (('that', 'he', 'had'), 50),\n",
       " (('lady', 'verinder', 's'), 49),\n",
       " (('miss', 'verinder', 's'), 49),\n",
       " (('miss', 'rachel', 's'), 47),\n",
       " (('the', 'subject', 'of'), 47),\n",
       " (('my', 'lady', 's'), 46),\n",
       " (('the', 'end', 'of'), 43),\n",
       " (('the', 'rest', 'of'), 43),\n",
       " (('that', 'he', 'was'), 43),\n",
       " (('if', 'i', 'had'), 42),\n",
       " (('the', 'time', 'when'), 42)]"
      ]
     },
     "execution_count": 114,
     "metadata": {},
     "output_type": "execute_result"
    }
   ],
   "source": [
    "Counter(moonstoneTrigramsList).most_common(20)"
   ]
  },
  {
   "cell_type": "code",
   "execution_count": 115,
   "metadata": {},
   "outputs": [],
   "source": [
    "def commonNgrams(tokens, n): \n",
    "    ngrams = nltk.ngrams(tokens, n)\n",
    "    ngramsList = list(ngrams)\n",
    "    return Counter(ngramsList).most_common(20)"
   ]
  },
  {
   "cell_type": "code",
   "execution_count": 122,
   "metadata": {},
   "outputs": [
    {
     "data": {
      "text/plain": [
       "[(('on', 'the', 'subject', 'of', 'the'), 19),\n",
       " (('the', 'loss', 'of', 'the', 'diamond'), 13),\n",
       " (('it', 'is', 'needless', 'to', 'say'), 12),\n",
       " (('at', 'the', 'bottom', 'of', 'it'), 11),\n",
       " (('at', 'the', 'bottom', 'of', 'the'), 10),\n",
       " (('the', 'loss', 'of', 'the', 'moonstone'), 10),\n",
       " (('for', 'the', 'first', 'time', 'in'), 9),\n",
       " (('the', 'middle', 'of', 'the', 'room'), 9),\n",
       " (('the', 'subject', 'of', 'the', 'moonstone'), 9),\n",
       " (('is', 'needless', 'to', 'say', 'that'), 8),\n",
       " (('of', 'the', 'loss', 'of', 'the'), 7),\n",
       " (('the', 'turn', 'of', 'the', 'tide'), 7),\n",
       " (('of', 'which', 'i', 'am', 'now'), 7),\n",
       " (('the', 'last', 'rose', 'of', 'summer'), 7),\n",
       " (('my', 'lady', 'and', 'miss', 'rachel'), 6),\n",
       " (('nine', 'times', 'out', 'of', 'ten'), 6),\n",
       " (('was', 'at', 'the', 'bottom', 'of'), 6),\n",
       " (('which', 'i', 'am', 'now', 'writing'), 6),\n",
       " (('in', 'the', 'shape', 'of', 'a'), 6),\n",
       " (('i', 'don', 't', 'want', 'to'), 6)]"
      ]
     },
     "execution_count": 122,
     "metadata": {},
     "output_type": "execute_result"
    }
   ],
   "source": [
    "commonNgrams(moonstoneTokensAlpha, 5)"
   ]
  },
  {
   "cell_type": "markdown",
   "metadata": {},
   "source": [
    "# Finding Multiple Tokens in Narrative Time"
   ]
  },
  {
   "cell_type": "code",
   "execution_count": 127,
   "metadata": {},
   "outputs": [],
   "source": [
    "def binTokensTwo(twoWords, nBins=10): \n",
    "    firstWord, secondWord = twoWords\n",
    "    indices = []\n",
    "    for i, token in enumerate(moonstoneTokens): \n",
    "        if token == firstWord:\n",
    "            nextToken = moonstoneTokens[i+1]\n",
    "            if nextToken == secondWord: \n",
    "                indices.append(i)\n",
    "    categories, bins = pd.cut(range(len(moonstoneTokens)), bins=nBins, retbins=True)\n",
    "    binned = pd.cut(indices, bins).value_counts()\n",
    "    return binned"
   ]
  },
  {
   "cell_type": "code",
   "execution_count": 125,
   "metadata": {},
   "outputs": [
    {
     "data": {
      "text/plain": [
       "(-233.922, 23392.2]     2\n",
       "(23392.2, 46784.4]      1\n",
       "(46784.4, 70176.6]      0\n",
       "(70176.6, 93568.8]      2\n",
       "(93568.8, 116961.0]     0\n",
       "(116961.0, 140353.2]    0\n",
       "(140353.2, 163745.4]    1\n",
       "(163745.4, 187137.6]    0\n",
       "(187137.6, 210529.8]    0\n",
       "(210529.8, 233922.0]    0\n",
       "dtype: int64"
      ]
     },
     "execution_count": 125,
     "metadata": {},
     "output_type": "execute_result"
    }
   ],
   "source": [
    "binTokens(['my', 'pipe'])"
   ]
  }
 ],
 "metadata": {
  "kernelspec": {
   "display_name": "Python 3",
   "language": "python",
   "name": "python3"
  },
  "language_info": {
   "codemirror_mode": {
    "name": "ipython",
    "version": 3
   },
   "file_extension": ".py",
   "mimetype": "text/x-python",
   "name": "python",
   "nbconvert_exporter": "python",
   "pygments_lexer": "ipython3",
   "version": "3.7.7"
  }
 },
 "nbformat": 4,
 "nbformat_minor": 4
}
