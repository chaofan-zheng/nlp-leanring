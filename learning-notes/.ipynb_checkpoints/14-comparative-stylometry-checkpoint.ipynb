{
 "cells": [
  {
   "cell_type": "markdown",
   "metadata": {},
   "source": [
    "# Stylometry\n",
    "\n",
    "Measurement of style. \n",
    "\n",
    "Most frequent words: the, an, a, he, she\n",
    " - \"stop words\" \n",
    " - style words, are usually 100-800\n",
    " \n",
    "Lesser frequent words: \n",
    " - content words\n",
    " \n",
    "## Assembling a Corpus using Corpus-DB\n",
    "\n",
    "http://corpus-db.org\n",
    "\n",
    "- API: application programming interface\n",
    "  - A website for computers to use"
   ]
  },
  {
   "cell_type": "code",
   "execution_count": 74,
   "metadata": {},
   "outputs": [],
   "source": [
    "import requests\n",
    "import json\n",
    "import sklearn\n",
    "from sklearn.feature_extraction.text import CountVectorizer, TfidfVectorizer, TfidfTransformer\n",
    "import pandas as pd\n",
    "from sklearn.decomposition import PCA\n",
    "from nltk.corpus import gutenberg"
   ]
  },
  {
   "cell_type": "code",
   "execution_count": 3,
   "metadata": {},
   "outputs": [],
   "source": [
    "# Get metadata for The Moonstone\n",
    "response = requests.get('http://corpus-db.org/api/id/155.0')gutenberg"
   ]
  },
  {
   "cell_type": "code",
   "execution_count": 5,
   "metadata": {},
   "outputs": [
    {
     "data": {
      "text/plain": [
       "True"
      ]
     },
     "execution_count": 5,
     "metadata": {},
     "output_type": "execute_result"
    }
   ],
   "source": [
    "response.ok"
   ]
  },
  {
   "cell_type": "code",
   "execution_count": 10,
   "metadata": {},
   "outputs": [],
   "source": [
    "moonstoneData = json.loads(response.text) # JSON data"
   ]
  },
  {
   "cell_type": "code",
   "execution_count": 11,
   "metadata": {},
   "outputs": [
    {
     "data": {
      "text/plain": [
       "dict_keys(['lcsh', 'summary', 'series_note', 'creator', 'production_note', 'downloads', 'rights_url', 'wp_publication_date', 'authoryearofdeath', '_repo', 'wp_subjects', 'language_note', 'tableOfContents', 'gutenberg_issued', 'identifiers', 'formats', 'gutenberg_type', '', 'publication_note', 'url', 'edition_identifiers', 'rights', 'authoryearofbirth', 'wp_info', 'languages', 'LCC', 'publication_date', 'subjects', 'wikipedia', 'author', 'id', 'gutenberg_bookshelf', '_version', 'releaseDate', 'alternative_title', 'title', 'type', 'wp_literary_genres', 'contributor', 'edition_note', 'titlepage_image', 'jmdate', 'publisher', 'covers', 'description', 'filename'])"
      ]
     },
     "execution_count": 11,
     "metadata": {},
     "output_type": "execute_result"
    }
   ],
   "source": [
    "moonstoneData.keys()"
   ]
  },
  {
   "cell_type": "code",
   "execution_count": 12,
   "metadata": {},
   "outputs": [
    {
     "data": {
      "text/plain": [
       "'Collins, Wilkie'"
      ]
     },
     "execution_count": 12,
     "metadata": {},
     "output_type": "execute_result"
    }
   ],
   "source": [
    "moonstoneData['author']"
   ]
  },
  {
   "cell_type": "code",
   "execution_count": 13,
   "metadata": {},
   "outputs": [
    {
     "data": {
      "text/plain": [
       "'The Moonstone'"
      ]
     },
     "execution_count": 13,
     "metadata": {},
     "output_type": "execute_result"
    }
   ],
   "source": [
    "moonstoneData['title']"
   ]
  },
  {
   "cell_type": "code",
   "execution_count": 14,
   "metadata": {},
   "outputs": [],
   "source": [
    "response = requests.get('http://corpus-db.org/api/author/Collins, Wilkie')"
   ]
  },
  {
   "cell_type": "code",
   "execution_count": 16,
   "metadata": {},
   "outputs": [],
   "source": [
    "parsedResponse = json.loads(response.text)"
   ]
  },
  {
   "cell_type": "code",
   "execution_count": 17,
   "metadata": {},
   "outputs": [
    {
     "data": {
      "text/plain": [
       "['The Moonstone',\n",
       " 'The Haunted Hotel: A Mystery of Modern Venice',\n",
       " 'The Woman in White',\n",
       " 'No Name',\n",
       " 'Man and Wife',\n",
       " 'The Black Robe',\n",
       " \"A Rogue's Life\",\n",
       " 'Miss or Mrs.?',\n",
       " 'The Law and the Lady',\n",
       " 'The New Magdalen',\n",
       " 'The Two Destinies',\n",
       " 'The Frozen Deep',\n",
       " 'After Dark',\n",
       " 'The Evil Genius: A Domestic Story',\n",
       " \"My Lady's Money\",\n",
       " '\"I Say No\"',\n",
       " 'Little Novels',\n",
       " 'Armadale',\n",
       " 'The Queen of Hearts',\n",
       " 'The Legacy of Cain',\n",
       " 'A Fair Penitent',\n",
       " 'Antonina; Or, The Fall of Rome',\n",
       " 'Poor Miss Finch',\n",
       " \"Jezebel's Daughter\",\n",
       " 'The Guilty River',\n",
       " 'Basil',\n",
       " 'Blind Love',\n",
       " 'The Dead Alive',\n",
       " 'Heart and Science: A Story of the Present Time',\n",
       " 'Hide and Seek',\n",
       " 'The Fallen Leaves',\n",
       " \"L'hôtel hanté\",\n",
       " 'John Jagon henki tahi kuollutko vai elävä?',\n",
       " 'Ilman menestyksettä: Joulukertomus',\n",
       " 'Sisar Rosa',\n",
       " 'Rambles Beyond Railways; or, Notes in Cornwall taken A-foot',\n",
       " 'Kamala yösija',\n",
       " 'The Dead Secret: A Novel',\n",
       " 'My Miscellanies, Vol. 1 (of 2)',\n",
       " 'My Miscellanies, Vol. 2 (of 2)',\n",
       " 'Valkopukuinen nainen I: Perheromaani',\n",
       " 'Valkopukuinen nainen II: Perheromaani']"
      ]
     },
     "execution_count": 17,
     "metadata": {},
     "output_type": "execute_result"
    }
   ],
   "source": [
    "[item['title'] for item in parsedResponse]"
   ]
  },
  {
   "cell_type": "code",
   "execution_count": 18,
   "metadata": {},
   "outputs": [],
   "source": [
    "collinsCorpusMeta = parsedResponse[:10]"
   ]
  },
  {
   "cell_type": "code",
   "execution_count": 20,
   "metadata": {},
   "outputs": [],
   "source": [
    "collinsCorpusIds = [book['id'] for book in collinsCorpusMeta]"
   ]
  },
  {
   "cell_type": "code",
   "execution_count": 30,
   "metadata": {},
   "outputs": [],
   "source": [
    "def getFullText(bookId): \n",
    "    url = f'http://corpus-db.org/api/id/{bookId}/fulltext'\n",
    "    response = requests.get(url)\n",
    "    if response.ok: \n",
    "        bookText = json.loads(response.text)\n",
    "        return bookText[0]['text']\n",
    "    else:\n",
    "        print('ERROR: response not ok! Abandon ship!')"
   ]
  },
  {
   "cell_type": "code",
   "execution_count": 35,
   "metadata": {},
   "outputs": [],
   "source": [
    "collinsTexts = []\n",
    "for bookId in collinsCorpusIds:\n",
    "    collinsTexts.append(getFullText(bookId))"
   ]
  },
  {
   "cell_type": "code",
   "execution_count": 36,
   "metadata": {},
   "outputs": [
    {
     "data": {
      "text/plain": [
       "10"
      ]
     },
     "execution_count": 36,
     "metadata": {},
     "output_type": "execute_result"
    }
   ],
   "source": [
    "len(collinsTexts)"
   ]
  },
  {
   "cell_type": "code",
   "execution_count": 37,
   "metadata": {},
   "outputs": [],
   "source": [
    "collinsTitles = [book['title'] for book in collinsCorpusMeta]"
   ]
  },
  {
   "cell_type": "code",
   "execution_count": 38,
   "metadata": {},
   "outputs": [
    {
     "data": {
      "text/plain": [
       "10"
      ]
     },
     "execution_count": 38,
     "metadata": {},
     "output_type": "execute_result"
    }
   ],
   "source": [
    "len(collinsTitles)"
   ]
  },
  {
   "cell_type": "markdown",
   "metadata": {},
   "source": [
    "To get proportions of words in a text, not just their counts, use `TfidfVectorizer()`. \n",
    "\n",
    "## Tf-IDF\n",
    "\n",
    "Term frequency adjusted for inverse document frequency\n",
    " - term frequency: how often does it occur in the single text? \n",
    " - document frequency: how many texts does it occur in, in the corpus? \n",
    "\n"
   ]
  },
  {
   "cell_type": "code",
   "execution_count": 41,
   "metadata": {},
   "outputs": [],
   "source": [
    "tfidfVectorizer = TfidfVectorizer(min_df=1.0, max_features=400, use_idf=False)"
   ]
  },
  {
   "cell_type": "code",
   "execution_count": 43,
   "metadata": {},
   "outputs": [],
   "source": [
    "collinsFreq = tfidfVectorizer.fit_transform(collinsTexts).todense()"
   ]
  },
  {
   "cell_type": "code",
   "execution_count": 49,
   "metadata": {},
   "outputs": [],
   "source": [
    "collinsWordNames = tfidfVectorizer.get_feature_names()"
   ]
  },
  {
   "cell_type": "code",
   "execution_count": 50,
   "metadata": {},
   "outputs": [
    {
     "data": {
      "text/plain": [
       "400"
      ]
     },
     "execution_count": 50,
     "metadata": {},
     "output_type": "execute_result"
    }
   ],
   "source": [
    "len(collinsWordNames)"
   ]
  },
  {
   "cell_type": "code",
   "execution_count": 54,
   "metadata": {},
   "outputs": [],
   "source": [
    "collinsDf = pd.DataFrame(collinsFreq, columns=collinsWordNames, index=collinsTitles)"
   ]
  },
  {
   "cell_type": "code",
   "execution_count": 58,
   "metadata": {},
   "outputs": [
    {
     "data": {
      "text/plain": [
       "<matplotlib.axes._subplots.AxesSubplot at 0x7f22a83053d0>"
      ]
     },
     "execution_count": 58,
     "metadata": {},
     "output_type": "execute_result"
    },
    {
     "data": {
      "image/png": "[encoded data removed]",
      "text/plain": [
       "<Figure size 432x288 with 1 Axes>"
      ]
     },
     "metadata": {
      "needs_background": "light"
     },
     "output_type": "display_data"
    }
   ],
   "source": [
    "pd.Series(collinsDf['he']).plot(kind='bar')"
   ]
  },
  {
   "cell_type": "code",
   "execution_count": null,
   "metadata": {},
   "outputs": [],
   "source": []
  },
  {
   "cell_type": "code",
   "execution_count": 59,
   "metadata": {},
   "outputs": [
    {
     "data": {
      "text/html": [
       "<div>\n",
       "<style scoped>\n",
       "    .dataframe tbody tr th:only-of-type {\n",
       "        vertical-align: middle;\n",
       "    }\n",
       "\n",
       "    .dataframe tbody tr th {\n",
       "        vertical-align: top;\n",
       "    }\n",
       "\n",
       "    .dataframe thead th {\n",
       "        text-align: right;\n",
       "    }\n",
       "</style>\n",
       "<table border=\"1\" class=\"dataframe\">\n",
       "  <thead>\n",
       "    <tr style=\"text-align: right;\">\n",
       "      <th></th>\n",
       "      <th>about</th>\n",
       "      <th>after</th>\n",
       "      <th>again</th>\n",
       "      <th>against</th>\n",
       "      <th>all</th>\n",
       "      <th>alone</th>\n",
       "      <th>already</th>\n",
       "      <th>always</th>\n",
       "      <th>am</th>\n",
       "      <th>among</th>\n",
       "      <th>...</th>\n",
       "      <th>write</th>\n",
       "      <th>writing</th>\n",
       "      <th>written</th>\n",
       "      <th>years</th>\n",
       "      <th>yes</th>\n",
       "      <th>yet</th>\n",
       "      <th>you</th>\n",
       "      <th>young</th>\n",
       "      <th>your</th>\n",
       "      <th>yourself</th>\n",
       "    </tr>\n",
       "  </thead>\n",
       "  <tbody>\n",
       "    <tr>\n",
       "      <th>The Moonstone</th>\n",
       "      <td>0.018227</td>\n",
       "      <td>0.018437</td>\n",
       "      <td>0.020689</td>\n",
       "      <td>0.003876</td>\n",
       "      <td>0.035878</td>\n",
       "      <td>0.003771</td>\n",
       "      <td>0.004138</td>\n",
       "      <td>0.002671</td>\n",
       "      <td>0.020217</td>\n",
       "      <td>0.004557</td>\n",
       "      <td>...</td>\n",
       "      <td>0.002043</td>\n",
       "      <td>0.002671</td>\n",
       "      <td>0.003143</td>\n",
       "      <td>0.002776</td>\n",
       "      <td>0.005185</td>\n",
       "      <td>0.004819</td>\n",
       "      <td>0.131203</td>\n",
       "      <td>0.006652</td>\n",
       "      <td>0.037083</td>\n",
       "      <td>0.003771</td>\n",
       "    </tr>\n",
       "    <tr>\n",
       "      <th>The Haunted Hotel: A Mystery of Modern Venice</th>\n",
       "      <td>0.010662</td>\n",
       "      <td>0.012053</td>\n",
       "      <td>0.019161</td>\n",
       "      <td>0.001700</td>\n",
       "      <td>0.021479</td>\n",
       "      <td>0.004327</td>\n",
       "      <td>0.006954</td>\n",
       "      <td>0.001854</td>\n",
       "      <td>0.019934</td>\n",
       "      <td>0.002472</td>\n",
       "      <td>...</td>\n",
       "      <td>0.001854</td>\n",
       "      <td>0.006336</td>\n",
       "      <td>0.002936</td>\n",
       "      <td>0.002936</td>\n",
       "      <td>0.003863</td>\n",
       "      <td>0.004481</td>\n",
       "      <td>0.121613</td>\n",
       "      <td>0.002163</td>\n",
       "      <td>0.031369</td>\n",
       "      <td>0.004636</td>\n",
       "    </tr>\n",
       "    <tr>\n",
       "      <th>The Woman in White</th>\n",
       "      <td>0.018138</td>\n",
       "      <td>0.014653</td>\n",
       "      <td>0.019901</td>\n",
       "      <td>0.005374</td>\n",
       "      <td>0.042700</td>\n",
       "      <td>0.004325</td>\n",
       "      <td>0.003989</td>\n",
       "      <td>0.004493</td>\n",
       "      <td>0.018474</td>\n",
       "      <td>0.003065</td>\n",
       "      <td>...</td>\n",
       "      <td>0.004073</td>\n",
       "      <td>0.003527</td>\n",
       "      <td>0.002855</td>\n",
       "      <td>0.003359</td>\n",
       "      <td>0.009153</td>\n",
       "      <td>0.006424</td>\n",
       "      <td>0.099759</td>\n",
       "      <td>0.003737</td>\n",
       "      <td>0.029390</td>\n",
       "      <td>0.003359</td>\n",
       "    </tr>\n",
       "    <tr>\n",
       "      <th>No Name</th>\n",
       "      <td>0.009537</td>\n",
       "      <td>0.016421</td>\n",
       "      <td>0.021228</td>\n",
       "      <td>0.004538</td>\n",
       "      <td>0.035765</td>\n",
       "      <td>0.003923</td>\n",
       "      <td>0.005307</td>\n",
       "      <td>0.003846</td>\n",
       "      <td>0.023267</td>\n",
       "      <td>0.002654</td>\n",
       "      <td>...</td>\n",
       "      <td>0.003653</td>\n",
       "      <td>0.002961</td>\n",
       "      <td>0.004153</td>\n",
       "      <td>0.003615</td>\n",
       "      <td>0.006461</td>\n",
       "      <td>0.005961</td>\n",
       "      <td>0.135447</td>\n",
       "      <td>0.006115</td>\n",
       "      <td>0.051456</td>\n",
       "      <td>0.005230</td>\n",
       "    </tr>\n",
       "    <tr>\n",
       "      <th>Man and Wife</th>\n",
       "      <td>0.014886</td>\n",
       "      <td>0.014306</td>\n",
       "      <td>0.020858</td>\n",
       "      <td>0.004100</td>\n",
       "      <td>0.031688</td>\n",
       "      <td>0.004323</td>\n",
       "      <td>0.003343</td>\n",
       "      <td>0.002006</td>\n",
       "      <td>0.020680</td>\n",
       "      <td>0.004591</td>\n",
       "      <td>...</td>\n",
       "      <td>0.004145</td>\n",
       "      <td>0.002986</td>\n",
       "      <td>0.003164</td>\n",
       "      <td>0.003476</td>\n",
       "      <td>0.008156</td>\n",
       "      <td>0.004769</td>\n",
       "      <td>0.137136</td>\n",
       "      <td>0.006730</td>\n",
       "      <td>0.035699</td>\n",
       "      <td>0.004546</td>\n",
       "    </tr>\n",
       "    <tr>\n",
       "      <th>The Black Robe</th>\n",
       "      <td>0.010701</td>\n",
       "      <td>0.013023</td>\n",
       "      <td>0.018171</td>\n",
       "      <td>0.003331</td>\n",
       "      <td>0.020392</td>\n",
       "      <td>0.004543</td>\n",
       "      <td>0.006158</td>\n",
       "      <td>0.002726</td>\n",
       "      <td>0.034525</td>\n",
       "      <td>0.004947</td>\n",
       "      <td>...</td>\n",
       "      <td>0.003634</td>\n",
       "      <td>0.002524</td>\n",
       "      <td>0.004038</td>\n",
       "      <td>0.003937</td>\n",
       "      <td>0.007369</td>\n",
       "      <td>0.006966</td>\n",
       "      <td>0.178479</td>\n",
       "      <td>0.005148</td>\n",
       "      <td>0.046033</td>\n",
       "      <td>0.005552</td>\n",
       "    </tr>\n",
       "    <tr>\n",
       "      <th>A Rogue's Life</th>\n",
       "      <td>0.018299</td>\n",
       "      <td>0.017022</td>\n",
       "      <td>0.015958</td>\n",
       "      <td>0.004681</td>\n",
       "      <td>0.036597</td>\n",
       "      <td>0.002553</td>\n",
       "      <td>0.002766</td>\n",
       "      <td>0.004043</td>\n",
       "      <td>0.013405</td>\n",
       "      <td>0.004255</td>\n",
       "      <td>...</td>\n",
       "      <td>0.002979</td>\n",
       "      <td>0.003404</td>\n",
       "      <td>0.001064</td>\n",
       "      <td>0.003830</td>\n",
       "      <td>0.002553</td>\n",
       "      <td>0.004043</td>\n",
       "      <td>0.074897</td>\n",
       "      <td>0.007660</td>\n",
       "      <td>0.021490</td>\n",
       "      <td>0.002553</td>\n",
       "    </tr>\n",
       "    <tr>\n",
       "      <th>Miss or Mrs.?</th>\n",
       "      <td>0.010559</td>\n",
       "      <td>0.012159</td>\n",
       "      <td>0.016319</td>\n",
       "      <td>0.002880</td>\n",
       "      <td>0.028798</td>\n",
       "      <td>0.002560</td>\n",
       "      <td>0.004800</td>\n",
       "      <td>0.002560</td>\n",
       "      <td>0.011839</td>\n",
       "      <td>0.003520</td>\n",
       "      <td>...</td>\n",
       "      <td>0.000960</td>\n",
       "      <td>0.000320</td>\n",
       "      <td>0.000640</td>\n",
       "      <td>0.003520</td>\n",
       "      <td>0.006400</td>\n",
       "      <td>0.004160</td>\n",
       "      <td>0.110073</td>\n",
       "      <td>0.008639</td>\n",
       "      <td>0.039358</td>\n",
       "      <td>0.002560</td>\n",
       "    </tr>\n",
       "    <tr>\n",
       "      <th>The Law and the Lady</th>\n",
       "      <td>0.013154</td>\n",
       "      <td>0.012411</td>\n",
       "      <td>0.021998</td>\n",
       "      <td>0.004088</td>\n",
       "      <td>0.029059</td>\n",
       "      <td>0.003939</td>\n",
       "      <td>0.004088</td>\n",
       "      <td>0.002973</td>\n",
       "      <td>0.024748</td>\n",
       "      <td>0.002898</td>\n",
       "      <td>...</td>\n",
       "      <td>0.003493</td>\n",
       "      <td>0.003047</td>\n",
       "      <td>0.004236</td>\n",
       "      <td>0.002304</td>\n",
       "      <td>0.006837</td>\n",
       "      <td>0.006391</td>\n",
       "      <td>0.150125</td>\n",
       "      <td>0.003493</td>\n",
       "      <td>0.044591</td>\n",
       "      <td>0.004905</td>\n",
       "    </tr>\n",
       "    <tr>\n",
       "      <th>The New Magdalen</th>\n",
       "      <td>0.008532</td>\n",
       "      <td>0.010461</td>\n",
       "      <td>0.021329</td>\n",
       "      <td>0.003149</td>\n",
       "      <td>0.023157</td>\n",
       "      <td>0.006196</td>\n",
       "      <td>0.004774</td>\n",
       "      <td>0.001828</td>\n",
       "      <td>0.027728</td>\n",
       "      <td>0.005485</td>\n",
       "      <td>...</td>\n",
       "      <td>0.002539</td>\n",
       "      <td>0.002133</td>\n",
       "      <td>0.002031</td>\n",
       "      <td>0.003149</td>\n",
       "      <td>0.007313</td>\n",
       "      <td>0.006500</td>\n",
       "      <td>0.169006</td>\n",
       "      <td>0.004977</td>\n",
       "      <td>0.046822</td>\n",
       "      <td>0.005383</td>\n",
       "    </tr>\n",
       "  </tbody>\n",
       "</table>\n",
       "<p>10 rows × 400 columns</p>\n",
       "</div>"
      ],
      "text/plain": [
       "                                                  about     after     again  \\\n",
       "The Moonstone                                  0.018227  0.018437  0.020689   \n",
       "The Haunted Hotel: A Mystery of Modern Venice  0.010662  0.012053  0.019161   \n",
       "The Woman in White                             0.018138  0.014653  0.019901   \n",
       "No Name                                        0.009537  0.016421  0.021228   \n",
       "Man and Wife                                   0.014886  0.014306  0.020858   \n",
       "The Black Robe                                 0.010701  0.013023  0.018171   \n",
       "A Rogue's Life                                 0.018299  0.017022  0.015958   \n",
       "Miss or Mrs.?                                  0.010559  0.012159  0.016319   \n",
       "The Law and the Lady                           0.013154  0.012411  0.021998   \n",
       "The New Magdalen                               0.008532  0.010461  0.021329   \n",
       "\n",
       "                                                against       all     alone  \\\n",
       "The Moonstone                                  0.003876  0.035878  0.003771   \n",
       "The Haunted Hotel: A Mystery of Modern Venice  0.001700  0.021479  0.004327   \n",
       "The Woman in White                             0.005374  0.042700  0.004325   \n",
       "No Name                                        0.004538  0.035765  0.003923   \n",
       "Man and Wife                                   0.004100  0.031688  0.004323   \n",
       "The Black Robe                                 0.003331  0.020392  0.004543   \n",
       "A Rogue's Life                                 0.004681  0.036597  0.002553   \n",
       "Miss or Mrs.?                                  0.002880  0.028798  0.002560   \n",
       "The Law and the Lady                           0.004088  0.029059  0.003939   \n",
       "The New Magdalen                               0.003149  0.023157  0.006196   \n",
       "\n",
       "                                                already    always        am  \\\n",
       "The Moonstone                                  0.004138  0.002671  0.020217   \n",
       "The Haunted Hotel: A Mystery of Modern Venice  0.006954  0.001854  0.019934   \n",
       "The Woman in White                             0.003989  0.004493  0.018474   \n",
       "No Name                                        0.005307  0.003846  0.023267   \n",
       "Man and Wife                                   0.003343  0.002006  0.020680   \n",
       "The Black Robe                                 0.006158  0.002726  0.034525   \n",
       "A Rogue's Life                                 0.002766  0.004043  0.013405   \n",
       "Miss or Mrs.?                                  0.004800  0.002560  0.011839   \n",
       "The Law and the Lady                           0.004088  0.002973  0.024748   \n",
       "The New Magdalen                               0.004774  0.001828  0.027728   \n",
       "\n",
       "                                                  among  ...     write  \\\n",
       "The Moonstone                                  0.004557  ...  0.002043   \n",
       "The Haunted Hotel: A Mystery of Modern Venice  0.002472  ...  0.001854   \n",
       "The Woman in White                             0.003065  ...  0.004073   \n",
       "No Name                                        0.002654  ...  0.003653   \n",
       "Man and Wife                                   0.004591  ...  0.004145   \n",
       "The Black Robe                                 0.004947  ...  0.003634   \n",
       "A Rogue's Life                                 0.004255  ...  0.002979   \n",
       "Miss or Mrs.?                                  0.003520  ...  0.000960   \n",
       "The Law and the Lady                           0.002898  ...  0.003493   \n",
       "The New Magdalen                               0.005485  ...  0.002539   \n",
       "\n",
       "                                                writing   written     years  \\\n",
       "The Moonstone                                  0.002671  0.003143  0.002776   \n",
       "The Haunted Hotel: A Mystery of Modern Venice  0.006336  0.002936  0.002936   \n",
       "The Woman in White                             0.003527  0.002855  0.003359   \n",
       "No Name                                        0.002961  0.004153  0.003615   \n",
       "Man and Wife                                   0.002986  0.003164  0.003476   \n",
       "The Black Robe                                 0.002524  0.004038  0.003937   \n",
       "A Rogue's Life                                 0.003404  0.001064  0.003830   \n",
       "Miss or Mrs.?                                  0.000320  0.000640  0.003520   \n",
       "The Law and the Lady                           0.003047  0.004236  0.002304   \n",
       "The New Magdalen                               0.002133  0.002031  0.003149   \n",
       "\n",
       "                                                    yes       yet       you  \\\n",
       "The Moonstone                                  0.005185  0.004819  0.131203   \n",
       "The Haunted Hotel: A Mystery of Modern Venice  0.003863  0.004481  0.121613   \n",
       "The Woman in White                             0.009153  0.006424  0.099759   \n",
       "No Name                                        0.006461  0.005961  0.135447   \n",
       "Man and Wife                                   0.008156  0.004769  0.137136   \n",
       "The Black Robe                                 0.007369  0.006966  0.178479   \n",
       "A Rogue's Life                                 0.002553  0.004043  0.074897   \n",
       "Miss or Mrs.?                                  0.006400  0.004160  0.110073   \n",
       "The Law and the Lady                           0.006837  0.006391  0.150125   \n",
       "The New Magdalen                               0.007313  0.006500  0.169006   \n",
       "\n",
       "                                                  young      your  yourself  \n",
       "The Moonstone                                  0.006652  0.037083  0.003771  \n",
       "The Haunted Hotel: A Mystery of Modern Venice  0.002163  0.031369  0.004636  \n",
       "The Woman in White                             0.003737  0.029390  0.003359  \n",
       "No Name                                        0.006115  0.051456  0.005230  \n",
       "Man and Wife                                   0.006730  0.035699  0.004546  \n",
       "The Black Robe                                 0.005148  0.046033  0.005552  \n",
       "A Rogue's Life                                 0.007660  0.021490  0.002553  \n",
       "Miss or Mrs.?                                  0.008639  0.039358  0.002560  \n",
       "The Law and the Lady                           0.003493  0.044591  0.004905  \n",
       "The New Magdalen                               0.004977  0.046822  0.005383  \n",
       "\n",
       "[10 rows x 400 columns]"
      ]
     },
     "execution_count": 59,
     "metadata": {},
     "output_type": "execute_result"
    }
   ],
   "source": [
    "collinsDf"
   ]
  },
  {
   "cell_type": "markdown",
   "metadata": {},
   "source": [
    "# PCA: Principal Component Analysis\n",
    "\n",
    "Collapses our 400 dimensions (most frequent words) to two dimensions, and tries to retain that information. \n"
   ]
  },
  {
   "cell_type": "code",
   "execution_count": 62,
   "metadata": {},
   "outputs": [],
   "source": [
    "pca = PCA(n_components=2)"
   ]
  },
  {
   "cell_type": "code",
   "execution_count": 64,
   "metadata": {},
   "outputs": [],
   "source": [
    "collinsReduced = pca.fit_transform(collinsFreq)"
   ]
  },
  {
   "cell_type": "code",
   "execution_count": 65,
   "metadata": {},
   "outputs": [
    {
     "data": {
      "text/plain": [
       "(10, 2)"
      ]
     },
     "execution_count": 65,
     "metadata": {},
     "output_type": "execute_result"
    }
   ],
   "source": [
    "collinsReduced.shape"
   ]
  },
  {
   "cell_type": "code",
   "execution_count": 66,
   "metadata": {},
   "outputs": [
    {
     "data": {
      "text/plain": [
       "array([[-0.07070765, -0.02337711],\n",
       "       [ 0.08568702,  0.04613868],\n",
       "       [-0.05371399, -0.04433139],\n",
       "       [ 0.06931412,  0.01893551],\n",
       "       [ 0.03626063,  0.043455  ],\n",
       "       [-0.01388628, -0.04260178],\n",
       "       [-0.15206993, -0.01313662],\n",
       "       [ 0.00366176,  0.16307373],\n",
       "       [-0.07323117, -0.04517888],\n",
       "       [ 0.1686855 , -0.10297714]])"
      ]
     },
     "execution_count": 66,
     "metadata": {},
     "output_type": "execute_result"
    }
   ],
   "source": [
    "collinsReduced"
   ]
  },
  {
   "cell_type": "code",
   "execution_count": 73,
   "metadata": {},
   "outputs": [
    {
     "data": {
      "image/png": "[encoded data removed]",
      "text/plain": [
       "<Figure size 432x288 with 1 Axes>"
      ]
     },
     "metadata": {
      "needs_background": "light"
     },
     "output_type": "display_data"
    }
   ],
   "source": [
    "df = pd.DataFrame(collinsReduced, \n",
    "             columns=['First Component', 'Second Component'],\n",
    "             index=collinsTitles\n",
    "            )\n",
    "ax = df.plot(kind='scatter', x='First Component', y='Second Component')\n",
    "for title, points in df.iterrows():\n",
    "    ax.annotate(title, points)"
   ]
  },
  {
   "cell_type": "code",
   "execution_count": 75,
   "metadata": {},
   "outputs": [],
   "source": [
    "gutenbergTexts = [gutenberg.raw(fileid) for fileid in gutenberg.fileids()] "
   ]
  },
  {
   "cell_type": "code",
   "execution_count": 86,
   "metadata": {},
   "outputs": [],
   "source": [
    "tfidfVectorizer = TfidfVectorizer(max_features=400, use_idf=False)\n",
    "gutenbergFreqs = tfidfVectorizer.fit_transform(gutenbergTexts)"
   ]
  },
  {
   "cell_type": "code",
   "execution_count": 87,
   "metadata": {},
   "outputs": [],
   "source": [
    "gutenbergFreqs = gutenbergFreqs.todense()"
   ]
  },
  {
   "cell_type": "code",
   "execution_count": 88,
   "metadata": {},
   "outputs": [
    {
     "data": {
      "text/plain": [
       "(18, 400)"
      ]
     },
     "execution_count": 88,
     "metadata": {},
     "output_type": "execute_result"
    }
   ],
   "source": [
    "gutenbergFreqs.shape"
   ]
  },
  {
   "cell_type": "code",
   "execution_count": 91,
   "metadata": {},
   "outputs": [],
   "source": [
    "gutDf = pd.DataFrame(gutenbergFreqs, index=gutenberg.fileids(), \n",
    "             columns=tfidfVectorizer.get_feature_names())"
   ]
  },
  {
   "cell_type": "code",
   "execution_count": 92,
   "metadata": {},
   "outputs": [],
   "source": [
    "gutPoints = pca.fit_transform(gutenbergFreqs)"
   ]
  },
  {
   "cell_type": "code",
   "execution_count": 94,
   "metadata": {},
   "outputs": [],
   "source": [
    "gutPointsDf = pd.DataFrame(gutPoints, index=gutenberg.fileids(), \n",
    "                           columns=['First Component', 'Second Component'])"
   ]
  },
  {
   "cell_type": "code",
   "execution_count": 99,
   "metadata": {},
   "outputs": [
    {
     "data": {
      "image/png": "[encoded data removed]",
      "text/plain": [
       "<Figure size 432x432 with 1 Axes>"
      ]
     },
     "metadata": {
      "needs_background": "light"
     },
     "output_type": "display_data"
    }
   ],
   "source": [
    "ax = gutPointsDf.plot(kind='scatter', x='First Component', y='Second Component', figsize=(6,6))\n",
    "for title, points in gutPointsDf.iterrows():\n",
    "    ax.annotate(title, points)"
   ]
  },
  {
   "cell_type": "code",
   "execution_count": null,
   "metadata": {},
   "outputs": [],
   "source": []
  }
 ],
 "metadata": {
  "kernelspec": {
   "display_name": "Python 3",
   "language": "python",
   "name": "python3"
  },
  "language_info": {
   "codemirror_mode": {
    "name": "ipython",
    "version": 3
   },
   "file_extension": ".py",
   "mimetype": "text/x-python",
   "name": "python",
   "nbconvert_exporter": "python",
   "pygments_lexer": "ipython3",
   "version": "3.7.7"
  }
 },
 "nbformat": 4,
 "nbformat_minor": 4
}
