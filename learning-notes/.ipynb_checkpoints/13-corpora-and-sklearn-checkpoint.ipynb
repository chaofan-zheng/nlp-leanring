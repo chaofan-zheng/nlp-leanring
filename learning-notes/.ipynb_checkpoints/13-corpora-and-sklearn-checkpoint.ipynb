{
 "cells": [
  {
   "cell_type": "markdown",
   "metadata": {},
   "source": [
    "# Corpora and Scikit-learn"
   ]
  },
  {
   "cell_type": "code",
   "execution_count": 73,
   "metadata": {},
   "outputs": [],
   "source": [
    "import nltk\n",
    "import pandas as pd\n",
    "import sklearn"
   ]
  },
  {
   "cell_type": "code",
   "execution_count": 7,
   "metadata": {},
   "outputs": [
    {
     "data": {
      "text/plain": [
       "['austen-emma.txt',\n",
       " 'austen-persuasion.txt',\n",
       " 'austen-sense.txt',\n",
       " 'bible-kjv.txt',\n",
       " 'blake-poems.txt',\n",
       " 'bryant-stories.txt',\n",
       " 'burgess-busterbrown.txt',\n",
       " 'carroll-alice.txt',\n",
       " 'chesterton-ball.txt',\n",
       " 'chesterton-brown.txt',\n",
       " 'chesterton-thursday.txt',\n",
       " 'edgeworth-parents.txt',\n",
       " 'melville-moby_dick.txt',\n",
       " 'milton-paradise.txt',\n",
       " 'shakespeare-caesar.txt',\n",
       " 'shakespeare-hamlet.txt',\n",
       " 'shakespeare-macbeth.txt',\n",
       " 'whitman-leaves.txt']"
      ]
     },
     "execution_count": 7,
     "metadata": {},
     "output_type": "execute_result"
    }
   ],
   "source": [
    "nltk.corpus.gutenberg.fileids()"
   ]
  },
  {
   "cell_type": "code",
   "execution_count": 9,
   "metadata": {},
   "outputs": [],
   "source": [
    "whitmanWords = nltk.corpus.gutenberg.words(['whitman-leaves.txt'])"
   ]
  },
  {
   "cell_type": "code",
   "execution_count": 10,
   "metadata": {},
   "outputs": [
    {
     "data": {
      "text/plain": [
       "154883"
      ]
     },
     "execution_count": 10,
     "metadata": {},
     "output_type": "execute_result"
    }
   ],
   "source": [
    "len(whitmanWords)"
   ]
  },
  {
   "cell_type": "code",
   "execution_count": 12,
   "metadata": {},
   "outputs": [],
   "source": [
    "gutenbergDict = {fileid: nltk.corpus.gutenberg.words([fileid]) for fileid in nltk.corpus.gutenberg.fileids()}"
   ]
  },
  {
   "cell_type": "code",
   "execution_count": 13,
   "metadata": {},
   "outputs": [
    {
     "data": {
      "text/plain": [
       "154883"
      ]
     },
     "execution_count": 13,
     "metadata": {},
     "output_type": "execute_result"
    }
   ],
   "source": [
    "len(gutenbergDict['whitman-leaves.txt'])"
   ]
  },
  {
   "cell_type": "code",
   "execution_count": 15,
   "metadata": {},
   "outputs": [
    {
     "data": {
      "text/plain": [
       "[\"austen-emma.txt: ['[', 'Emma', 'by', 'Jane', 'Austen', '1816', ']', 'VOLUME', 'I', 'CHAPTER', 'I', 'Emma']\",\n",
       " \"austen-persuasion.txt: ['[', 'Persuasion', 'by', 'Jane', 'Austen', '1818', ']', 'Chapter', '1', 'Sir', 'Walter', 'Elliot']\",\n",
       " \"austen-sense.txt: ['[', 'Sense', 'and', 'Sensibility', 'by', 'Jane', 'Austen', '1811', ']', 'CHAPTER', '1', 'The']\",\n",
       " \"bible-kjv.txt: ['[', 'The', 'King', 'James', 'Bible', ']', 'The', 'Old', 'Testament', 'of', 'the', 'King']\",\n",
       " \"blake-poems.txt: ['[', 'Poems', 'by', 'William', 'Blake', '1789', ']', 'SONGS', 'OF', 'INNOCENCE', 'AND', 'OF']\",\n",
       " \"bryant-stories.txt: ['[', 'Stories', 'to', 'Tell', 'to', 'Children', 'by', 'Sara', 'Cone', 'Bryant', '1918', ']']\",\n",
       " \"burgess-busterbrown.txt: ['[', 'The', 'Adventures', 'of', 'Buster', 'Bear', 'by', 'Thornton', 'W', '.', 'Burgess', '1920']\",\n",
       " 'carroll-alice.txt: [\\'[\\', \\'Alice\\', \"\\'\", \\'s\\', \\'Adventures\\', \\'in\\', \\'Wonderland\\', \\'by\\', \\'Lewis\\', \\'Carroll\\', \\'1865\\', \\']\\']',\n",
       " \"chesterton-ball.txt: ['[', 'The', 'Ball', 'and', 'The', 'Cross', 'by', 'G', '.', 'K', '.', 'Chesterton']\",\n",
       " \"chesterton-brown.txt: ['[', 'The', 'Wisdom', 'of', 'Father', 'Brown', 'by', 'G', '.', 'K', '.', 'Chesterton']\",\n",
       " \"chesterton-thursday.txt: ['[', 'The', 'Man', 'Who', 'Was', 'Thursday', 'by', 'G', '.', 'K', '.', 'Chesterton']\",\n",
       " 'edgeworth-parents.txt: [\\'[\\', \\'The\\', \\'Parent\\', \"\\'\", \\'s\\', \\'Assistant\\', \\',\\', \\'by\\', \\'Maria\\', \\'Edgeworth\\', \\']\\', \\'THE\\']',\n",
       " \"melville-moby_dick.txt: ['[', 'Moby', 'Dick', 'by', 'Herman', 'Melville', '1851', ']', 'ETYMOLOGY', '.', '(', 'Supplied']\",\n",
       " \"milton-paradise.txt: ['[', 'Paradise', 'Lost', 'by', 'John', 'Milton', '1667', ']', 'Book', 'I', 'Of', 'Man']\",\n",
       " \"shakespeare-caesar.txt: ['[', 'The', 'Tragedie', 'of', 'Julius', 'Caesar', 'by', 'William', 'Shakespeare', '1599', ']', 'Actus']\",\n",
       " \"shakespeare-hamlet.txt: ['[', 'The', 'Tragedie', 'of', 'Hamlet', 'by', 'William', 'Shakespeare', '1599', ']', 'Actus', 'Primus']\",\n",
       " \"shakespeare-macbeth.txt: ['[', 'The', 'Tragedie', 'of', 'Macbeth', 'by', 'William', 'Shakespeare', '1603', ']', 'Actus', 'Primus']\",\n",
       " \"whitman-leaves.txt: ['[', 'Leaves', 'of', 'Grass', 'by', 'Walt', 'Whitman', '1855', ']', 'Come', ',', 'said']\"]"
      ]
     },
     "execution_count": 15,
     "metadata": {},
     "output_type": "execute_result"
    }
   ],
   "source": [
    "[f\"{fileid}: {tokens[:12]}\" for fileid, tokens in gutenbergDict.items()]"
   ]
  },
  {
   "cell_type": "code",
   "execution_count": 16,
   "metadata": {},
   "outputs": [],
   "source": [
    "gutenbergLowered = {}\n",
    "for fileid, tokens in gutenbergDict.items(): \n",
    "    loweredTokens = [token.lower() for token in tokens]\n",
    "    gutenbergLowered[fileid] = loweredTokens"
   ]
  },
  {
   "cell_type": "code",
   "execution_count": 21,
   "metadata": {},
   "outputs": [],
   "source": [
    "gutenbergLowered = {fileid: [token.lower() for token in tokens] \n",
    "                    for fileid, tokens in gutenbergDict.items()}"
   ]
  },
  {
   "cell_type": "code",
   "execution_count": 20,
   "metadata": {},
   "outputs": [
    {
     "data": {
      "text/plain": [
       "[\"austen-emma.txt: ['[', 'emma', 'by', 'jane', 'austen', '1816', ']', 'volume', 'i', 'chapter', 'i', 'emma']\",\n",
       " \"austen-persuasion.txt: ['[', 'persuasion', 'by', 'jane', 'austen', '1818', ']', 'chapter', '1', 'sir', 'walter', 'elliot']\",\n",
       " \"austen-sense.txt: ['[', 'sense', 'and', 'sensibility', 'by', 'jane', 'austen', '1811', ']', 'chapter', '1', 'the']\",\n",
       " \"bible-kjv.txt: ['[', 'the', 'king', 'james', 'bible', ']', 'the', 'old', 'testament', 'of', 'the', 'king']\",\n",
       " \"blake-poems.txt: ['[', 'poems', 'by', 'william', 'blake', '1789', ']', 'songs', 'of', 'innocence', 'and', 'of']\",\n",
       " \"bryant-stories.txt: ['[', 'stories', 'to', 'tell', 'to', 'children', 'by', 'sara', 'cone', 'bryant', '1918', ']']\",\n",
       " \"burgess-busterbrown.txt: ['[', 'the', 'adventures', 'of', 'buster', 'bear', 'by', 'thornton', 'w', '.', 'burgess', '1920']\",\n",
       " 'carroll-alice.txt: [\\'[\\', \\'alice\\', \"\\'\", \\'s\\', \\'adventures\\', \\'in\\', \\'wonderland\\', \\'by\\', \\'lewis\\', \\'carroll\\', \\'1865\\', \\']\\']',\n",
       " \"chesterton-ball.txt: ['[', 'the', 'ball', 'and', 'the', 'cross', 'by', 'g', '.', 'k', '.', 'chesterton']\",\n",
       " \"chesterton-brown.txt: ['[', 'the', 'wisdom', 'of', 'father', 'brown', 'by', 'g', '.', 'k', '.', 'chesterton']\",\n",
       " \"chesterton-thursday.txt: ['[', 'the', 'man', 'who', 'was', 'thursday', 'by', 'g', '.', 'k', '.', 'chesterton']\",\n",
       " 'edgeworth-parents.txt: [\\'[\\', \\'the\\', \\'parent\\', \"\\'\", \\'s\\', \\'assistant\\', \\',\\', \\'by\\', \\'maria\\', \\'edgeworth\\', \\']\\', \\'the\\']',\n",
       " \"melville-moby_dick.txt: ['[', 'moby', 'dick', 'by', 'herman', 'melville', '1851', ']', 'etymology', '.', '(', 'supplied']\",\n",
       " \"milton-paradise.txt: ['[', 'paradise', 'lost', 'by', 'john', 'milton', '1667', ']', 'book', 'i', 'of', 'man']\",\n",
       " \"shakespeare-caesar.txt: ['[', 'the', 'tragedie', 'of', 'julius', 'caesar', 'by', 'william', 'shakespeare', '1599', ']', 'actus']\",\n",
       " \"shakespeare-hamlet.txt: ['[', 'the', 'tragedie', 'of', 'hamlet', 'by', 'william', 'shakespeare', '1599', ']', 'actus', 'primus']\",\n",
       " \"shakespeare-macbeth.txt: ['[', 'the', 'tragedie', 'of', 'macbeth', 'by', 'william', 'shakespeare', '1603', ']', 'actus', 'primus']\",\n",
       " \"whitman-leaves.txt: ['[', 'leaves', 'of', 'grass', 'by', 'walt', 'whitman', '1855', ']', 'come', ',', 'said']\"]"
      ]
     },
     "execution_count": 20,
     "metadata": {},
     "output_type": "execute_result"
    }
   ],
   "source": [
    "[f\"{fileid}: {tokens[:12]}\" for fileid, tokens in gutenbergLowered.items()]"
   ]
  },
  {
   "cell_type": "code",
   "execution_count": 22,
   "metadata": {},
   "outputs": [],
   "source": [
    "gutenbergFreqs = {fileid: nltk.FreqDist(tokens) for fileid, tokens in gutenbergLowered.items()}"
   ]
  },
  {
   "cell_type": "code",
   "execution_count": 28,
   "metadata": {},
   "outputs": [],
   "source": [
    "whitmanLowered = [token.lower() for token in whitmanWords]"
   ]
  },
  {
   "cell_type": "code",
   "execution_count": 29,
   "metadata": {},
   "outputs": [],
   "source": [
    "whitmanFreqs = nltk.FreqDist(whitmanLowered)"
   ]
  },
  {
   "cell_type": "code",
   "execution_count": 36,
   "metadata": {},
   "outputs": [],
   "source": [
    "gutenbergDf = pd.DataFrame(gutenbergFreqs)"
   ]
  },
  {
   "cell_type": "code",
   "execution_count": 40,
   "metadata": {},
   "outputs": [
    {
     "data": {
      "text/plain": [
       "<matplotlib.axes._subplots.AxesSubplot at 0x7fe6cf96d090>"
      ]
     },
     "execution_count": 40,
     "metadata": {},
     "output_type": "execute_result"
    },
    {
     "data": {
      "image/png": "[encoded data removed]",
      "text/plain": [
       "<Figure size 432x288 with 1 Axes>"
      ]
     },
     "metadata": {
      "needs_background": "light"
     },
     "output_type": "display_data"
    }
   ],
   "source": [
    "pd.Series({fileid: len(words) \n",
    "           for fileid, words in gutenbergLowered.items()}).plot(kind='bar')"
   ]
  },
  {
   "cell_type": "code",
   "execution_count": 41,
   "metadata": {},
   "outputs": [],
   "source": [
    "gutenbergLengths = pd.Series({fileid: len(words) for fileid, words in gutenbergLowered.items()})"
   ]
  },
  {
   "cell_type": "code",
   "execution_count": 46,
   "metadata": {},
   "outputs": [],
   "source": [
    "gutenbergPercentagesDf = gutenbergDf / gutenbergLengths"
   ]
  },
  {
   "cell_type": "code",
   "execution_count": 49,
   "metadata": {},
   "outputs": [],
   "source": [
    "gutenbergPercentagesDf = gutenbergPercentagesDf.fillna(0)"
   ]
  },
  {
   "cell_type": "code",
   "execution_count": 60,
   "metadata": {},
   "outputs": [
    {
     "data": {
      "text/plain": [
       "<matplotlib.axes._subplots.AxesSubplot at 0x7fe6cc637c10>"
      ]
     },
     "execution_count": 60,
     "metadata": {},
     "output_type": "execute_result"
    },
    {
     "data": {
      "image/png": "[encoded data removed]",
      "text/plain": [
       "<Figure size 432x288 with 1 Axes>"
      ]
     },
     "metadata": {
      "needs_background": "light"
     },
     "output_type": "display_data"
    }
   ],
   "source": [
    "gutenbergPercentagesDf.loc[['she', 'he']].T.plot(kind='bar')"
   ]
  },
  {
   "cell_type": "code",
   "execution_count": 69,
   "metadata": {},
   "outputs": [],
   "source": [
    "def typeTokenRatio(tokens): \n",
    "    return len(set(tokens)) / len(tokens)"
   ]
  },
  {
   "cell_type": "code",
   "execution_count": 72,
   "metadata": {},
   "outputs": [
    {
     "data": {
      "text/plain": [
       "<matplotlib.axes._subplots.AxesSubplot at 0x7fe6cb603ed0>"
      ]
     },
     "execution_count": 72,
     "metadata": {},
     "output_type": "execute_result"
    },
    {
     "data": {
      "image/png": "[encoded data removed]",
      "text/plain": [
       "<Figure size 432x288 with 1 Axes>"
      ]
     },
     "metadata": {
      "needs_background": "light"
     },
     "output_type": "display_data"
    }
   ],
   "source": [
    "pd.Series({fileid: typeTokenRatio(tokens[4000:8000]) \n",
    "           for fileid, tokens in gutenbergLowered.items()}).plot(kind='bar')"
   ]
  },
  {
   "cell_type": "markdown",
   "metadata": {},
   "source": [
    "# Introducing Scikit-Learn"
   ]
  },
  {
   "cell_type": "code",
   "execution_count": null,
   "metadata": {},
   "outputs": [],
   "source": [
    "sklearn.feature_extraction.text.CountVectorizer"
   ]
  },
  {
   "cell_type": "markdown",
   "metadata": {},
   "source": [
    "strip_accents: é café -> cafe"
   ]
  },
  {
   "cell_type": "code",
   "execution_count": 75,
   "metadata": {},
   "outputs": [],
   "source": [
    "whitmanRaw = nltk.corpus.gutenberg.raw('whitman-leaves.txt')"
   ]
  },
  {
   "cell_type": "code",
   "execution_count": 85,
   "metadata": {},
   "outputs": [
    {
     "data": {
      "text/plain": [
       "<1x12379 sparse matrix of type '<class 'numpy.int64'>'\n",
       "\twith 12379 stored elements in Compressed Sparse Row format>"
      ]
     },
     "execution_count": 85,
     "metadata": {},
     "output_type": "execute_result"
    }
   ],
   "source": [
    "vectorizer = sklearn.feature_extraction.text.CountVectorizer()\n",
    "vectorizer.fit_transform([whitmanRaw])"
   ]
  },
  {
   "cell_type": "code",
   "execution_count": 89,
   "metadata": {},
   "outputs": [],
   "source": [
    "whitmanCounts = whitmanVecs.todense()"
   ]
  },
  {
   "cell_type": "code",
   "execution_count": 98,
   "metadata": {},
   "outputs": [
    {
     "ename": "SyntaxError",
     "evalue": "invalid syntax (<ipython-input-98-eb1e56ffdb41>, line 1)",
     "output_type": "error",
     "traceback": [
      "\u001b[0;36m  File \u001b[0;32m\"<ipython-input-98-eb1e56ffdb41>\"\u001b[0;36m, line \u001b[0;32m1\u001b[0m\n\u001b[0;31m    whitmanCounts[,:0]\u001b[0m\n\u001b[0m                  ^\u001b[0m\n\u001b[0;31mSyntaxError\u001b[0m\u001b[0;31m:\u001b[0m invalid syntax\n"
     ]
    }
   ],
   "source": [
    "whitmanCounts"
   ]
  },
  {
   "cell_type": "code",
   "execution_count": 90,
   "metadata": {},
   "outputs": [],
   "source": [
    "whitmanWords = vectorizer.get_feature_names()"
   ]
  },
  {
   "cell_type": "code",
   "execution_count": 100,
   "metadata": {},
   "outputs": [
    {
     "data": {
      "text/html": [
       "<div>\n",
       "<style scoped>\n",
       "    .dataframe tbody tr th:only-of-type {\n",
       "        vertical-align: middle;\n",
       "    }\n",
       "\n",
       "    .dataframe tbody tr th {\n",
       "        vertical-align: top;\n",
       "    }\n",
       "\n",
       "    .dataframe thead th {\n",
       "        text-align: right;\n",
       "    }\n",
       "</style>\n",
       "<table border=\"1\" class=\"dataframe\">\n",
       "  <thead>\n",
       "    <tr style=\"text-align: right;\">\n",
       "      <th></th>\n",
       "      <th>10</th>\n",
       "      <th>11</th>\n",
       "      <th>12</th>\n",
       "      <th>13</th>\n",
       "      <th>14</th>\n",
       "      <th>1492</th>\n",
       "      <th>15</th>\n",
       "      <th>16</th>\n",
       "      <th>16th</th>\n",
       "      <th>17</th>\n",
       "      <th>...</th>\n",
       "      <th>yourselp</th>\n",
       "      <th>yourselves</th>\n",
       "      <th>youth</th>\n",
       "      <th>youthful</th>\n",
       "      <th>youths</th>\n",
       "      <th>zee</th>\n",
       "      <th>zeus</th>\n",
       "      <th>zinc</th>\n",
       "      <th>zones</th>\n",
       "      <th>zuyder</th>\n",
       "    </tr>\n",
       "  </thead>\n",
       "  <tbody>\n",
       "    <tr>\n",
       "      <th>0</th>\n",
       "      <td>7</td>\n",
       "      <td>7</td>\n",
       "      <td>8</td>\n",
       "      <td>6</td>\n",
       "      <td>5</td>\n",
       "      <td>1</td>\n",
       "      <td>5</td>\n",
       "      <td>4</td>\n",
       "      <td>1</td>\n",
       "      <td>3</td>\n",
       "      <td>...</td>\n",
       "      <td>1</td>\n",
       "      <td>5</td>\n",
       "      <td>33</td>\n",
       "      <td>3</td>\n",
       "      <td>7</td>\n",
       "      <td>1</td>\n",
       "      <td>1</td>\n",
       "      <td>1</td>\n",
       "      <td>5</td>\n",
       "      <td>1</td>\n",
       "    </tr>\n",
       "  </tbody>\n",
       "</table>\n",
       "<p>1 rows × 12379 columns</p>\n",
       "</div>"
      ],
      "text/plain": [
       "   10  11  12  13  14  1492  15  16  16th  17  ...  yourselp  yourselves  \\\n",
       "0   7   7   8   6   5     1   5   4     1   3  ...         1           5   \n",
       "\n",
       "   youth  youthful  youths  zee  zeus  zinc  zones  zuyder  \n",
       "0     33         3       7    1     1     1      5       1  \n",
       "\n",
       "[1 rows x 12379 columns]"
      ]
     },
     "execution_count": 100,
     "metadata": {},
     "output_type": "execute_result"
    }
   ],
   "source": [
    "pd.DataFrame(whitmanCounts, columns=whitmanWords)"
   ]
  },
  {
   "cell_type": "code",
   "execution_count": 102,
   "metadata": {},
   "outputs": [],
   "source": [
    "fileids = nltk.corpus.gutenberg.fileids()\n",
    "gutenbergTexts = [nltk.corpus.gutenberg.raw(fileid) for fileid in fileids]"
   ]
  },
  {
   "cell_type": "code",
   "execution_count": 103,
   "metadata": {},
   "outputs": [
    {
     "data": {
      "text/plain": [
       "18"
      ]
     },
     "execution_count": 103,
     "metadata": {},
     "output_type": "execute_result"
    }
   ],
   "source": [
    "len(gutenbergTexts)"
   ]
  },
  {
   "cell_type": "code",
   "execution_count": 106,
   "metadata": {},
   "outputs": [],
   "source": [
    "vectorizer = sklearn.feature_extraction.text.CountVectorizer()\n",
    "gutenbergVecs = vectorizer.fit_transform(gutenbergTexts).todense()"
   ]
  },
  {
   "cell_type": "code",
   "execution_count": 112,
   "metadata": {},
   "outputs": [],
   "source": [
    "gutenbergCounts = pd.DataFrame(gutenbergVecs, columns=vectorizer.get_feature_names(), index=fileids)"
   ]
  },
  {
   "cell_type": "code",
   "execution_count": 117,
   "metadata": {},
   "outputs": [],
   "source": [
    "gutenbergFreqs = gutenbergCounts.T / gutenbergLengths"
   ]
  },
  {
   "cell_type": "code",
   "execution_count": 119,
   "metadata": {},
   "outputs": [
    {
     "data": {
      "text/plain": [
       "<matplotlib.axes._subplots.AxesSubplot at 0x7fe6c87191d0>"
      ]
     },
     "execution_count": 119,
     "metadata": {},
     "output_type": "execute_result"
    },
    {
     "data": {
      "image/png": "[encoded data removed]",
      "text/plain": [
       "<Figure size 432x288 with 1 Axes>"
      ]
     },
     "metadata": {
      "needs_background": "light"
     },
     "output_type": "display_data"
    }
   ],
   "source": [
    "gutenbergFreqs.loc['angel'].plot(kind='bar')"
   ]
  },
  {
   "cell_type": "code",
   "execution_count": 123,
   "metadata": {},
   "outputs": [],
   "source": [
    "def getDate(tokens): \n",
    "    for token in tokens: \n",
    "        if token.isnumeric(): \n",
    "            return token"
   ]
  },
  {
   "cell_type": "code",
   "execution_count": 125,
   "metadata": {},
   "outputs": [],
   "source": [
    "gutenbergWords = [nltk.corpus.gutenberg.words(fileid) for fileid in fileids]"
   ]
  },
  {
   "cell_type": "code",
   "execution_count": 126,
   "metadata": {},
   "outputs": [],
   "source": [
    "dates = [getDate(tokens) for tokens in gutenbergWords]"
   ]
  },
  {
   "cell_type": "code",
   "execution_count": 130,
   "metadata": {},
   "outputs": [],
   "source": [
    "dateFileids = [f\"{date}-{fileid}\" for date, fileid in zip(dates, fileids)]"
   ]
  },
  {
   "cell_type": "code",
   "execution_count": 131,
   "metadata": {},
   "outputs": [
    {
     "data": {
      "text/plain": [
       "['1816-austen-emma.txt',\n",
       " '1818-austen-persuasion.txt',\n",
       " '1811-austen-sense.txt',\n",
       " '1-bible-kjv.txt',\n",
       " '1789-blake-poems.txt',\n",
       " '1918-bryant-stories.txt',\n",
       " '1920-burgess-busterbrown.txt',\n",
       " '1865-carroll-alice.txt',\n",
       " '1909-chesterton-ball.txt',\n",
       " '1914-chesterton-brown.txt',\n",
       " '1908-chesterton-thursday.txt',\n",
       " '3-edgeworth-parents.txt',\n",
       " '1851-melville-moby_dick.txt',\n",
       " '1667-milton-paradise.txt',\n",
       " '1599-shakespeare-caesar.txt',\n",
       " '1599-shakespeare-hamlet.txt',\n",
       " '1603-shakespeare-macbeth.txt',\n",
       " '1855-whitman-leaves.txt']"
      ]
     },
     "execution_count": 131,
     "metadata": {},
     "output_type": "execute_result"
    }
   ],
   "source": [
    "dateFileids"
   ]
  },
  {
   "cell_type": "code",
   "execution_count": 132,
   "metadata": {},
   "outputs": [],
   "source": [
    "vectorizer = sklearn.feature_extraction.text.CountVectorizer()\n",
    "gutenbergVecs = vectorizer.fit_transform(gutenbergTexts).todense()\n",
    "gutenbergCounts = pd.DataFrame(gutenbergVecs, columns=vectorizer.get_feature_names(), index=dateFileids)"
   ]
  },
  {
   "cell_type": "code",
   "execution_count": 147,
   "metadata": {},
   "outputs": [],
   "source": [
    "angelCounts = gutenbergCounts.T.loc['thee']"
   ]
  },
  {
   "cell_type": "code",
   "execution_count": 148,
   "metadata": {},
   "outputs": [
    {
     "data": {
      "text/plain": [
       "<matplotlib.axes._subplots.AxesSubplot at 0x7fe6a3f3d0d0>"
      ]
     },
     "execution_count": 148,
     "metadata": {},
     "output_type": "execute_result"
    },
    {
     "data": {
      "image/png": "[encoded data removed]",
      "text/plain": [
       "<Figure size 432x288 with 1 Axes>"
      ]
     },
     "metadata": {
      "needs_background": "light"
     },
     "output_type": "display_data"
    }
   ],
   "source": [
    "angelCounts.sort_index().plot()"
   ]
  },
  {
   "cell_type": "code",
   "execution_count": null,
   "metadata": {},
   "outputs": [],
   "source": []
  }
 ],
 "metadata": {
  "kernelspec": {
   "display_name": "Python 3",
   "language": "python",
   "name": "python3"
  },
  "language_info": {
   "codemirror_mode": {
    "name": "ipython",
    "version": 3
   },
   "file_extension": ".py",
   "mimetype": "text/x-python",
   "name": "python",
   "nbconvert_exporter": "python",
   "pygments_lexer": "ipython3",
   "version": "3.7.7"
  }
 },
 "nbformat": 4,
 "nbformat_minor": 4
}
