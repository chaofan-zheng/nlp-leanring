{
 "cells": [
  {
   "cell_type": "markdown",
   "metadata": {},
   "source": [
    "# More on POS (Parts of Speech)"
   ]
  },
  {
   "cell_type": "code",
   "execution_count": 50,
   "metadata": {},
   "outputs": [],
   "source": [
    "import nltk\n",
    "from collections import Counter\n",
    "import pandas as pd"
   ]
  },
  {
   "cell_type": "code",
   "execution_count": 11,
   "metadata": {},
   "outputs": [],
   "source": [
    "moonstone = open('../Readings/content/texts/moonstone.md').read()\n",
    "moonstoneTokens = nltk.word_tokenize(moonstone.lower())\n",
    "moonstoneTagged = nltk.pos_tag(moonstoneTokens)"
   ]
  },
  {
   "cell_type": "markdown",
   "metadata": {},
   "source": [
    "## Looking for a pattern\n",
    "\n",
    "\"the other ____\" \n",
    "\n",
    "             ^- Want this to be a noun \n",
    "             \n",
    "\"the other [NN]\""
   ]
  },
  {
   "cell_type": "code",
   "execution_count": 12,
   "metadata": {},
   "outputs": [],
   "source": [
    "word, tag = ('cousin', 'NN')"
   ]
  },
  {
   "cell_type": "code",
   "execution_count": 13,
   "metadata": {},
   "outputs": [
    {
     "data": {
      "text/plain": [
       "'NN'"
      ]
     },
     "execution_count": 13,
     "metadata": {},
     "output_type": "execute_result"
    }
   ],
   "source": [
    "tag"
   ]
  },
  {
   "cell_type": "code",
   "execution_count": 14,
   "metadata": {},
   "outputs": [
    {
     "data": {
      "text/plain": [
       "[(0, 'a'), (1, 'b'), (2, 'c')]"
      ]
     },
     "execution_count": 14,
     "metadata": {},
     "output_type": "execute_result"
    }
   ],
   "source": [
    "l = ['a', 'b', 'c']\n",
    "list(enumerate(l))"
   ]
  },
  {
   "cell_type": "code",
   "execution_count": 15,
   "metadata": {},
   "outputs": [],
   "source": [
    "theOthers = []\n",
    "for i, wordTagPair in enumerate(moonstoneTagged): \n",
    "    if i == len(moonstoneTagged) - 3: \n",
    "        break \n",
    "    word, tag = wordTagPair\n",
    "    nextWord, nextTag = moonstoneTagged[i+1] \n",
    "    nextNextWord, nextNextTag = moonstoneTagged[i+2]\n",
    "    if word == \"the\": \n",
    "        if nextWord == \"most\": \n",
    "            if nextNextTag == 'JJ': \n",
    "                theOthers.append([word, nextWord, nextNextWord])"
   ]
  },
  {
   "cell_type": "code",
   "execution_count": 16,
   "metadata": {},
   "outputs": [
    {
     "data": {
      "text/plain": [
       "[('the most exasperating', 2),\n",
       " ('the most unendurable', 2),\n",
       " ('the most atrocious', 1),\n",
       " ('the most elegant', 1),\n",
       " ('the most horrible', 1),\n",
       " ('the most slovenly', 1),\n",
       " ('the most monstrous', 1),\n",
       " ('the most charming', 1),\n",
       " ('the most accomplished', 1),\n",
       " ('the most inveterate', 1),\n",
       " ('the most unfortunate', 1),\n",
       " ('the most polite', 1),\n",
       " ('the most customary', 1),\n",
       " ('the most comforting', 1),\n",
       " ('the most melancholy', 1),\n",
       " ('the most entire', 1),\n",
       " ('the most painful', 1),\n",
       " ('the most composing', 1),\n",
       " ('the most truly', 1),\n",
       " ('the most ungovernable', 1),\n",
       " ('the most prominent', 1),\n",
       " ('the most amusing', 1),\n",
       " ('the most awful', 1),\n",
       " ('the most rigid', 1),\n",
       " ('the most priceless', 1),\n",
       " ('the most unruffled', 1),\n",
       " ('the most poorly-gifted', 1),\n",
       " ('the most unfaltering', 1),\n",
       " ('the most affectionate', 1),\n",
       " ('the most pardonable', 1),\n",
       " ('the most contemptible', 1),\n",
       " ('the most odious', 1),\n",
       " ('the most un-english', 1),\n",
       " ('the most dreary', 1),\n",
       " ('the most profitless', 1),\n",
       " ('the most difficult', 1),\n",
       " ('the most positive', 1),\n",
       " ('the most indistinct', 1),\n",
       " ('the most adorable', 1),\n",
       " ('the most beautiful', 1),\n",
       " ('the most extraordinary', 1),\n",
       " ('the most remarkable-looking', 1),\n",
       " ('the most degraded', 1),\n",
       " ('the most discouraging', 1),\n",
       " ('the most important', 1),\n",
       " ('the most disgraceful', 1),\n",
       " ('the most famous', 1)]"
      ]
     },
     "execution_count": 16,
     "metadata": {},
     "output_type": "execute_result"
    }
   ],
   "source": [
    "Counter([' '.join(words) for words in theOthers]).most_common(50)"
   ]
  },
  {
   "cell_type": "code",
   "execution_count": 17,
   "metadata": {},
   "outputs": [],
   "source": [
    "moonstoneParts = moonstone.split('\\n## ')"
   ]
  },
  {
   "cell_type": "code",
   "execution_count": 18,
   "metadata": {},
   "outputs": [
    {
     "data": {
      "text/plain": [
       "11955"
      ]
     },
     "execution_count": 18,
     "metadata": {},
     "output_type": "execute_result"
    }
   ],
   "source": [
    "moonstoneParts[1].find('First Period')"
   ]
  },
  {
   "cell_type": "code",
   "execution_count": 19,
   "metadata": {},
   "outputs": [],
   "source": [
    "betteredge = moonstoneParts[1][11955:]"
   ]
  },
  {
   "cell_type": "code",
   "execution_count": 22,
   "metadata": {},
   "outputs": [
    {
     "data": {
      "text/plain": [
       "['First Narrative\\n\\nContributed by MISS CLACK; niece of the late SIR JOHN VERINDER\\n\\n### Chapter I\\n\\nI am indebted to my dear parents (both now in heaven) ',\n",
       " 'Second Narrative\\n\\nContributed by MATHEW BRUFF, Solicitor, of Gray’s Inn Square\\n\\n### Chapter I\\n\\nMy fair friend, Miss Clack, having laid down the pen, t',\n",
       " 'Third Narrative\\n\\nContributed by FRANKLIN BLAKE\\n\\n### Chapter I\\n\\nIn the spring of the year eighteen hundred and forty-nine I was\\nwandering in the East, ',\n",
       " 'Fourth Narrative\\n\\nExtracted from the Journal of EZRA JENNINGS\\n\\n1849.–June 15…. With some interruption from patients, and some\\ninterruption from pain, ',\n",
       " 'Fifth Narrative\\n\\nThe Story Resumed by FRANKLIN BLAKE\\n\\n### Chapter I\\n\\nBut few words are needed, on my part, to complete the narrative that has\\nbeen pre',\n",
       " 'Sixth Narrative\\n\\nContributed by SERGEANT CUFF\\n\\n### Chapter I\\n\\nDorking, Surrey, July 30th, 1849. To Franklin Blake, Esq. Sir,–I beg to\\napologise for th',\n",
       " 'Seventh Narrative\\n\\nIn a Letter from MR. CANDY\\n\\nFrizinghall, Wednesday, September 26th, 1849.–Dear Mr.\\xa0Franklin Blake,\\nyou will anticipate the sad news',\n",
       " 'Eighth Narrative\\n\\nContributed by GABRIEL BETTEREDGE\\n\\nI am the person (as you remember no doubt) who led the way in these\\npages, and opened the story. ',\n",
       " 'Epilogue\\n\\nTHE FINDING OF THE DIAMOND\\n\\n### Chapter I\\n\\nThe Statement of SERGEANT CUFF’S MAN (1849)\\n\\nOn the twenty-seventh of June last, I received instr']"
      ]
     },
     "execution_count": 22,
     "metadata": {},
     "output_type": "execute_result"
    }
   ],
   "source": [
    "[part[:150] for part in moonstoneParts[3:]] "
   ]
  },
  {
   "cell_type": "code",
   "execution_count": 23,
   "metadata": {},
   "outputs": [],
   "source": [
    "narrators = ['clack', 'bruff', 'blake', 'jennings', 'blake2', 'cuff', 'candy', 'betteredege2', 'epilogue'] "
   ]
  },
  {
   "cell_type": "code",
   "execution_count": 24,
   "metadata": {},
   "outputs": [],
   "source": [
    "narratorDict = {narrator: text for narrator, text in zip(narrators, moonstoneParts[3:])}"
   ]
  },
  {
   "cell_type": "code",
   "execution_count": 40,
   "metadata": {},
   "outputs": [],
   "source": [
    "narratorDict['betteredge'] = betteredge"
   ]
  },
  {
   "cell_type": "code",
   "execution_count": 37,
   "metadata": {},
   "outputs": [],
   "source": [
    "def findPattern(wordList, text):\n",
    "    word1, word2, tag3 = wordList\n",
    "    theOthers = []\n",
    "    for i, wordTagPair in enumerate(text): \n",
    "        if i == len(text) - 3: \n",
    "            break \n",
    "        word, tag = wordTagPair\n",
    "        nextWord, nextTag = text[i+1] \n",
    "        nextNextWord, nextNextTag = text[i+2]\n",
    "        if word == word1: \n",
    "            if nextWord == word2: \n",
    "                if nextNextTag == tag3: \n",
    "                    theOthers.append([word, nextWord, nextNextWord])\n",
    "    return theOthers"
   ]
  },
  {
   "cell_type": "code",
   "execution_count": 42,
   "metadata": {},
   "outputs": [],
   "source": [
    "superlativesDict = {}\n",
    "for narr in narratorDict: \n",
    "    text = narratorDict[narr]\n",
    "    taggedText = nltk.pos_tag(nltk.word_tokenize(text))\n",
    "    pats = findPattern(['the', 'most', 'JJ'], taggedText)\n",
    "    superlativesDict[narr] = pats"
   ]
  },
  {
   "cell_type": "code",
   "execution_count": 46,
   "metadata": {},
   "outputs": [
    {
     "name": "stdout",
     "output_type": "stream",
     "text": [
      "('clack', [['the', 'most', 'truly'], ['the', 'most', 'ungovernable'], ['the', 'most', 'prominent'], ['the', 'most', 'amusing'], ['the', 'most', 'awful'], ['the', 'most', 'rigid'], ['the', 'most', 'priceless'], ['the', 'most', 'unruffled'], ['the', 'most', 'poorly-gifted'], ['the', 'most', 'unfaltering'], ['the', 'most', 'affectionate'], ['the', 'most', 'exasperating'], ['the', 'most', 'pardonable']])\n",
      "('bruff', [['the', 'most', 'contemptible'], ['the', 'most', 'odious'], ['the', 'most', 'un-English'], ['the', 'most', 'dreary'], ['the', 'most', 'profitless'], ['the', 'most', 'difficult']])\n",
      "('blake', [['the', 'most', 'positive'], ['the', 'most', 'indistinct'], ['the', 'most', 'adorable'], ['the', 'most', 'beautiful'], ['the', 'most', 'extraordinary'], ['the', 'most', 'remarkable-looking'], ['the', 'most', 'discouraging']])\n",
      "('jennings', [['the', 'most', 'important']])\n",
      "('blake2', [['the', 'most', 'disgraceful']])\n",
      "('cuff', [])\n",
      "('candy', [])\n",
      "('betteredege2', [])\n",
      "('epilogue', [['the', 'most', 'famous']])\n",
      "('betteredge', [['the', 'most', 'atrocious'], ['the', 'most', 'elegant'], ['the', 'most', 'horrible'], ['the', 'most', 'slovenly'], ['the', 'most', 'monstrous'], ['the', 'most', 'charming'], ['the', 'most', 'accomplished'], ['the', 'most', 'inveterate'], ['the', 'most', 'unfortunate'], ['the', 'most', 'polite'], ['the', 'most', 'customary'], ['the', 'most', 'comforting'], ['the', 'most', 'melancholy'], ['the', 'most', 'entire'], ['the', 'most', 'painful'], ['the', 'most', 'composing'], ['the', 'most', 'exasperating'], ['the', 'most', 'unendurable']])\n"
     ]
    }
   ],
   "source": [
    "for item in superlativesDict.items():\n",
    "    print(item)"
   ]
  },
  {
   "cell_type": "code",
   "execution_count": 48,
   "metadata": {},
   "outputs": [],
   "source": [
    "superlativeCounts = {narr: len(pats) for narr, pats in superlativesDict.items()}"
   ]
  },
  {
   "cell_type": "code",
   "execution_count": 52,
   "metadata": {},
   "outputs": [],
   "source": [
    "narratorLens = {narr: len(text) for narr, text in narratorDict.items()}"
   ]
  },
  {
   "cell_type": "code",
   "execution_count": 55,
   "metadata": {},
   "outputs": [],
   "source": [
    "lengthsSeries = pd.Series(narratorLens)"
   ]
  },
  {
   "cell_type": "code",
   "execution_count": 56,
   "metadata": {},
   "outputs": [],
   "source": [
    "superlativesSeries = pd.Series(superlativeCounts)"
   ]
  },
  {
   "cell_type": "code",
   "execution_count": 61,
   "metadata": {},
   "outputs": [
    {
     "data": {
      "text/plain": [
       "<matplotlib.axes._subplots.AxesSubplot at 0x7f390f2b5b90>"
      ]
     },
     "execution_count": 61,
     "metadata": {},
     "output_type": "execute_result"
    },
    {
     "data": {
      "image/png": "[encoded data removed]",
      "text/plain": [
       "<Figure size 432x288 with 1 Axes>"
      ]
     },
     "metadata": {
      "needs_background": "light"
     },
     "output_type": "display_data"
    }
   ],
   "source": [
    "((superlativesSeries / lengthsSeries) * 10000).plot(kind='bar')"
   ]
  },
  {
   "cell_type": "code",
   "execution_count": 62,
   "metadata": {},
   "outputs": [],
   "source": [
    "def findPattern2(wordList, text):\n",
    "    tag1, word2, word3 = wordList\n",
    "    theOthers = []\n",
    "    for i, wordTagPair in enumerate(text): \n",
    "        if i == len(text) - 3: \n",
    "            break \n",
    "        word, tag = wordTagPair\n",
    "        nextWord, nextTag = text[i+1] \n",
    "        nextNextWord, nextNextTag = text[i+2]\n",
    "        if tag == tag1: \n",
    "            if nextWord == word2: \n",
    "                if nextNextWord == word3: \n",
    "                    theOthers.append([word, nextWord, nextNextWord])\n",
    "    return theOthers"
   ]
  },
  {
   "cell_type": "code",
   "execution_count": 68,
   "metadata": {},
   "outputs": [
    {
     "data": {
      "text/plain": [
       "[]"
      ]
     },
     "execution_count": 68,
     "metadata": {},
     "output_type": "execute_result"
    }
   ],
   "source": [
    "findPattern2(['VVD', 'the', 'diamond'], moonstoneTagged)"
   ]
  },
  {
   "cell_type": "markdown",
   "metadata": {},
   "source": [
    "## Corpora\n",
    "\n",
    "A corpus is just a collection of text. Corpora are collections of text. "
   ]
  },
  {
   "cell_type": "code",
   "execution_count": 70,
   "metadata": {},
   "outputs": [
    {
     "data": {
      "text/plain": [
       "['AlignedCorpusReader',\n",
       " 'AlpinoCorpusReader',\n",
       " 'BNCCorpusReader',\n",
       " 'BracketParseCorpusReader',\n",
       " 'CHILDESCorpusReader',\n",
       " 'CMUDictCorpusReader',\n",
       " 'CategorizedBracketParseCorpusReader',\n",
       " 'CategorizedCorpusReader',\n",
       " 'CategorizedPlaintextCorpusReader',\n",
       " 'CategorizedSentencesCorpusReader',\n",
       " 'CategorizedTaggedCorpusReader',\n",
       " 'ChasenCorpusReader',\n",
       " 'ChunkedCorpusReader',\n",
       " 'ComparativeSentencesCorpusReader',\n",
       " 'ConllChunkCorpusReader',\n",
       " 'ConllCorpusReader',\n",
       " 'CorpusReader',\n",
       " 'CrubadanCorpusReader',\n",
       " 'DependencyCorpusReader',\n",
       " 'EuroparlCorpusReader',\n",
       " 'FramenetCorpusReader',\n",
       " 'IEERCorpusReader',\n",
       " 'IPIPANCorpusReader',\n",
       " 'IndianCorpusReader',\n",
       " 'KNBCorpusReader',\n",
       " 'LazyCorpusLoader',\n",
       " 'LinThesaurusCorpusReader',\n",
       " 'MTECorpusReader',\n",
       " 'MWAPPDBCorpusReader',\n",
       " 'MacMorphoCorpusReader',\n",
       " 'NKJPCorpusReader',\n",
       " 'NPSChatCorpusReader',\n",
       " 'NombankCorpusReader',\n",
       " 'NonbreakingPrefixesCorpusReader',\n",
       " 'OpinionLexiconCorpusReader',\n",
       " 'PPAttachmentCorpusReader',\n",
       " 'PanLexLiteCorpusReader',\n",
       " 'PanlexSwadeshCorpusReader',\n",
       " 'Pl196xCorpusReader',\n",
       " 'PlaintextCorpusReader',\n",
       " 'PortugueseCategorizedPlaintextCorpusReader',\n",
       " 'PropbankCorpusReader',\n",
       " 'ProsConsCorpusReader',\n",
       " 'RTECorpusReader',\n",
       " 'RegexpTokenizer',\n",
       " 'ReviewsCorpusReader',\n",
       " 'SemcorCorpusReader',\n",
       " 'SensevalCorpusReader',\n",
       " 'SentiSynset',\n",
       " 'SentiWordNetCorpusReader',\n",
       " 'SinicaTreebankCorpusReader',\n",
       " 'StringCategoryCorpusReader',\n",
       " 'SwadeshCorpusReader',\n",
       " 'SwitchboardCorpusReader',\n",
       " 'SyntaxCorpusReader',\n",
       " 'TEICorpusView',\n",
       " 'TaggedCorpusReader',\n",
       " 'TimitCorpusReader',\n",
       " 'TimitTaggedCorpusReader',\n",
       " 'ToolboxCorpusReader',\n",
       " 'TwitterCorpusReader',\n",
       " 'UdhrCorpusReader',\n",
       " 'UnicharsCorpusReader',\n",
       " 'VerbnetCorpusReader',\n",
       " 'WordListCorpusReader',\n",
       " 'WordNetCorpusReader',\n",
       " 'WordNetICCorpusReader',\n",
       " 'XMLCorpusReader',\n",
       " 'YCOECorpusReader',\n",
       " '_LazyModule__lazymodule_globals',\n",
       " '_LazyModule__lazymodule_import',\n",
       " '_LazyModule__lazymodule_init',\n",
       " '_LazyModule__lazymodule_loaded',\n",
       " '_LazyModule__lazymodule_locals',\n",
       " '_LazyModule__lazymodule_name',\n",
       " '__builtins__',\n",
       " '__cached__',\n",
       " '__class__',\n",
       " '__delattr__',\n",
       " '__dict__',\n",
       " '__dir__',\n",
       " '__doc__',\n",
       " '__eq__',\n",
       " '__file__',\n",
       " '__format__',\n",
       " '__ge__',\n",
       " '__getattr__',\n",
       " '__getattribute__',\n",
       " '__gt__',\n",
       " '__hash__',\n",
       " '__init__',\n",
       " '__init_subclass__',\n",
       " '__lazymodule_loaded',\n",
       " '__le__',\n",
       " '__loader__',\n",
       " '__lt__',\n",
       " '__module__',\n",
       " '__name__',\n",
       " '__ne__',\n",
       " '__new__',\n",
       " '__package__',\n",
       " '__path__',\n",
       " '__reduce__',\n",
       " '__reduce_ex__',\n",
       " '__repr__',\n",
       " '__setattr__',\n",
       " '__sizeof__',\n",
       " '__spec__',\n",
       " '__str__',\n",
       " '__subclasshook__',\n",
       " '__weakref__',\n",
       " 'abc',\n",
       " 'alpino',\n",
       " 'brown',\n",
       " 'cess_cat',\n",
       " 'cess_esp',\n",
       " 'cmudict',\n",
       " 'comparative_sentences',\n",
       " 'comtrans',\n",
       " 'conll2000',\n",
       " 'conll2002',\n",
       " 'conll2007',\n",
       " 'crubadan',\n",
       " 'demo',\n",
       " 'dependency_treebank',\n",
       " 'find_corpus_fileids',\n",
       " 'floresta',\n",
       " 'framenet',\n",
       " 'framenet15',\n",
       " 'gazetteers',\n",
       " 'genesis',\n",
       " 'gutenberg',\n",
       " 'ieer',\n",
       " 'inaugural',\n",
       " 'indian',\n",
       " 'jeita',\n",
       " 'knbc',\n",
       " 'lin_thesaurus',\n",
       " 'mac_morpho',\n",
       " 'machado',\n",
       " 'masc_tagged',\n",
       " 'movie_reviews',\n",
       " 'multext_east',\n",
       " 'names',\n",
       " 'nombank',\n",
       " 'nombank_ptb',\n",
       " 'nonbreaking_prefixes',\n",
       " 'nps_chat',\n",
       " 'opinion_lexicon',\n",
       " 'perluniprops',\n",
       " 'ppattach',\n",
       " 'product_reviews_1',\n",
       " 'product_reviews_2',\n",
       " 'propbank',\n",
       " 'propbank_ptb',\n",
       " 'pros_cons',\n",
       " 'ptb',\n",
       " 'qc',\n",
       " 're',\n",
       " 'reader',\n",
       " 'reuters',\n",
       " 'rte',\n",
       " 'semcor',\n",
       " 'senseval',\n",
       " 'sentence_polarity',\n",
       " 'sentiwordnet',\n",
       " 'shakespeare',\n",
       " 'sinica_treebank',\n",
       " 'state_union',\n",
       " 'stopwords',\n",
       " 'subjectivity',\n",
       " 'swadesh',\n",
       " 'swadesh110',\n",
       " 'swadesh207',\n",
       " 'switchboard',\n",
       " 'tagged_treebank_para_block_reader',\n",
       " 'teardown_module',\n",
       " 'timit',\n",
       " 'timit_tagged',\n",
       " 'toolbox',\n",
       " 'treebank',\n",
       " 'treebank_chunk',\n",
       " 'treebank_raw',\n",
       " 'twitter_samples',\n",
       " 'udhr',\n",
       " 'udhr2',\n",
       " 'universal_treebanks',\n",
       " 'util',\n",
       " 'verbnet',\n",
       " 'webtext',\n",
       " 'wordnet',\n",
       " 'wordnet_ic',\n",
       " 'words']"
      ]
     },
     "execution_count": 70,
     "metadata": {},
     "output_type": "execute_result"
    }
   ],
   "source": [
    "dir(nltk.corpus)"
   ]
  },
  {
   "cell_type": "markdown",
   "metadata": {},
   "source": [
    "## The Brown Corpus"
   ]
  },
  {
   "cell_type": "code",
   "execution_count": 71,
   "metadata": {},
   "outputs": [],
   "source": [
    "from nltk.corpus import brown"
   ]
  },
  {
   "cell_type": "code",
   "execution_count": 76,
   "metadata": {},
   "outputs": [],
   "source": [
    "# brown.raw(categories=['fiction'])"
   ]
  },
  {
   "cell_type": "code",
   "execution_count": 78,
   "metadata": {},
   "outputs": [],
   "source": [
    "fiction = brown.words(categories=['fiction'])"
   ]
  },
  {
   "cell_type": "code",
   "execution_count": 80,
   "metadata": {},
   "outputs": [
    {
     "data": {
      "text/plain": [
       "68488"
      ]
     },
     "execution_count": 80,
     "metadata": {},
     "output_type": "execute_result"
    }
   ],
   "source": [
    "len(fiction)"
   ]
  },
  {
   "cell_type": "code",
   "execution_count": 81,
   "metadata": {},
   "outputs": [],
   "source": [
    "categories = brown.categories()"
   ]
  },
  {
   "cell_type": "code",
   "execution_count": 82,
   "metadata": {},
   "outputs": [],
   "source": [
    "categoriesDict = {}\n",
    "for category in categories: \n",
    "    words = brown.words(categories=[category])\n",
    "    categoriesDict[category] = words"
   ]
  },
  {
   "cell_type": "code",
   "execution_count": 83,
   "metadata": {},
   "outputs": [],
   "source": [
    "categoriesDiction = {category: brown.words(categories=[category]) for category in categories }"
   ]
  },
  {
   "cell_type": "code",
   "execution_count": 84,
   "metadata": {},
   "outputs": [
    {
     "data": {
      "text/plain": [
       "{'adventure': ['Dan', 'Morgan', 'told', 'himself', 'he', 'would', ...],\n",
       " 'belles_lettres': ['Northern', 'liberals', 'are', 'the', 'chief', ...],\n",
       " 'editorial': ['Assembly', 'session', 'brought', 'much', 'good', ...],\n",
       " 'fiction': ['Thirty-three', 'Scotty', 'did', 'not', 'go', 'back', ...],\n",
       " 'government': ['The', 'Office', 'of', 'Business', 'Economics', '(', ...],\n",
       " 'hobbies': ['Too', 'often', 'a', 'beginning', 'bodybuilder', ...],\n",
       " 'humor': ['It', 'was', 'among', 'these', 'that', 'Hinkle', ...],\n",
       " 'learned': ['1', '.', 'Introduction', 'It', 'has', 'recently', ...],\n",
       " 'lore': ['In', 'American', 'romance', ',', 'almost', 'nothing', ...],\n",
       " 'mystery': ['There', 'were', 'thirty-eight', 'patients', 'on', ...],\n",
       " 'news': ['The', 'Fulton', 'County', 'Grand', 'Jury', 'said', ...],\n",
       " 'religion': ['As', 'a', 'result', ',', 'although', 'we', 'still', ...],\n",
       " 'reviews': ['It', 'is', 'not', 'news', 'that', 'Nathan', ...],\n",
       " 'romance': ['They', 'neither', 'liked', 'nor', 'disliked', 'the', ...],\n",
       " 'science_fiction': ['Now', 'that', 'he', 'knew', 'himself', 'to', 'be', ...]}"
      ]
     },
     "execution_count": 84,
     "metadata": {},
     "output_type": "execute_result"
    }
   ],
   "source": [
    "categoriesDict"
   ]
  },
  {
   "cell_type": "code",
   "execution_count": 86,
   "metadata": {},
   "outputs": [
    {
     "data": {
      "text/plain": [
       "5"
      ]
     },
     "execution_count": 86,
     "metadata": {},
     "output_type": "execute_result"
    }
   ],
   "source": [
    "['the', 'the', 'the', 'the', 'the', 'thats', 'all', 'folks'].count('the')"
   ]
  },
  {
   "cell_type": "code",
   "execution_count": 105,
   "metadata": {},
   "outputs": [],
   "source": [
    "americanCounts = pd.Series({category: words.count('love') for category, words in categoriesDict.items()})"
   ]
  },
  {
   "cell_type": "code",
   "execution_count": 106,
   "metadata": {},
   "outputs": [],
   "source": [
    "wordCounts = pd.Series({category: len(words) for category, words in categoriesDict.items()})"
   ]
  },
  {
   "cell_type": "code",
   "execution_count": 107,
   "metadata": {},
   "outputs": [
    {
     "data": {
      "text/plain": [
       "<matplotlib.axes._subplots.AxesSubplot at 0x7f3909642650>"
      ]
     },
     "execution_count": 107,
     "metadata": {},
     "output_type": "execute_result"
    },
    {
     "data": {
      "image/png": "[encoded data removed]",
      "text/plain": [
       "<Figure size 432x288 with 1 Axes>"
      ]
     },
     "metadata": {
      "needs_background": "light"
     },
     "output_type": "display_data"
    }
   ],
   "source": [
    "(americanCounts / wordCounts).plot(kind='bar')"
   ]
  },
  {
   "cell_type": "code",
   "execution_count": 118,
   "metadata": {},
   "outputs": [],
   "source": [
    "catCounters = pd.DataFrame({cat: Counter(words) for cat, words in categoriesDict.items()})"
   ]
  },
  {
   "cell_type": "code",
   "execution_count": 121,
   "metadata": {},
   "outputs": [],
   "source": [
    "catProportions = catCounters / wordCounts"
   ]
  },
  {
   "cell_type": "code",
   "execution_count": 125,
   "metadata": {},
   "outputs": [],
   "source": [
    "catProportions['average'] = catProportions.mean(axis=1)"
   ]
  },
  {
   "cell_type": "code",
   "execution_count": 130,
   "metadata": {},
   "outputs": [
    {
     "data": {
      "text/plain": [
       ".         0.010141\n",
       "''        0.007175\n",
       "``        0.007127\n",
       "?         0.005769\n",
       "had       0.004699\n",
       "was       0.004572\n",
       ",         0.003330\n",
       "he        0.003321\n",
       "would     0.002905\n",
       "it        0.002659\n",
       "not       0.002580\n",
       "you       0.002477\n",
       "her       0.001996\n",
       "could     0.001822\n",
       "all       0.001518\n",
       "them      0.001512\n",
       "did       0.001455\n",
       "him       0.001435\n",
       "I         0.001429\n",
       "no        0.001391\n",
       "!         0.001362\n",
       "were      0.001256\n",
       "ship      0.001235\n",
       ";         0.001219\n",
       "Hal       0.001180\n",
       "they      0.001160\n",
       "Mercer    0.001109\n",
       "but       0.001063\n",
       "Mike      0.001044\n",
       "Jack      0.001043\n",
       "dtype: float64"
      ]
     },
     "execution_count": 130,
     "metadata": {},
     "output_type": "execute_result"
    }
   ],
   "source": [
    "(catProportions['science_fiction'] - catProportions['average']).sort_values(ascending=False).head(30)"
   ]
  }
 ],
 "metadata": {
  "kernelspec": {
   "display_name": "Python 3",
   "language": "python",
   "name": "python3"
  },
  "language_info": {
   "codemirror_mode": {
    "name": "ipython",
    "version": 3
   },
   "file_extension": ".py",
   "mimetype": "text/x-python",
   "name": "python",
   "nbconvert_exporter": "python",
   "pygments_lexer": "ipython3",
   "version": "3.7.7"
  }
 },
 "nbformat": 4,
 "nbformat_minor": 4
}
