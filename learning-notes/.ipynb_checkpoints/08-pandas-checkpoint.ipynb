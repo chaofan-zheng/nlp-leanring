{
 "cells": [
  {
   "cell_type": "markdown",
   "metadata": {},
   "source": [
    "# Pandas for Word Frequency Analysis\n"
   ]
  },
  {
   "cell_type": "code",
   "execution_count": 126,
   "metadata": {},
   "outputs": [],
   "source": [
    "import pandas as pd\n",
    "from collections import Counter\n",
    "import nltk\n",
    "from nltk.stem.lancaster import LancasterStemmer"
   ]
  },
  {
   "cell_type": "markdown",
   "metadata": {},
   "source": [
    "Pandas has two common data structures: \n",
    "\n",
    " - Series (for one-dimensional data) \n",
    " - DataFrame (for two-dimensional data) \n",
    "\n",
    "Our goal: \n",
    "\n",
    "  | Narrators:  | Betteredge  |  Clack   |  Bruff  |  Blake  |\n",
    "  |-------------|-------------|----------|---------|---------|\n",
    "  |   I         |      300    |      400 |     800 |     1500|\n",
    "  |   him       |     34      |    345   |   234   |  2342   | \n",
    "\n"
   ]
  },
  {
   "cell_type": "code",
   "execution_count": 3,
   "metadata": {},
   "outputs": [],
   "source": [
    "counts = {\"Betteredge\": {\"I\": 300, \"him\": 34}, \"Clack\": {\"I\": 400, \"him\": 345}}"
   ]
  },
  {
   "cell_type": "code",
   "execution_count": 5,
   "metadata": {},
   "outputs": [],
   "source": [
    "moonstone = open('../Readings/content/texts/moonstone.md').read()"
   ]
  },
  {
   "cell_type": "code",
   "execution_count": 50,
   "metadata": {},
   "outputs": [],
   "source": [
    "moonstoneParts = moonstone.split('\\n##')\n",
    "betteredge = '\\n'.join(moonstoneParts[5:29])\n",
    "moonstoneParts2 = moonstone.split('\\n## ')"
   ]
  },
  {
   "cell_type": "code",
   "execution_count": 51,
   "metadata": {},
   "outputs": [],
   "source": [
    "clack, bruff, blake = [moonstoneParts2[part] for part in [3,4,5]]"
   ]
  },
  {
   "cell_type": "code",
   "execution_count": 127,
   "metadata": {},
   "outputs": [],
   "source": [
    "stemmer = LancasterStemmer()"
   ]
  },
  {
   "cell_type": "code",
   "execution_count": 128,
   "metadata": {},
   "outputs": [],
   "source": [
    "def counted(textString): \n",
    "    lowered = textString.lower()\n",
    "    lowered = lowered.replace('–', ' – ') \n",
    "    lowered = lowered.replace('*', ' ')\n",
    "    tokens = nltk.word_tokenize(lowered)\n",
    "    stems = [stemmer.stem(token) for token in tokens]\n",
    "    counted = Counter(stems)\n",
    "    return counted"
   ]
  },
  {
   "cell_type": "code",
   "execution_count": 67,
   "metadata": {},
   "outputs": [],
   "source": [
    "def numWords(textString): \n",
    "    lowered = textString.lower()\n",
    "    tokens = nltk.word_tokenize(lowered)\n",
    "    return len(tokens)"
   ]
  },
  {
   "cell_type": "code",
   "execution_count": 74,
   "metadata": {},
   "outputs": [],
   "source": [
    "allNumWords = []\n",
    "for narrator in [betteredge, clack, bruff, blake]:\n",
    "    narratorNumWords = numWords(narrator)\n",
    "    allNumWords.append(narratorNumWords)"
   ]
  },
  {
   "cell_type": "code",
   "execution_count": 75,
   "metadata": {},
   "outputs": [
    {
     "data": {
      "text/plain": [
       "[94869, 36259, 12132, 52217]"
      ]
     },
     "execution_count": 75,
     "metadata": {},
     "output_type": "execute_result"
    }
   ],
   "source": [
    "allNumWords"
   ]
  },
  {
   "cell_type": "code",
   "execution_count": 76,
   "metadata": {},
   "outputs": [],
   "source": [
    "allNumWords = [numWords(narrator) for narrator in [betteredge, clack, bruff, blake]]"
   ]
  },
  {
   "cell_type": "code",
   "execution_count": 77,
   "metadata": {},
   "outputs": [
    {
     "data": {
      "text/plain": [
       "[94869, 36259, 12132, 52217]"
      ]
     },
     "execution_count": 77,
     "metadata": {},
     "output_type": "execute_result"
    }
   ],
   "source": [
    "allNumWords"
   ]
  },
  {
   "cell_type": "code",
   "execution_count": 129,
   "metadata": {},
   "outputs": [],
   "source": [
    "allCounts = {\"betteredge\": counted(betteredge), \"clack\": counted(clack), \n",
    "             \"bruff\": counted(bruff), \"blake\": counted(blake)}"
   ]
  },
  {
   "cell_type": "code",
   "execution_count": 130,
   "metadata": {},
   "outputs": [],
   "source": [
    "narratorsDF = pd.DataFrame(allCounts).fillna(0)"
   ]
  },
  {
   "cell_type": "code",
   "execution_count": 131,
   "metadata": {},
   "outputs": [
    {
     "data": {
      "text/html": [
       "<div>\n",
       "<style scoped>\n",
       "    .dataframe tbody tr th:only-of-type {\n",
       "        vertical-align: middle;\n",
       "    }\n",
       "\n",
       "    .dataframe tbody tr th {\n",
       "        vertical-align: top;\n",
       "    }\n",
       "\n",
       "    .dataframe thead th {\n",
       "        text-align: right;\n",
       "    }\n",
       "</style>\n",
       "<table border=\"1\" class=\"dataframe\">\n",
       "  <thead>\n",
       "    <tr style=\"text-align: right;\">\n",
       "      <th></th>\n",
       "      <th>betteredge</th>\n",
       "      <th>clack</th>\n",
       "      <th>bruff</th>\n",
       "      <th>blake</th>\n",
       "    </tr>\n",
       "  </thead>\n",
       "  <tbody>\n",
       "    <tr>\n",
       "      <th>was.</th>\n",
       "      <td>0.0</td>\n",
       "      <td>0.0</td>\n",
       "      <td>0.0</td>\n",
       "      <td>1.0</td>\n",
       "    </tr>\n",
       "    <tr>\n",
       "      <th>noiseless</th>\n",
       "      <td>0.0</td>\n",
       "      <td>1.0</td>\n",
       "      <td>1.0</td>\n",
       "      <td>0.0</td>\n",
       "    </tr>\n",
       "    <tr>\n",
       "      <th>away.</th>\n",
       "      <td>0.0</td>\n",
       "      <td>1.0</td>\n",
       "      <td>0.0</td>\n",
       "      <td>0.0</td>\n",
       "    </tr>\n",
       "    <tr>\n",
       "      <th>platform</th>\n",
       "      <td>0.0</td>\n",
       "      <td>1.0</td>\n",
       "      <td>0.0</td>\n",
       "      <td>0.0</td>\n",
       "    </tr>\n",
       "    <tr>\n",
       "      <th>flattery</th>\n",
       "      <td>0.0</td>\n",
       "      <td>1.0</td>\n",
       "      <td>0.0</td>\n",
       "      <td>0.0</td>\n",
       "    </tr>\n",
       "    <tr>\n",
       "      <th>...</th>\n",
       "      <td>...</td>\n",
       "      <td>...</td>\n",
       "      <td>...</td>\n",
       "      <td>...</td>\n",
       "    </tr>\n",
       "    <tr>\n",
       "      <th>of</th>\n",
       "      <td>2138.0</td>\n",
       "      <td>861.0</td>\n",
       "      <td>397.0</td>\n",
       "      <td>1237.0</td>\n",
       "    </tr>\n",
       "    <tr>\n",
       "      <th>to</th>\n",
       "      <td>2678.0</td>\n",
       "      <td>1070.0</td>\n",
       "      <td>393.0</td>\n",
       "      <td>1609.0</td>\n",
       "    </tr>\n",
       "    <tr>\n",
       "      <th>.</th>\n",
       "      <td>3459.0</td>\n",
       "      <td>1392.0</td>\n",
       "      <td>413.0</td>\n",
       "      <td>1937.0</td>\n",
       "    </tr>\n",
       "    <tr>\n",
       "      <th>the</th>\n",
       "      <td>4865.0</td>\n",
       "      <td>1608.0</td>\n",
       "      <td>678.0</td>\n",
       "      <td>2621.0</td>\n",
       "    </tr>\n",
       "    <tr>\n",
       "      <th>,</th>\n",
       "      <td>6283.0</td>\n",
       "      <td>2107.0</td>\n",
       "      <td>709.0</td>\n",
       "      <td>2976.0</td>\n",
       "    </tr>\n",
       "  </tbody>\n",
       "</table>\n",
       "<p>5164 rows × 4 columns</p>\n",
       "</div>"
      ],
      "text/plain": [
       "           betteredge   clack  bruff   blake\n",
       "was.              0.0     0.0    0.0     1.0\n",
       "noiseless         0.0     1.0    1.0     0.0\n",
       "away.             0.0     1.0    0.0     0.0\n",
       "platform          0.0     1.0    0.0     0.0\n",
       "flattery          0.0     1.0    0.0     0.0\n",
       "...               ...     ...    ...     ...\n",
       "of             2138.0   861.0  397.0  1237.0\n",
       "to             2678.0  1070.0  393.0  1609.0\n",
       ".              3459.0  1392.0  413.0  1937.0\n",
       "the            4865.0  1608.0  678.0  2621.0\n",
       ",              6283.0  2107.0  709.0  2976.0\n",
       "\n",
       "[5164 rows x 4 columns]"
      ]
     },
     "execution_count": 131,
     "metadata": {},
     "output_type": "execute_result"
    }
   ],
   "source": [
    "narratorsDF.sort_values(by='betteredge')"
   ]
  },
  {
   "cell_type": "code",
   "execution_count": 132,
   "metadata": {},
   "outputs": [
    {
     "data": {
      "text/html": [
       "<div>\n",
       "<style scoped>\n",
       "    .dataframe tbody tr th:only-of-type {\n",
       "        vertical-align: middle;\n",
       "    }\n",
       "\n",
       "    .dataframe tbody tr th {\n",
       "        vertical-align: top;\n",
       "    }\n",
       "\n",
       "    .dataframe thead th {\n",
       "        text-align: right;\n",
       "    }\n",
       "</style>\n",
       "<table border=\"1\" class=\"dataframe\">\n",
       "  <thead>\n",
       "    <tr style=\"text-align: right;\">\n",
       "      <th></th>\n",
       "      <th>betteredge</th>\n",
       "      <th>clack</th>\n",
       "      <th>bruff</th>\n",
       "      <th>blake</th>\n",
       "    </tr>\n",
       "  </thead>\n",
       "  <tbody>\n",
       "    <tr>\n",
       "      <th>#</th>\n",
       "      <td>24.0</td>\n",
       "      <td>24.0</td>\n",
       "      <td>9.0</td>\n",
       "      <td>30.0</td>\n",
       "    </tr>\n",
       "    <tr>\n",
       "      <th>first</th>\n",
       "      <td>135.0</td>\n",
       "      <td>35.0</td>\n",
       "      <td>31.0</td>\n",
       "      <td>87.0</td>\n",
       "    </tr>\n",
       "    <tr>\n",
       "      <th>period</th>\n",
       "      <td>7.0</td>\n",
       "      <td>3.0</td>\n",
       "      <td>4.0</td>\n",
       "      <td>2.0</td>\n",
       "    </tr>\n",
       "    <tr>\n",
       "      <th>the</th>\n",
       "      <td>4865.0</td>\n",
       "      <td>1608.0</td>\n",
       "      <td>678.0</td>\n",
       "      <td>2621.0</td>\n",
       "    </tr>\n",
       "    <tr>\n",
       "      <th>loss</th>\n",
       "      <td>27.0</td>\n",
       "      <td>5.0</td>\n",
       "      <td>6.0</td>\n",
       "      <td>15.0</td>\n",
       "    </tr>\n",
       "    <tr>\n",
       "      <th>...</th>\n",
       "      <td>...</td>\n",
       "      <td>...</td>\n",
       "      <td>...</td>\n",
       "      <td>...</td>\n",
       "    </tr>\n",
       "    <tr>\n",
       "      <th>keeping.</th>\n",
       "      <td>0.0</td>\n",
       "      <td>0.0</td>\n",
       "      <td>0.0</td>\n",
       "      <td>1.0</td>\n",
       "    </tr>\n",
       "    <tr>\n",
       "      <th>irrevoc</th>\n",
       "      <td>0.0</td>\n",
       "      <td>0.0</td>\n",
       "      <td>0.0</td>\n",
       "      <td>1.0</td>\n",
       "    </tr>\n",
       "    <tr>\n",
       "      <th>reassembl</th>\n",
       "      <td>0.0</td>\n",
       "      <td>0.0</td>\n",
       "      <td>0.0</td>\n",
       "      <td>2.0</td>\n",
       "    </tr>\n",
       "    <tr>\n",
       "      <th>reassum</th>\n",
       "      <td>0.0</td>\n",
       "      <td>0.0</td>\n",
       "      <td>0.0</td>\n",
       "      <td>1.0</td>\n",
       "    </tr>\n",
       "    <tr>\n",
       "      <th>was.</th>\n",
       "      <td>0.0</td>\n",
       "      <td>0.0</td>\n",
       "      <td>0.0</td>\n",
       "      <td>1.0</td>\n",
       "    </tr>\n",
       "  </tbody>\n",
       "</table>\n",
       "<p>5164 rows × 4 columns</p>\n",
       "</div>"
      ],
      "text/plain": [
       "           betteredge   clack  bruff   blake\n",
       "#                24.0    24.0    9.0    30.0\n",
       "first           135.0    35.0   31.0    87.0\n",
       "period            7.0     3.0    4.0     2.0\n",
       "the            4865.0  1608.0  678.0  2621.0\n",
       "loss             27.0     5.0    6.0    15.0\n",
       "...               ...     ...    ...     ...\n",
       "keeping.          0.0     0.0    0.0     1.0\n",
       "irrevoc           0.0     0.0    0.0     1.0\n",
       "reassembl         0.0     0.0    0.0     2.0\n",
       "reassum           0.0     0.0    0.0     1.0\n",
       "was.              0.0     0.0    0.0     1.0\n",
       "\n",
       "[5164 rows x 4 columns]"
      ]
     },
     "execution_count": 132,
     "metadata": {},
     "output_type": "execute_result"
    }
   ],
   "source": [
    "narratorsDF"
   ]
  },
  {
   "cell_type": "code",
   "execution_count": 133,
   "metadata": {},
   "outputs": [],
   "source": [
    "narratorsFreqDF = narratorsDF / allNumWords"
   ]
  },
  {
   "cell_type": "markdown",
   "metadata": {},
   "source": [
    "To get a column in Pandas: \n",
    "\n",
    "```\n",
    "narratorsFreqDf['betteredge']\n",
    "```\n",
    "\n",
    "To get a row in Pandas: \n",
    "\n",
    "```\n",
    "narratorsFreqDf.loc['the']\n",
    "```"
   ]
  },
  {
   "cell_type": "code",
   "execution_count": 134,
   "metadata": {},
   "outputs": [
    {
     "data": {
      "text/plain": [
       "betteredge    0.001423\n",
       "clack         0.000965\n",
       "bruff         0.002555\n",
       "blake         0.001666\n",
       "Name: first, dtype: float64"
      ]
     },
     "execution_count": 134,
     "metadata": {},
     "output_type": "execute_result"
    }
   ],
   "source": [
    "narratorsFreqDF.loc['first']"
   ]
  },
  {
   "cell_type": "code",
   "execution_count": 135,
   "metadata": {},
   "outputs": [
    {
     "data": {
      "text/plain": [
       "betteredge    0.001729\n",
       "clack         0.000359\n",
       "bruff         0.001649\n",
       "blake         0.001436\n",
       "Name: diamond, dtype: float64"
      ]
     },
     "execution_count": 135,
     "metadata": {},
     "output_type": "execute_result"
    }
   ],
   "source": [
    "narratorsFreqDF.loc['diamond']"
   ]
  },
  {
   "cell_type": "code",
   "execution_count": 88,
   "metadata": {},
   "outputs": [
    {
     "data": {
      "text/plain": [
       "<matplotlib.axes._subplots.AxesSubplot at 0x7f5bcb1b3c10>"
      ]
     },
     "execution_count": 88,
     "metadata": {},
     "output_type": "execute_result"
    },
    {
     "data": {
      "image/png": "[encoded data removed]",
      "text/plain": [
       "<Figure size 432x288 with 1 Axes>"
      ]
     },
     "metadata": {
      "needs_background": "light"
     },
     "output_type": "display_data"
    }
   ],
   "source": [
    "narratorsFreqDF.loc[['diamond', 'moonstone']].plot(kind=\"bar\")"
   ]
  },
  {
   "cell_type": "code",
   "execution_count": 91,
   "metadata": {},
   "outputs": [
    {
     "data": {
      "text/plain": [
       "<matplotlib.axes._subplots.AxesSubplot at 0x7f5bcb173690>"
      ]
     },
     "execution_count": 91,
     "metadata": {},
     "output_type": "execute_result"
    },
    {
     "data": {
      "image/png": "[encoded data removed]",
      "text/plain": [
       "<Figure size 432x288 with 1 Axes>"
      ]
     },
     "metadata": {
      "needs_background": "light"
     },
     "output_type": "display_data"
    }
   ],
   "source": [
    "narratorsFreqDF.loc[['!', '?', '(']].plot(kind=\"bar\")"
   ]
  },
  {
   "cell_type": "markdown",
   "metadata": {},
   "source": [
    "## Finding Distinctive Words\n",
    "\n",
    "A distinctive word is used by one category way more than the average. "
   ]
  },
  {
   "cell_type": "code",
   "execution_count": 96,
   "metadata": {},
   "outputs": [],
   "source": [
    "narratorsFreqDF['average'] = narratorsFreqDF.mean(axis=1)"
   ]
  },
  {
   "cell_type": "code",
   "execution_count": 98,
   "metadata": {},
   "outputs": [
    {
     "data": {
      "text/plain": [
       "betteredge    0.003531\n",
       "clack         0.006840\n",
       "bruff         0.002226\n",
       "blake         0.004788\n",
       "average       0.004346\n",
       "Name: !, dtype: float64"
      ]
     },
     "execution_count": 98,
     "metadata": {},
     "output_type": "execute_result"
    }
   ],
   "source": [
    "narratorsFreqDF.loc['!']"
   ]
  },
  {
   "cell_type": "markdown",
   "metadata": {},
   "source": [
    "We define \"Clackness\" as the frequency of a word in Miss Clack's narrative more than average: "
   ]
  },
  {
   "cell_type": "code",
   "execution_count": 102,
   "metadata": {},
   "outputs": [
    {
     "data": {
      "text/plain": [
       "0.0024936565845637016"
      ]
     },
     "execution_count": 102,
     "metadata": {},
     "output_type": "execute_result"
    }
   ],
   "source": [
    "narratorsFreqDF.loc['!']['clack'] - narratorsFreqDF.loc['!']['average']"
   ]
  },
  {
   "cell_type": "code",
   "execution_count": 105,
   "metadata": {},
   "outputs": [],
   "source": [
    "clackness = narratorsFreqDF['clack'] - narratorsFreqDF['average'] "
   ]
  },
  {
   "cell_type": "code",
   "execution_count": 109,
   "metadata": {},
   "outputs": [
    {
     "data": {
      "text/plain": [
       "!            0.002494\n",
       "she          0.002225\n",
       "godfrey      0.002160\n",
       "aunt         0.002037\n",
       ".            0.001893\n",
       "my           0.001819\n",
       "dear         0.001701\n",
       "rachel       0.001558\n",
       "her          0.001518\n",
       "a            0.001483\n",
       "ablewhite    0.001263\n",
       "–            0.001096\n",
       "clack        0.001033\n",
       "by           0.001015\n",
       "not          0.000930\n",
       "words        0.000799\n",
       "is           0.000758\n",
       "oh           0.000650\n",
       "are          0.000610\n",
       "miss         0.000591\n",
       "has          0.000580\n",
       "bruff        0.000548\n",
       "christian    0.000517\n",
       "be           0.000517\n",
       "room         0.000481\n",
       "am           0.000480\n",
       "precious     0.000479\n",
       "friends      0.000452\n",
       "don          0.000446\n",
       "quite        0.000440\n",
       "even         0.000438\n",
       "mother       0.000435\n",
       "drusilla     0.000434\n",
       "but          0.000428\n",
       "such         0.000406\n",
       "son          0.000395\n",
       "poor         0.000395\n",
       "never        0.000394\n",
       "our          0.000359\n",
       "worldly      0.000352\n",
       "dtype: float64"
      ]
     },
     "execution_count": 109,
     "metadata": {},
     "output_type": "execute_result"
    }
   ],
   "source": [
    "clackness.sort_values(ascending=False).head(40)"
   ]
  },
  {
   "cell_type": "code",
   "execution_count": 116,
   "metadata": {},
   "outputs": [],
   "source": [
    "def distinctiveWords(narrator, df): \n",
    "    \"\"\" Gets a series of the distinctive words for a narrator. \"\"\"\n",
    "    narr = df[narrator]\n",
    "    average = df['average']\n",
    "    distinction = narr - average\n",
    "    return distinction\n",
    "\n",
    "def mostDistinctive(distinctiveSeries):\n",
    "    return distinctiveSeries.sort_values(ascending=False).head(40)\n",
    "\n",
    "def leastDistinctive(distinctiveSeries):\n",
    "    return distinctiveSeries.sort_values().head(40)"
   ]
  },
  {
   "cell_type": "code",
   "execution_count": 122,
   "metadata": {},
   "outputs": [
    {
     "data": {
      "text/plain": [
       "i           -0.005451\n",
       "of          -0.003137\n",
       "you         -0.002402\n",
       "which       -0.002134\n",
       "to          -0.002008\n",
       "me          -0.001914\n",
       "–           -0.001501\n",
       "my          -0.001331\n",
       "?           -0.001329\n",
       "bruff       -0.000968\n",
       "at          -0.000964\n",
       "had         -0.000942\n",
       "would       -0.000910\n",
       "verinder    -0.000897\n",
       "be          -0.000860\n",
       "ablewhite   -0.000840\n",
       "!           -0.000815\n",
       "godfrey     -0.000795\n",
       "have        -0.000789\n",
       "luker       -0.000786\n",
       "will        -0.000683\n",
       "that        -0.000605\n",
       "can         -0.000568\n",
       "dear        -0.000559\n",
       "aunt        -0.000554\n",
       "it          -0.000515\n",
       "some        -0.000478\n",
       "is          -0.000466\n",
       "moment      -0.000450\n",
       "am          -0.000447\n",
       "position    -0.000434\n",
       "clack       -0.000425\n",
       "so          -0.000424\n",
       "was         -0.000411\n",
       "who         -0.000393\n",
       "may         -0.000371\n",
       "marriage    -0.000371\n",
       "indian      -0.000345\n",
       "felt        -0.000343\n",
       "“           -0.000334\n",
       "dtype: float64"
      ]
     },
     "execution_count": 122,
     "metadata": {},
     "output_type": "execute_result"
    }
   ],
   "source": [
    "leastDistinctive(distinctiveWords('betteredge', narratorsFreqDF))"
   ]
  },
  {
   "cell_type": "code",
   "execution_count": 120,
   "metadata": {},
   "outputs": [
    {
     "data": {
      "text/plain": [
       "<matplotlib.axes._subplots.AxesSubplot at 0x7f5bcb10cc50>"
      ]
     },
     "execution_count": 120,
     "metadata": {},
     "output_type": "execute_result"
    },
    {
     "data": {
      "image/png": "[encoded data removed]",
      "text/plain": [
       "<Figure size 432x288 with 1 Axes>"
      ]
     },
     "metadata": {
      "needs_background": "light"
     },
     "output_type": "display_data"
    }
   ],
   "source": [
    "narratorsFreqDF.loc['“'].plot(kind='bar')"
   ]
  },
  {
   "cell_type": "code",
   "execution_count": 123,
   "metadata": {},
   "outputs": [
    {
     "data": {
      "text/plain": [
       "<matplotlib.axes._subplots.AxesSubplot at 0x7f5bcb7b8790>"
      ]
     },
     "execution_count": 123,
     "metadata": {},
     "output_type": "execute_result"
    },
    {
     "data": {
      "image/png": "[encoded data removed]",
      "text/plain": [
       "<Figure size 432x288 with 1 Axes>"
      ]
     },
     "metadata": {
      "needs_background": "light"
     },
     "output_type": "display_data"
    }
   ],
   "source": [
    "narratorsFreqDF.loc['marriage'].plot(kind='bar')"
   ]
  },
  {
   "cell_type": "code",
   "execution_count": 125,
   "metadata": {},
   "outputs": [
    {
     "data": {
      "text/plain": [
       "<matplotlib.axes._subplots.AxesSubplot at 0x7f5bcb0f6110>"
      ]
     },
     "execution_count": 125,
     "metadata": {},
     "output_type": "execute_result"
    },
    {
     "data": {
      "image/png": "[encoded data removed]",
      "text/plain": [
       "<Figure size 432x288 with 1 Axes>"
      ]
     },
     "metadata": {
      "needs_background": "light"
     },
     "output_type": "display_data"
    }
   ],
   "source": [
    "narratorsFreqDF.loc['indians'].plot(kind='bar')"
   ]
  },
  {
   "cell_type": "code",
   "execution_count": 138,
   "metadata": {},
   "outputs": [
    {
     "data": {
      "text/plain": [
       "<matplotlib.axes._subplots.AxesSubplot at 0x7f5bc2ed3210>"
      ]
     },
     "execution_count": 138,
     "metadata": {},
     "output_type": "execute_result"
    },
    {
     "data": {
      "image/png": "[encoded data removed]",
      "text/plain": [
       "<Figure size 432x288 with 1 Axes>"
      ]
     },
     "metadata": {
      "needs_background": "light"
     },
     "output_type": "display_data"
    }
   ],
   "source": [
    "# Looking at verb stems\n",
    "narratorsFreqDF.loc[['think', 'feel', 'say', 'exclaim']].plot(kind='bar')"
   ]
  },
  {
   "cell_type": "code",
   "execution_count": 140,
   "metadata": {},
   "outputs": [
    {
     "data": {
      "text/plain": [
       "<matplotlib.axes._subplots.AxesSubplot at 0x7f5bc33ae510>"
      ]
     },
     "execution_count": 140,
     "metadata": {},
     "output_type": "execute_result"
    },
    {
     "data": {
      "image/png": "[encoded data removed]",
      "text/plain": [
       "<Figure size 432x288 with 1 Axes>"
      ]
     },
     "metadata": {
      "needs_background": "light"
     },
     "output_type": "display_data"
    }
   ],
   "source": [
    "# Looking at modals\n",
    "narratorsFreqDF.loc[['might', 'could', 'would', 'can', 'may']].plot(kind='bar')"
   ]
  },
  {
   "cell_type": "code",
   "execution_count": 143,
   "metadata": {},
   "outputs": [
    {
     "name": "stdout",
     "output_type": "stream",
     "text": [
      "Displaying 25 of 139 matches:\n",
      " on an answer , ” he said , “ I own I can place no other interpretation on her \n",
      "ards me . If time , pains , and money can do it , I will lay my hand on the thi\n",
      " I left it , which Gabriel Betteredge can supply , and to Gabriel Betteredge I \n",
      " kitchen all that your fondest wishes can desire. ’ For the rest of that woman \n",
      "rm , barely two miles from here . You can hardly object to *that* on Miss Rache\n",
      "–by meddling with the Moonstone . How can *you* hope to succeed ( saving your p\n",
      "ust to worse than me , Mr. Franklin–I can tell you that , ” he said a little sh\n",
      "Cuff has left behind him . I know you can do that . Can you do no more ? ” “ Wh\n",
      "behind him . I know you can do that . Can you do no more ? ” “ What more can yo\n",
      " . Can you do no more ? ” “ What more can you expect from me , sir ? ” asked Be\n",
      "f her secret will reveal nothing that can alter her place in your estimation , \n",
      ". Franklin , ” he exclaimed , “ all I can say is–I am as innocent of seeing it \n",
      "t of seeing it as the babe unborn ! I can put you on the road to discovery , if\n",
      "you on the road to discovery , if you can only go on by yourself . You remember\n",
      " length of the inspection which a man can endure , under certain circumstances \n",
      "s still mercilessly fixed on me . “ I can ’ t find out what she saw in his face\n",
      "find out what she saw in his face . I can ’ t guess what she heard in his voice\n",
      "cely , and looked at me once more . “ Can you eat and drink ? ” she asked . I d\n",
      "y gravity , and answered , “ Yes. ” “ Can you sleep ? ” “ Yes. ” “ When you see\n",
      "bed to that irresistible malady . “ I can ’ t stand it any longer , Mr. Frankli\n",
      " We both looked at our watches . “ We can go round by the coast , Mr. Franklin \n",
      "ck me up . Don ’ t be longer than you can help , sir . The detective-fever isn \n",
      " belongs to . Find out how the person can account for having been in the room ,\n",
      " three in the morning . If the person can ’ t satisfy you , you haven ’ t far t\n",
      " name . “ If time , pains , and money can do it , I will lay my hand on the thi\n"
     ]
    }
   ],
   "source": [
    "blakeText = nltk.Text(nltk.word_tokenize(blake))\n",
    "blakeText.concordance('can')"
   ]
  },
  {
   "cell_type": "code",
   "execution_count": null,
   "metadata": {},
   "outputs": [],
   "source": []
  }
 ],
 "metadata": {
  "kernelspec": {
   "display_name": "Python 3",
   "language": "python",
   "name": "python3"
  },
  "language_info": {
   "codemirror_mode": {
    "name": "ipython",
    "version": 3
   },
   "file_extension": ".py",
   "mimetype": "text/x-python",
   "name": "python",
   "nbconvert_exporter": "python",
   "pygments_lexer": "ipython3",
   "version": "3.7.4"
  }
 },
 "nbformat": 4,
 "nbformat_minor": 4
}
