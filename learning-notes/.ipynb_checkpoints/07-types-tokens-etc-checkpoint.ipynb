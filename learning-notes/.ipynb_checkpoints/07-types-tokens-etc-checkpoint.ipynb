{
 "cells": [
  {
   "cell_type": "markdown",
   "metadata": {},
   "source": [
    "# More on Types / Tokens\n",
    "\n",
    " - Type: \"the\" - 1\n",
    " - Token: \"the\" - 5"
   ]
  },
  {
   "cell_type": "code",
   "execution_count": 146,
   "metadata": {},
   "outputs": [],
   "source": [
    "import nltk\n",
    "from nltk.book import *\n",
    "import pandas as pd\n",
    "import collections"
   ]
  },
  {
   "cell_type": "code",
   "execution_count": 2,
   "metadata": {},
   "outputs": [],
   "source": [
    "porkyWords = \"the the the the the that's all folks\".split()"
   ]
  },
  {
   "cell_type": "code",
   "execution_count": 3,
   "metadata": {},
   "outputs": [
    {
     "data": {
      "text/plain": [
       "5"
      ]
     },
     "execution_count": 3,
     "metadata": {},
     "output_type": "execute_result"
    }
   ],
   "source": [
    "porkyWords.count('the')"
   ]
  },
  {
   "cell_type": "code",
   "execution_count": 4,
   "metadata": {},
   "outputs": [
    {
     "data": {
      "text/plain": [
       "1"
      ]
     },
     "execution_count": 4,
     "metadata": {},
     "output_type": "execute_result"
    }
   ],
   "source": [
    "porkyWords.count('all')"
   ]
  },
  {
   "cell_type": "markdown",
   "metadata": {},
   "source": [
    "## Type / Token Ratio\n",
    "\n",
    "Type / token ratio (TTR) \n",
    "\n",
    "Number of types / number of tokens. \n",
    "\n",
    "Sometimes a proxy for the vocabulary of a text. \n",
    "\n",
    "Important: very sensitive to the number of a words in a text. "
   ]
  },
  {
   "cell_type": "code",
   "execution_count": 6,
   "metadata": {},
   "outputs": [],
   "source": [
    "numTokens = len(porkyWords)"
   ]
  },
  {
   "cell_type": "code",
   "execution_count": 7,
   "metadata": {},
   "outputs": [
    {
     "data": {
      "text/plain": [
       "{'all', 'folks', \"that's\", 'the'}"
      ]
     },
     "execution_count": 7,
     "metadata": {},
     "output_type": "execute_result"
    }
   ],
   "source": [
    "set(porkyWords)"
   ]
  },
  {
   "cell_type": "code",
   "execution_count": 8,
   "metadata": {},
   "outputs": [],
   "source": [
    "numTypes = len(set(porkyWords))"
   ]
  },
  {
   "cell_type": "code",
   "execution_count": 9,
   "metadata": {},
   "outputs": [
    {
     "data": {
      "text/plain": [
       "4"
      ]
     },
     "execution_count": 9,
     "metadata": {},
     "output_type": "execute_result"
    }
   ],
   "source": [
    "numTypes"
   ]
  },
  {
   "cell_type": "code",
   "execution_count": 10,
   "metadata": {},
   "outputs": [
    {
     "data": {
      "text/plain": [
       "8"
      ]
     },
     "execution_count": 10,
     "metadata": {},
     "output_type": "execute_result"
    }
   ],
   "source": [
    "numTokens"
   ]
  },
  {
   "cell_type": "code",
   "execution_count": 11,
   "metadata": {},
   "outputs": [],
   "source": [
    "typeTokenRatio = numTypes / numTokens"
   ]
  },
  {
   "cell_type": "code",
   "execution_count": 12,
   "metadata": {},
   "outputs": [
    {
     "data": {
      "text/plain": [
       "0.5"
      ]
     },
     "execution_count": 12,
     "metadata": {},
     "output_type": "execute_result"
    }
   ],
   "source": [
    "typeTokenRatio"
   ]
  },
  {
   "cell_type": "code",
   "execution_count": 13,
   "metadata": {},
   "outputs": [],
   "source": [
    "def typeTokenRatio(tokens):\n",
    "    numTokens = len(tokens)\n",
    "    numTypes = len(set(tokens))\n",
    "    return numTypes / numTokens"
   ]
  },
  {
   "cell_type": "code",
   "execution_count": 17,
   "metadata": {},
   "outputs": [],
   "source": [
    "allTexts = [text1, text2, text3, text4, text5, text6, text7, text8, text9]"
   ]
  },
  {
   "cell_type": "code",
   "execution_count": 26,
   "metadata": {},
   "outputs": [
    {
     "name": "stdout",
     "output_type": "stream",
     "text": [
      "Moby Dick by Herman Melville 1851       || 260819\n",
      "Sense and Sensibility by Jane Austen 181|| 141576\n",
      "The Book of Genesis                     || 44764\n",
      "Inaugural Address Corpus                || 149797\n",
      "Chat Corpus                             || 45010\n",
      "Monty Python and the Holy Grail         || 16967\n",
      "Wall Street Journal                     || 100676\n",
      "Personals Corpus                        || 4867\n",
      "The Man Who Was Thursday by G . K . Ches|| 69213\n"
     ]
    }
   ],
   "source": [
    "for text in allTexts: \n",
    "    namePadded = (text.name + '                                ')[:40] + '||'\n",
    "    print(namePadded, len(text.tokens))"
   ]
  },
  {
   "cell_type": "code",
   "execution_count": 27,
   "metadata": {},
   "outputs": [
    {
     "name": "stdout",
     "output_type": "stream",
     "text": [
      "Moby Dick by Herman Melville 1851 0.07406285585022564\n",
      "Sense and Sensibility by Jane Austen 1811 0.04826383002768831\n",
      "The Book of Genesis 0.06230453042623537\n",
      "Inaugural Address Corpus 0.06617622515804722\n",
      "Chat Corpus 0.13477005109975562\n",
      "Monty Python and the Holy Grail 0.1276595744680851\n",
      "Wall Street Journal 0.12324685128531129\n",
      "Personals Corpus 0.22765564002465585\n",
      "The Man Who Was Thursday by G . K . Chesterton 1908 0.0983485761345412\n"
     ]
    }
   ],
   "source": [
    "for text in allTexts: \n",
    "    print(text.name, typeTokenRatio(text))"
   ]
  },
  {
   "cell_type": "code",
   "execution_count": 29,
   "metadata": {},
   "outputs": [],
   "source": [
    "truncatedTexts = [] \n",
    "for text in allTexts: \n",
    "    truncatedTokens = text.tokens[:4000]\n",
    "    truncatedTexts.append(truncatedTokens)"
   ]
  },
  {
   "cell_type": "markdown",
   "metadata": {},
   "source": [
    "## Aside: List Comprehension\n",
    "\n",
    "A backwards way of writing `for` loop, for the specific case of making a new list out of the results"
   ]
  },
  {
   "cell_type": "code",
   "execution_count": 31,
   "metadata": {},
   "outputs": [],
   "source": [
    "truncatedTexts = [text.tokens[:4000] for text in allTexts]"
   ]
  },
  {
   "cell_type": "code",
   "execution_count": 32,
   "metadata": {},
   "outputs": [
    {
     "data": {
      "text/plain": [
       "[4000, 4000, 4000, 4000, 4000, 4000, 4000, 4000, 4000]"
      ]
     },
     "execution_count": 32,
     "metadata": {},
     "output_type": "execute_result"
    }
   ],
   "source": [
    "[len(text) for text in truncatedTexts]"
   ]
  },
  {
   "cell_type": "code",
   "execution_count": 33,
   "metadata": {},
   "outputs": [],
   "source": [
    "def lowercaseIt(tokens): \n",
    "    return [token.lower() for token in tokens]"
   ]
  },
  {
   "cell_type": "code",
   "execution_count": 35,
   "metadata": {},
   "outputs": [],
   "source": [
    "lowercasedTruncatedTokens = [lowercaseIt(tokens) for tokens in truncatedTexts]"
   ]
  },
  {
   "cell_type": "code",
   "execution_count": 36,
   "metadata": {},
   "outputs": [],
   "source": [
    "ttr = [typeTokenRatio(tokens) for tokens in lowercasedTruncatedTokens]"
   ]
  },
  {
   "cell_type": "code",
   "execution_count": 37,
   "metadata": {},
   "outputs": [
    {
     "data": {
      "text/plain": [
       "[0.31675, 0.21525, 0.14275, 0.288, 0.2665, 0.16775, 0.332, 0.1935, 0.2735]"
      ]
     },
     "execution_count": 37,
     "metadata": {},
     "output_type": "execute_result"
    }
   ],
   "source": [
    "ttr"
   ]
  },
  {
   "cell_type": "code",
   "execution_count": 42,
   "metadata": {},
   "outputs": [
    {
     "name": "stdout",
     "output_type": "stream",
     "text": [
      "Moby Dick by Herman Melville 1851 0.31675\n",
      "Sense and Sensibility by Jane Austen 1811 0.21525\n",
      "The Book of Genesis 0.14275\n",
      "Inaugural Address Corpus 0.288\n",
      "Chat Corpus 0.2665\n",
      "Monty Python and the Holy Grail 0.16775\n",
      "Wall Street Journal 0.332\n",
      "Personals Corpus 0.1935\n",
      "The Man Who Was Thursday by G . K . Chesterton 1908 0.2735\n"
     ]
    }
   ],
   "source": [
    "for i in range(0, 9): \n",
    "    print(allTexts[i].name, ttr[i])"
   ]
  },
  {
   "cell_type": "code",
   "execution_count": 47,
   "metadata": {},
   "outputs": [
    {
     "data": {
      "text/plain": [
       "[(1, 'a'), (2, 'b'), (3, 'c')]"
      ]
     },
     "execution_count": 47,
     "metadata": {},
     "output_type": "execute_result"
    }
   ],
   "source": [
    "list(zip([1, 2, 3], ['a', 'b', 'c']))"
   ]
  },
  {
   "cell_type": "markdown",
   "metadata": {},
   "source": [
    "## Aside: tuples"
   ]
  },
  {
   "cell_type": "code",
   "execution_count": 48,
   "metadata": {},
   "outputs": [
    {
     "data": {
      "text/plain": [
       "tuple"
      ]
     },
     "execution_count": 48,
     "metadata": {},
     "output_type": "execute_result"
    }
   ],
   "source": [
    "type((1, 'a'))"
   ]
  },
  {
   "cell_type": "code",
   "execution_count": 49,
   "metadata": {},
   "outputs": [
    {
     "data": {
      "text/plain": [
       "1"
      ]
     },
     "execution_count": 49,
     "metadata": {},
     "output_type": "execute_result"
    }
   ],
   "source": [
    "(1, 'a')[0]"
   ]
  },
  {
   "cell_type": "code",
   "execution_count": 50,
   "metadata": {},
   "outputs": [
    {
     "data": {
      "text/plain": [
       "'a'"
      ]
     },
     "execution_count": 50,
     "metadata": {},
     "output_type": "execute_result"
    }
   ],
   "source": [
    "(1, 'a')[1]"
   ]
  },
  {
   "cell_type": "code",
   "execution_count": 51,
   "metadata": {},
   "outputs": [
    {
     "ename": "AttributeError",
     "evalue": "'tuple' object has no attribute 'append'",
     "output_type": "error",
     "traceback": [
      "\u001b[0;31m---------------------------------------------------------------------------\u001b[0m",
      "\u001b[0;31mAttributeError\u001b[0m                            Traceback (most recent call last)",
      "\u001b[0;32m<ipython-input-51-c25381fda0d0>\u001b[0m in \u001b[0;36m<module>\u001b[0;34m\u001b[0m\n\u001b[0;32m----> 1\u001b[0;31m \u001b[0;34m(\u001b[0m\u001b[0;36m1\u001b[0m\u001b[0;34m,\u001b[0m \u001b[0;34m'a'\u001b[0m\u001b[0;34m)\u001b[0m\u001b[0;34m.\u001b[0m\u001b[0mappend\u001b[0m\u001b[0;34m(\u001b[0m\u001b[0;36m1\u001b[0m\u001b[0;34m)\u001b[0m\u001b[0;34m\u001b[0m\u001b[0;34m\u001b[0m\u001b[0m\n\u001b[0m",
      "\u001b[0;31mAttributeError\u001b[0m: 'tuple' object has no attribute 'append'"
     ]
    }
   ],
   "source": [
    "(1, 'a').append(1)"
   ]
  },
  {
   "cell_type": "code",
   "execution_count": 52,
   "metadata": {},
   "outputs": [
    {
     "name": "stdout",
     "output_type": "stream",
     "text": [
      "<Text: Moby Dick by Herman Melville 1851> 0.31675\n",
      "<Text: Sense and Sensibility by Jane Austen 1811> 0.21525\n",
      "<Text: The Book of Genesis> 0.14275\n",
      "<Text: Inaugural Address Corpus> 0.288\n",
      "<Text: Chat Corpus> 0.2665\n",
      "<Text: Monty Python and the Holy Grail> 0.16775\n",
      "<Text: Wall Street Journal> 0.332\n",
      "<Text: Personals Corpus> 0.1935\n",
      "<Text: The Man Who Was Thursday by G . K . Chesterton 1908> 0.2735\n"
     ]
    }
   ],
   "source": [
    "for textName, ratio in zip(allTexts, ttr): \n",
    "    print(textName, ratio)"
   ]
  },
  {
   "cell_type": "code",
   "execution_count": 53,
   "metadata": {},
   "outputs": [],
   "source": [
    "moonstone = open('../Readings/content/texts/moonstone.md').read()"
   ]
  },
  {
   "cell_type": "code",
   "execution_count": 54,
   "metadata": {},
   "outputs": [],
   "source": [
    "moonstoneParts = moonstone.split('##')"
   ]
  },
  {
   "cell_type": "code",
   "execution_count": 56,
   "metadata": {},
   "outputs": [],
   "source": [
    "betteredge = moonstoneParts[5:29]\n",
    "clack = moonstoneParts[31:39]\n",
    "bruff = moonstoneParts[40:43]"
   ]
  },
  {
   "cell_type": "code",
   "execution_count": 60,
   "metadata": {},
   "outputs": [],
   "source": [
    "narrators = []\n",
    "for narr in [betteredge, clack, bruff]:\n",
    "    narrStr = '\\n'.join(narr)\n",
    "    narrators.append(narrStr)"
   ]
  },
  {
   "cell_type": "code",
   "execution_count": 71,
   "metadata": {},
   "outputs": [],
   "source": [
    "narrators = ['\\n'.join(narr) for narr in [betteredge, clack, bruff]] "
   ]
  },
  {
   "cell_type": "code",
   "execution_count": 80,
   "metadata": {},
   "outputs": [],
   "source": [
    "narratorsDict = {\"betteredge\": narrators[0], \n",
    "                 \"clack\": narrators[1], \n",
    "                 \"bruff\": narrators[2]}"
   ]
  },
  {
   "cell_type": "code",
   "execution_count": 78,
   "metadata": {},
   "outputs": [],
   "source": [
    "def typeTokenRatio(textString): \n",
    "    tokens = nltk.word_tokenize(textString)\n",
    "    numTokens = len(tokens)\n",
    "    types = set(tokens)\n",
    "    numTypes = len(types)\n",
    "    return numTypes / numTokens"
   ]
  },
  {
   "cell_type": "code",
   "execution_count": 82,
   "metadata": {},
   "outputs": [],
   "source": [
    "def dictToTypeTokenRatio(textDict): \n",
    "    \"\"\" \n",
    "    Takes as input a dictionary where the dictionary keys are text labels, \n",
    "    and the dictionary values are that text's string, and \n",
    "    returns as output that dictionary again, but with type token ratios as values. \n",
    "    \"\"\"\n",
    "    ttrDict = {}\n",
    "    for textLabel in textDict:\n",
    "        text = textDict[textLabel] \n",
    "        ttr = typeTokenRatio(text)\n",
    "        ttrDict[textLabel] = ttr\n",
    "    return ttrDict"
   ]
  },
  {
   "cell_type": "code",
   "execution_count": 75,
   "metadata": {},
   "outputs": [
    {
     "name": "stdout",
     "output_type": "stream",
     "text": [
      "0.07155880152181016\n",
      "0.12439623526814055\n",
      "0.17438692098092642\n"
     ]
    }
   ],
   "source": [
    "ttrs = []\n",
    "for narr in narrators: \n",
    "    print(typeTokenRatio(narr))"
   ]
  },
  {
   "cell_type": "code",
   "execution_count": 77,
   "metadata": {},
   "outputs": [
    {
     "name": "stdout",
     "output_type": "stream",
     "text": [
      "betteredge 0.07155880152181016\n",
      "clack 0.12439623526814055\n",
      "bruff 0.17438692098092642\n"
     ]
    }
   ],
   "source": [
    "for narr in narratorsDict: \n",
    "    tokens = narratorsDict[narr]\n",
    "    print(narr, typeTokenRatio(tokens))"
   ]
  },
  {
   "cell_type": "code",
   "execution_count": 83,
   "metadata": {},
   "outputs": [
    {
     "data": {
      "text/plain": [
       "{'betteredge': 0.07155880152181016,\n",
       " 'clack': 0.12439623526814055,\n",
       " 'bruff': 0.17438692098092642}"
      ]
     },
     "execution_count": 83,
     "metadata": {},
     "output_type": "execute_result"
    }
   ],
   "source": [
    "dictToTypeTokenRatio(narratorsDict)"
   ]
  },
  {
   "cell_type": "markdown",
   "metadata": {},
   "source": [
    "## Counting Words"
   ]
  },
  {
   "cell_type": "code",
   "execution_count": 85,
   "metadata": {},
   "outputs": [
    {
     "data": {
      "text/plain": [
       "5"
      ]
     },
     "execution_count": 85,
     "metadata": {},
     "output_type": "execute_result"
    }
   ],
   "source": [
    "porkyWords.count('the')"
   ]
  },
  {
   "cell_type": "code",
   "execution_count": 100,
   "metadata": {},
   "outputs": [],
   "source": [
    "def removePunctuation(text): \n",
    "    for punct in \"!@#$%^&*()“”.,?<>:;–’\\xa0\":\n",
    "        text = text.replace(punct, ' ')\n",
    "    return text"
   ]
  },
  {
   "cell_type": "code",
   "execution_count": 102,
   "metadata": {},
   "outputs": [
    {
     "data": {
      "text/plain": [
       "'Hello    World    '"
      ]
     },
     "execution_count": 102,
     "metadata": {},
     "output_type": "execute_result"
    }
   ],
   "source": [
    "removePunctuation(\"Hello!!!\\xa0World!!!!\")"
   ]
  },
  {
   "cell_type": "code",
   "execution_count": 104,
   "metadata": {},
   "outputs": [],
   "source": [
    "cleanTexts = {}\n",
    "for narratorLabel in narratorsDict:\n",
    "    narratorText = narratorsDict[narratorLabel]\n",
    "    lowerText = narratorText.lower()\n",
    "    lowerText = removePunctuation(lowerText)\n",
    "    cleanTexts[narratorLabel] = lowerText"
   ]
  },
  {
   "cell_type": "code",
   "execution_count": 106,
   "metadata": {},
   "outputs": [],
   "source": [
    "tokensDict = {}\n",
    "for narratorLabel in cleanTexts: \n",
    "    cleanText = cleanTexts[narratorLabel]\n",
    "    tokens = nltk.word_tokenize(cleanText)\n",
    "    tokensDict[narratorLabel] = tokens"
   ]
  },
  {
   "cell_type": "code",
   "execution_count": 107,
   "metadata": {},
   "outputs": [],
   "source": [
    "betteredgeTokens = tokensDict['betteredge']"
   ]
  },
  {
   "cell_type": "code",
   "execution_count": 108,
   "metadata": {},
   "outputs": [
    {
     "data": {
      "text/plain": [
       "80364"
      ]
     },
     "execution_count": 108,
     "metadata": {},
     "output_type": "execute_result"
    }
   ],
   "source": [
    "len(betteredgeTokens)"
   ]
  },
  {
   "cell_type": "code",
   "execution_count": 109,
   "metadata": {},
   "outputs": [
    {
     "data": {
      "text/plain": [
       "30943"
      ]
     },
     "execution_count": 109,
     "metadata": {},
     "output_type": "execute_result"
    }
   ],
   "source": [
    "len(tokensDict['clack'])"
   ]
  },
  {
   "cell_type": "code",
   "execution_count": 110,
   "metadata": {},
   "outputs": [
    {
     "data": {
      "text/plain": [
       "400"
      ]
     },
     "execution_count": 110,
     "metadata": {},
     "output_type": "execute_result"
    }
   ],
   "source": [
    "betteredgeTokens.count('him')"
   ]
  },
  {
   "cell_type": "code",
   "execution_count": 111,
   "metadata": {},
   "outputs": [
    {
     "data": {
      "text/plain": [
       "133"
      ]
     },
     "execution_count": 111,
     "metadata": {},
     "output_type": "execute_result"
    }
   ],
   "source": [
    "tokensDict['clack'].count('him')"
   ]
  },
  {
   "cell_type": "code",
   "execution_count": 120,
   "metadata": {},
   "outputs": [],
   "source": [
    "def compareWordCounts(word): \n",
    "    wordCountDict = {}\n",
    "    for narratorLabel in tokensDict: \n",
    "        tokens = tokensDict[narratorLabel]\n",
    "        wordCountDict[narratorLabel] = tokens.count(word) / len(tokens)\n",
    "    return wordCountDict"
   ]
  },
  {
   "cell_type": "code",
   "execution_count": 122,
   "metadata": {},
   "outputs": [],
   "source": [
    "godfreys = compareWordCounts('godfrey')"
   ]
  },
  {
   "cell_type": "code",
   "execution_count": 124,
   "metadata": {},
   "outputs": [
    {
     "data": {
      "text/plain": [
       "{'betteredge': 0.0006470558956746802,\n",
       " 'clack': 0.00413663833500307,\n",
       " 'bruff': 0.0012404580152671756}"
      ]
     },
     "execution_count": 124,
     "metadata": {},
     "output_type": "execute_result"
    }
   ],
   "source": [
    "godfreys"
   ]
  },
  {
   "cell_type": "code",
   "execution_count": 130,
   "metadata": {},
   "outputs": [
    {
     "name": "stdin",
     "output_type": "stream",
     "text": [
      "What word do you want to compare? thought\n"
     ]
    },
    {
     "data": {
      "text/plain": [
       "<matplotlib.axes._subplots.AxesSubplot at 0x7f3b668b0fd0>"
      ]
     },
     "execution_count": 130,
     "metadata": {},
     "output_type": "execute_result"
    },
    {
     "data": {
      "image/png": "[encoded data removed]",
      "text/plain": [
       "<Figure size 432x288 with 1 Axes>"
      ]
     },
     "metadata": {
      "needs_background": "light"
     },
     "output_type": "display_data"
    }
   ],
   "source": [
    "word = input('What word do you want to compare?')\n",
    "counts = compareWordCounts(word)\n",
    "series = pd.Series(counts)\n",
    "series.plot(kind='bar')"
   ]
  },
  {
   "cell_type": "markdown",
   "metadata": {},
   "source": [
    "## Sentence Tokenization\n",
    "\n",
    "While `nltk.word_tokenize()` breaks up a text into words, `nltk.sent_tokenize()` breaks up a text into sentences. "
   ]
  },
  {
   "cell_type": "code",
   "execution_count": 133,
   "metadata": {},
   "outputs": [],
   "source": [
    "clackNarrative = narratorsDict['clack']\n",
    "clackSents = nltk.sent_tokenize(clackNarrative)"
   ]
  },
  {
   "cell_type": "code",
   "execution_count": 137,
   "metadata": {},
   "outputs": [
    {
     "data": {
      "text/plain": [
       "44"
      ]
     },
     "execution_count": 137,
     "metadata": {},
     "output_type": "execute_result"
    }
   ],
   "source": [
    "len(clackSents[85])"
   ]
  },
  {
   "cell_type": "code",
   "execution_count": 139,
   "metadata": {},
   "outputs": [
    {
     "data": {
      "text/plain": [
       "9"
      ]
     },
     "execution_count": 139,
     "metadata": {},
     "output_type": "execute_result"
    }
   ],
   "source": [
    "len(nltk.word_tokenize(clackSents[85]))"
   ]
  },
  {
   "cell_type": "markdown",
   "metadata": {},
   "source": [
    "## Counting Words"
   ]
  },
  {
   "cell_type": "code",
   "execution_count": 142,
   "metadata": {},
   "outputs": [],
   "source": [
    "betteredgeTokens = nltk.word_tokenize(narratorsDict['betteredge'])"
   ]
  },
  {
   "cell_type": "code",
   "execution_count": 143,
   "metadata": {},
   "outputs": [
    {
     "data": {
      "text/plain": [
       "94887"
      ]
     },
     "execution_count": 143,
     "metadata": {},
     "output_type": "execute_result"
    }
   ],
   "source": [
    "len(betteredgeTokens)"
   ]
  },
  {
   "cell_type": "markdown",
   "metadata": {},
   "source": [
    "The long way of doing it: "
   ]
  },
  {
   "cell_type": "code",
   "execution_count": 144,
   "metadata": {},
   "outputs": [],
   "source": [
    "betteredgeCounts = {}\n",
    "# Make a dictionary like {\"word\": 8}, or the word and its count. \n",
    "for word in betteredgeTokens: \n",
    "    if word in betteredgeCounts: \n",
    "        betteredgeCounts[word] = betteredgeCounts[word] + 1 \n",
    "    else: \n",
    "        betteredgeCounts[word] = 1"
   ]
  },
  {
   "cell_type": "markdown",
   "metadata": {},
   "source": [
    "The short way: "
   ]
  },
  {
   "cell_type": "code",
   "execution_count": 147,
   "metadata": {},
   "outputs": [],
   "source": [
    "betteredgeCounter = collections.Counter(betteredgeTokens)"
   ]
  },
  {
   "cell_type": "code",
   "execution_count": 149,
   "metadata": {},
   "outputs": [
    {
     "data": {
      "text/plain": [
       "148"
      ]
     },
     "execution_count": 149,
     "metadata": {},
     "output_type": "execute_result"
    }
   ],
   "source": [
    "betteredgeCounter['Diamond']"
   ]
  },
  {
   "cell_type": "code",
   "execution_count": 158,
   "metadata": {},
   "outputs": [],
   "source": [
    "# collections.Counter(betCleanTokens).most_common(30)"
   ]
  },
  {
   "cell_type": "code",
   "execution_count": 157,
   "metadata": {},
   "outputs": [],
   "source": [
    "def makeCounter(text): \n",
    "    return collections.Counter(nltk.word_tokenize(removePunctuation(text.lower())))"
   ]
  },
  {
   "cell_type": "code",
   "execution_count": 160,
   "metadata": {},
   "outputs": [],
   "source": [
    "# makeCounter(narratorsDict['clack'])"
   ]
  },
  {
   "cell_type": "code",
   "execution_count": 164,
   "metadata": {},
   "outputs": [],
   "source": [
    "counters = {}\n",
    "for narratorLabel in narratorsDict: \n",
    "    text = narratorsDict[narratorLabel]\n",
    "    counter = makeCounter(text)\n",
    "    counters[narratorLabel] = counter"
   ]
  },
  {
   "cell_type": "code",
   "execution_count": 167,
   "metadata": {},
   "outputs": [
    {
     "name": "stdout",
     "output_type": "stream",
     "text": [
      "betteredge 164\n",
      "clack 13\n",
      "bruff 20\n"
     ]
    }
   ],
   "source": [
    "for narr in counters: \n",
    "    counter = counters[narr]\n",
    "    print(narr, counter['diamond'])"
   ]
  }
 ],
 "metadata": {
  "kernelspec": {
   "display_name": "Python 3",
   "language": "python",
   "name": "python3"
  },
  "language_info": {
   "codemirror_mode": {
    "name": "ipython",
    "version": 3
   },
   "file_extension": ".py",
   "mimetype": "text/x-python",
   "name": "python",
   "nbconvert_exporter": "python",
   "pygments_lexer": "ipython3",
   "version": "3.7.7"
  }
 },
 "nbformat": 4,
 "nbformat_minor": 4
}
