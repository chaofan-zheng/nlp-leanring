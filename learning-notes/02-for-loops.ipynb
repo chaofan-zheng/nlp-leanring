{
 "cells": [
  {
   "cell_type": "markdown",
   "metadata": {},
   "source": [
    "## For loops\n",
    "\n",
    "A `for` loop is just a way to do something repeatedly to every item in a list, or every letter in a string, and so on. \n",
    "\n",
    "The anatomy of a for loop is: \n",
    "\n",
    "```python\n",
    "for item in myList: \n",
    "    doThingToItem(item)\n",
    "```\n",
    "\n",
    "1. It has to start with `for`\n",
    "2. The first line must end with a colon `:`\n",
    "3. The subsequent lines in the loop have to be indented (four spaces)\n",
    "4. `item` is just my name for the item in the loop that we're dealing with now. We could call this anything, so long as we're consistent. \n",
    "5. `myList` is the list we're iterating over. "
   ]
  },
  {
   "cell_type": "code",
   "execution_count": 1,
   "metadata": {},
   "outputs": [],
   "source": [
    "sentence = \"He was very rich and very respectable, and he begot a prodigious large family–all in his favour, so far.\"\n",
    "words = sentence.split()"
   ]
  },
  {
   "cell_type": "code",
   "execution_count": 2,
   "metadata": {},
   "outputs": [
    {
     "name": "stdout",
     "output_type": "stream",
     "text": [
      "He\n",
      "was\n",
      "very\n",
      "rich\n",
      "and\n",
      "very\n",
      "and\n",
      "he\n",
      "begot\n",
      "a\n",
      "prodigious\n",
      "large\n",
      "in\n",
      "his\n",
      "so\n"
     ]
    }
   ],
   "source": [
    "for word in words:\n",
    "    if word.isalpha():\n",
    "        print(word)"
   ]
  },
  {
   "cell_type": "code",
   "execution_count": null,
   "metadata": {},
   "outputs": [],
   "source": []
  }
 ],
 "metadata": {
  "kernelspec": {
   "display_name": "Python 3",
   "language": "python",
   "name": "python3"
  },
  "language_info": {
   "codemirror_mode": {
    "name": "ipython",
    "version": 3
   },
   "file_extension": ".py",
   "mimetype": "text/x-python",
   "name": "python",
   "nbconvert_exporter": "python",
   "pygments_lexer": "ipython3",
   "version": "3.7.4"
  }
 },
 "nbformat": 4,
 "nbformat_minor": 4
}
