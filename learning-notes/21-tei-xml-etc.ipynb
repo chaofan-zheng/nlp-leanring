{
 "cells": [
  {
   "cell_type": "markdown",
   "metadata": {},
   "source": [
    "## HTML\n",
    "\n",
    "```html\n",
    "Katherine Mansfield wrote a book called <emph>The Garden Party and Other Stories</emph>\n",
    "```\n",
    "\n",
    "Katherine Mansfield wrote a book called *The Garden Party and Other Stories*\n",
    "\n",
    "## TEI XML\n",
    "\n",
    "```xml\n",
    "Katherine Mansfield wrote a book called <title>The Garden Party and Other Stories</title>\n",
    "```\n",
    "\n",
    "## Extract Data from TEI XML\n"
   ]
  },
  {
   "cell_type": "code",
   "execution_count": 51,
   "metadata": {},
   "outputs": [],
   "source": [
    "import requests\n",
    "from bs4 import BeautifulSoup\n",
    "from collections import Counter"
   ]
  },
  {
   "cell_type": "code",
   "execution_count": null,
   "metadata": {},
   "outputs": [],
   "source": [
    "response = requests.get('https://shakespeare.folger.edu/downloads/teisimple/hamlet_TEIsimple_FolgerShakespeare.xml')"
   ]
  },
  {
   "cell_type": "code",
   "execution_count": 2,
   "metadata": {},
   "outputs": [
    {
     "data": {
      "text/plain": [
       "True"
      ]
     },
     "execution_count": 2,
     "metadata": {},
     "output_type": "execute_result"
    }
   ],
   "source": [
    "response.ok"
   ]
  },
  {
   "cell_type": "code",
   "execution_count": 3,
   "metadata": {},
   "outputs": [],
   "source": [
    "hamletTEI = response.text"
   ]
  },
  {
   "cell_type": "code",
   "execution_count": 4,
   "metadata": {},
   "outputs": [
    {
     "data": {
      "text/plain": [
       "'<?xml-model href=\"https://raw.githubusercontent.com/TEIC/TEI-Simple/master/teisimple.rng\" type=\"application/xml\" schematypens=\"http://relaxng.org/ns/structure/1.0\"?>\\n<TEI xmlns=\"http://www.tei-c.org/ns/1.0\">\\n  <teiHeader>\\n    <fileDesc>\\n      <titleStmt>\\n        <title>Hamlet</title>\\n        <author'"
      ]
     },
     "execution_count": 4,
     "metadata": {},
     "output_type": "execute_result"
    }
   ],
   "source": [
    "hamletTEI[:300]"
   ]
  },
  {
   "cell_type": "code",
   "execution_count": 12,
   "metadata": {},
   "outputs": [],
   "source": [
    "soup = BeautifulSoup(hamletTEI, features='lxml')"
   ]
  },
  {
   "cell_type": "code",
   "execution_count": 10,
   "metadata": {},
   "outputs": [
    {
     "data": {
      "text/plain": [
       "4138874"
      ]
     },
     "execution_count": 10,
     "metadata": {},
     "output_type": "execute_result"
    }
   ],
   "source": [
    "open('hamlet.xml', 'w').write(hamletTEI)"
   ]
  },
  {
   "cell_type": "code",
   "execution_count": 22,
   "metadata": {},
   "outputs": [],
   "source": [
    "barnardos = soup.find_all(\"sp\", attrs={\"who\": \"#Barnardo_Ham\"})"
   ]
  },
  {
   "cell_type": "code",
   "execution_count": 23,
   "metadata": {},
   "outputs": [
    {
     "data": {
      "text/plain": [
       "19"
      ]
     },
     "execution_count": 23,
     "metadata": {},
     "output_type": "execute_result"
    }
   ],
   "source": [
    "len(barnardos)"
   ]
  },
  {
   "cell_type": "code",
   "execution_count": 25,
   "metadata": {},
   "outputs": [
    {
     "data": {
      "text/plain": [
       "bs4.element.Tag"
      ]
     },
     "execution_count": 25,
     "metadata": {},
     "output_type": "execute_result"
    }
   ],
   "source": [
    "type(barnardos[0])"
   ]
  },
  {
   "cell_type": "code",
   "execution_count": 30,
   "metadata": {},
   "outputs": [
    {
     "data": {
      "text/plain": [
       "<sp who=\"#Barnardo_Ham\" xml:id=\"sp-0001\">\n",
       "<speaker xml:id=\"spk-0001\">\n",
       "<w xml:id=\"fs-ham-0000200\">BARNARDO</w>\n",
       "</speaker>\n",
       "<p xml:id=\"p-0001\">\n",
       "<lb n=\"1.1.1\" xml:id=\"ftln-0001\"></lb>\n",
       "<w ana=\"#crq-q|vvz\" lemma=\"who|be\" n=\"1.1.1\" xml:id=\"fs-ham-0000210\">Who’s</w>\n",
       "<c> </c>\n",
       "<w ana=\"#acp-av\" lemma=\"there\" n=\"1.1.1\" xml:id=\"fs-ham-0000230\">there</w>\n",
       "<pc n=\"1.1.1\" xml:id=\"fs-ham-0000240\">?</pc>\n",
       "</p>\n",
       "</sp>"
      ]
     },
     "execution_count": 30,
     "metadata": {},
     "output_type": "execute_result"
    }
   ],
   "source": [
    "barnardos[0]"
   ]
  },
  {
   "cell_type": "code",
   "execution_count": 40,
   "metadata": {},
   "outputs": [],
   "source": [
    "barnardoLines = [sp.find_all('w') for sp in barnardos]"
   ]
  },
  {
   "cell_type": "code",
   "execution_count": 49,
   "metadata": {},
   "outputs": [],
   "source": [
    "listOfBarnardoWords = []\n",
    "for line in barnardoLines: \n",
    "    for wordTag in line: \n",
    "        #print(wordTag)\n",
    "        try:\n",
    "            listOfBarnardoWords.append(wordTag['lemma'])\n",
    "        except:\n",
    "            continue"
   ]
  },
  {
   "cell_type": "code",
   "execution_count": 53,
   "metadata": {},
   "outputs": [
    {
     "data": {
      "text/plain": [
       "[('the', 10),\n",
       " ('be', 8),\n",
       " ('it', 8),\n",
       " ('have', 5),\n",
       " ('Horatio', 5),\n",
       " ('and', 5),\n",
       " ('king', 4),\n",
       " ('to', 4),\n",
       " ('you', 4),\n",
       " ('of', 4),\n",
       " ('that', 4),\n",
       " ('now', 3),\n",
       " ('night', 3),\n",
       " ('Marcellus', 3),\n",
       " ('what', 3),\n",
       " ('see', 3),\n",
       " ('so', 3),\n",
       " ('like', 3),\n",
       " ('there', 2),\n",
       " ('he', 2),\n",
       " ('it|be', 2),\n",
       " ('well', 2),\n",
       " ('good', 2),\n",
       " ('watch', 2),\n",
       " ('make', 2),\n",
       " ('welcome', 2),\n",
       " ('i', 2),\n",
       " ('we', 2),\n",
       " ('our', 2),\n",
       " ('when', 2),\n",
       " ('same', 2),\n",
       " ('that|be', 2),\n",
       " ('figure', 2),\n",
       " ('look', 2),\n",
       " ('not', 2),\n",
       " ('speak', 2),\n",
       " ('this', 2),\n",
       " ('think', 2),\n",
       " ('who|be', 1),\n",
       " ('long', 1),\n",
       " ('live', 1),\n",
       " ('strike', 1),\n",
       " ('twelve', 1),\n",
       " ('get', 1),\n",
       " ('thou', 1),\n",
       " ('bed', 1),\n",
       " ('Francisco', 1),\n",
       " ('quiet', 1),\n",
       " ('guard', 1),\n",
       " ('if', 1)]"
      ]
     },
     "execution_count": 53,
     "metadata": {},
     "output_type": "execute_result"
    }
   ],
   "source": [
    "Counter(listOfBarnardoWords).most_common(50)"
   ]
  },
  {
   "cell_type": "code",
   "execution_count": 8,
   "metadata": {},
   "outputs": [
    {
     "ename": "SyntaxError",
     "evalue": "non-default argument follows default argument (<ipython-input-8-c1b4d300416c>, line 2)",
     "output_type": "error",
     "traceback": [
      "\u001b[0;36m  File \u001b[0;32m\"<ipython-input-8-c1b4d300416c>\"\u001b[0;36m, line \u001b[0;32m2\u001b[0m\n\u001b[0;31m    def twoSum(self, nums: List[int] = [], target: int):\u001b[0m\n\u001b[0m              ^\u001b[0m\n\u001b[0;31mSyntaxError\u001b[0m\u001b[0;31m:\u001b[0m non-default argument follows default argument\n"
     ]
    }
   ],
   "source": [
    "class Solution:\n",
    "    def twoSum(self, nums: List[int] = [], target: int):\n",
    "        for r in range(len(nums)-1):\n",
    "            for c in range(r + 1, len(nums)):\n",
    "                if nums[r]+nums[c] == target:\n",
    "                    List.append[r]\n",
    "                    List.append[c]\n",
    "        return List\n",
    "\n",
    "print(Solution([2,7,11,15],target = 9,))\n",
    "\n"
   ]
  },
  {
   "cell_type": "code",
   "execution_count": 26,
   "metadata": {},
   "outputs": [
    {
     "name": "stdout",
     "output_type": "stream",
     "text": [
      "1\n",
      "2\n",
      "3\n"
     ]
    }
   ],
   "source": [
    "list01 = \"123\"\n",
    "for item in list01:\n",
    "    print(item)"
   ]
  },
  {
   "cell_type": "code",
   "execution_count": 28,
   "metadata": {},
   "outputs": [
    {
     "ename": "TypeError",
     "evalue": "reverse() missing 1 required positional argument: 'x'",
     "output_type": "error",
     "traceback": [
      "\u001b[0;31m---------------------------------------------------------------------------\u001b[0m",
      "\u001b[0;31mTypeError\u001b[0m                                 Traceback (most recent call last)",
      "\u001b[0;32m<ipython-input-28-fdf62e21e559>\u001b[0m in \u001b[0;36m<module>\u001b[0;34m\u001b[0m\n\u001b[1;32m      6\u001b[0m     \u001b[0;32mreturn\u001b[0m \u001b[0mout_str\u001b[0m\u001b[0;34m\u001b[0m\u001b[0;34m\u001b[0m\u001b[0m\n\u001b[1;32m      7\u001b[0m \u001b[0mx01\u001b[0m \u001b[0;34m=\u001b[0m \u001b[0;34m\"123\"\u001b[0m\u001b[0;34m\u001b[0m\u001b[0;34m\u001b[0m\u001b[0m\n\u001b[0;32m----> 8\u001b[0;31m \u001b[0mprint\u001b[0m\u001b[0;34m(\u001b[0m\u001b[0mreverse\u001b[0m\u001b[0;34m(\u001b[0m\u001b[0mx01\u001b[0m\u001b[0;34m)\u001b[0m\u001b[0;34m)\u001b[0m\u001b[0;34m\u001b[0m\u001b[0;34m\u001b[0m\u001b[0m\n\u001b[0m\u001b[1;32m      9\u001b[0m \u001b[0;34m\u001b[0m\u001b[0m\n",
      "\u001b[0;31mTypeError\u001b[0m: reverse() missing 1 required positional argument: 'x'"
     ]
    }
   ],
   "source": [
    "\n",
    "    "
   ]
  },
  {
   "cell_type": "code",
   "execution_count": null,
   "metadata": {},
   "outputs": [],
   "source": []
  }
 ],
 "metadata": {
  "kernelspec": {
   "display_name": "Python 3",
   "language": "python",
   "name": "python3"
  },
  "language_info": {
   "codemirror_mode": {
    "name": "ipython",
    "version": 3
   },
   "file_extension": ".py",
   "mimetype": "text/x-python",
   "name": "python",
   "nbconvert_exporter": "python",
   "pygments_lexer": "ipython3",
   "version": "3.7.4"
  }
 },
 "nbformat": 4,
 "nbformat_minor": 4
}
