{
 "cells": [
  {
   "cell_type": "markdown",
   "metadata": {},
   "source": [
    "# Social Network Analysis\n",
    "\n",
    "Creating *graphs*. \n",
    " - nodes and edges\n",
    "\n",
    "Directed graphs / undirected graphs\n",
    "\n",
    "A -> B: directed graph\n",
    " - A and B are the nodes\n",
    " - the edge is the arrow\n",
    " \n",
    "A - B: undirected graph\n",
    " - the edge is the dash\n",
    " \n",
    "Lots of possibilities for \"social networks\" or literary graphs\n",
    " - characters are the nodes, edges are whether they appear in the same sentence, paragraph, etc. \n",
    " - place names are the nodes, edges are whether they appear in the same sentence, paragraph, chapter, etc. \n",
    " - place names and characters are nodes\n"
   ]
  },
  {
   "cell_type": "code",
   "execution_count": 103,
   "metadata": {
    "jupyter": {
     "source_hidden": true
    }
   },
   "outputs": [],
   "source": [
    "import networkx\n",
    "from itertools import combinations \n",
    "import spacy\n",
    "from collections import Counter"
   ]
  },
  {
   "cell_type": "code",
   "execution_count": 54,
   "metadata": {},
   "outputs": [],
   "source": [
    "nlp = spacy.load('en_core_web_lg')"
   ]
  },
  {
   "cell_type": "code",
   "execution_count": 2,
   "metadata": {},
   "outputs": [],
   "source": [
    "moonstone = open('../Readings/content/texts/moonstone.md').read()"
   ]
  },
  {
   "cell_type": "code",
   "execution_count": 56,
   "metadata": {},
   "outputs": [],
   "source": [
    "nlp.max_length = 1100000"
   ]
  },
  {
   "cell_type": "code",
   "execution_count": 57,
   "metadata": {},
   "outputs": [],
   "source": [
    "moonstoneDoc = nlp(moonstone)"
   ]
  },
  {
   "cell_type": "code",
   "execution_count": 16,
   "metadata": {},
   "outputs": [],
   "source": [
    "characters = {\"Rachel\": [\"Rachel Verinder\", \"Rachel\", \"Miss Verinder\"],\n",
    "     \"Franklin\": [\"Franklin Blake\", \"Mr. Blake\", \"Blake\", \"Franklin\"],\n",
    "     \"Betteredge\": [\"Gabriel\", \"Gabriel Betteredge\", \"Betteredge\"],\n",
    "     \"Lucy\": [\"Limping Lucy\", \"Lucy\"],\n",
    "     \"Clack\": [\"Clack\", \"Miss Clack\", \"Drusilla\"],\n",
    "     \"Cuff\": [\"Cuff\", \"Sergeant\"],\n",
    "     \"Candy\": [\"Mr. Candy\"],\n",
    "     \"Ezra\": [\"Jennings\", \"Ezra\"],\n",
    "     \"Godfrey\": [\"Godfrey\", \"Ablewhite\"],\n",
    "     \"Penelope\": [\"Penelope\", \"my daughter\"]\n",
    "    }\n",
    "def normalizeName(name): \n",
    "    for char in characters: \n",
    "        if name in characters[char]: \n",
    "            return char"
   ]
  },
  {
   "cell_type": "code",
   "execution_count": 31,
   "metadata": {},
   "outputs": [],
   "source": [
    "allCharacters = []\n",
    "for charList in characters.values():\n",
    "    for charName in charList:\n",
    "        allCharacters.append(charName)"
   ]
  },
  {
   "cell_type": "code",
   "execution_count": 32,
   "metadata": {},
   "outputs": [
    {
     "data": {
      "text/plain": [
       "['Rachel Verinder',\n",
       " 'Rachel',\n",
       " 'Miss Verinder',\n",
       " 'Franklin Blake',\n",
       " 'Mr. Blake',\n",
       " 'Blake',\n",
       " 'Franklin',\n",
       " 'Gabriel',\n",
       " 'Gabriel Betteredge',\n",
       " 'Betteredge',\n",
       " 'Limping Lucy',\n",
       " 'Lucy',\n",
       " 'Clack',\n",
       " 'Miss Clack',\n",
       " 'Drusilla',\n",
       " 'Cuff',\n",
       " 'Sergeant',\n",
       " 'Mr. Candy',\n",
       " 'Jennings',\n",
       " 'Ezra',\n",
       " 'Godfrey',\n",
       " 'Ablewhite',\n",
       " 'Penelope',\n",
       " 'my daughter']"
      ]
     },
     "execution_count": 32,
     "metadata": {},
     "output_type": "execute_result"
    }
   ],
   "source": [
    "allCharacters"
   ]
  },
  {
   "cell_type": "code",
   "execution_count": 9,
   "metadata": {},
   "outputs": [
    {
     "data": {
      "text/plain": [
       "'Ezra'"
      ]
     },
     "execution_count": 9,
     "metadata": {},
     "output_type": "execute_result"
    }
   ],
   "source": [
    "normalizeName(\"Jennings\")"
   ]
  },
  {
   "cell_type": "code",
   "execution_count": 10,
   "metadata": {},
   "outputs": [
    {
     "data": {
      "text/plain": [
       "'Betteredge'"
      ]
     },
     "execution_count": 10,
     "metadata": {},
     "output_type": "execute_result"
    }
   ],
   "source": [
    "normalizeName(\"Gabriel\")"
   ]
  },
  {
   "cell_type": "code",
   "execution_count": 18,
   "metadata": {},
   "outputs": [],
   "source": [
    "chars = list(characters.keys())"
   ]
  },
  {
   "cell_type": "code",
   "execution_count": 23,
   "metadata": {},
   "outputs": [],
   "source": [
    "charPairs = {pair: 0 for pair in list(combinations(chars, 2))}"
   ]
  },
  {
   "cell_type": "code",
   "execution_count": 24,
   "metadata": {},
   "outputs": [
    {
     "data": {
      "text/plain": [
       "{('Rachel', 'Franklin'): 0,\n",
       " ('Rachel', 'Betteredge'): 0,\n",
       " ('Rachel', 'Lucy'): 0,\n",
       " ('Rachel', 'Clack'): 0,\n",
       " ('Rachel', 'Cuff'): 0,\n",
       " ('Rachel', 'Candy'): 0,\n",
       " ('Rachel', 'Ezra'): 0,\n",
       " ('Rachel', 'Godfrey'): 0,\n",
       " ('Rachel', 'Penelope'): 0,\n",
       " ('Franklin', 'Betteredge'): 0,\n",
       " ('Franklin', 'Lucy'): 0,\n",
       " ('Franklin', 'Clack'): 0,\n",
       " ('Franklin', 'Cuff'): 0,\n",
       " ('Franklin', 'Candy'): 0,\n",
       " ('Franklin', 'Ezra'): 0,\n",
       " ('Franklin', 'Godfrey'): 0,\n",
       " ('Franklin', 'Penelope'): 0,\n",
       " ('Betteredge', 'Lucy'): 0,\n",
       " ('Betteredge', 'Clack'): 0,\n",
       " ('Betteredge', 'Cuff'): 0,\n",
       " ('Betteredge', 'Candy'): 0,\n",
       " ('Betteredge', 'Ezra'): 0,\n",
       " ('Betteredge', 'Godfrey'): 0,\n",
       " ('Betteredge', 'Penelope'): 0,\n",
       " ('Lucy', 'Clack'): 0,\n",
       " ('Lucy', 'Cuff'): 0,\n",
       " ('Lucy', 'Candy'): 0,\n",
       " ('Lucy', 'Ezra'): 0,\n",
       " ('Lucy', 'Godfrey'): 0,\n",
       " ('Lucy', 'Penelope'): 0,\n",
       " ('Clack', 'Cuff'): 0,\n",
       " ('Clack', 'Candy'): 0,\n",
       " ('Clack', 'Ezra'): 0,\n",
       " ('Clack', 'Godfrey'): 0,\n",
       " ('Clack', 'Penelope'): 0,\n",
       " ('Cuff', 'Candy'): 0,\n",
       " ('Cuff', 'Ezra'): 0,\n",
       " ('Cuff', 'Godfrey'): 0,\n",
       " ('Cuff', 'Penelope'): 0,\n",
       " ('Candy', 'Ezra'): 0,\n",
       " ('Candy', 'Godfrey'): 0,\n",
       " ('Candy', 'Penelope'): 0,\n",
       " ('Ezra', 'Godfrey'): 0,\n",
       " ('Ezra', 'Penelope'): 0,\n",
       " ('Godfrey', 'Penelope'): 0}"
      ]
     },
     "execution_count": 24,
     "metadata": {},
     "output_type": "execute_result"
    }
   ],
   "source": [
    "charPairs"
   ]
  },
  {
   "cell_type": "code",
   "execution_count": 25,
   "metadata": {},
   "outputs": [],
   "source": [
    "moonstoneParas = moonstone.split('\\n\\n')"
   ]
  },
  {
   "cell_type": "code",
   "execution_count": 26,
   "metadata": {},
   "outputs": [
    {
     "data": {
      "text/plain": [
       "3679"
      ]
     },
     "execution_count": 26,
     "metadata": {},
     "output_type": "execute_result"
    }
   ],
   "source": [
    "len(moonstoneParas)"
   ]
  },
  {
   "cell_type": "code",
   "execution_count": 34,
   "metadata": {},
   "outputs": [],
   "source": [
    "for para in moonstoneParas: \n",
    "    for charPair in charPairs:\n",
    "        if charPair[0] in para and charPair[1] in para: \n",
    "            charPairs[charPair] += 1"
   ]
  },
  {
   "cell_type": "code",
   "execution_count": 35,
   "metadata": {},
   "outputs": [
    {
     "data": {
      "text/plain": [
       "{('Rachel', 'Franklin'): 83,\n",
       " ('Rachel', 'Betteredge'): 26,\n",
       " ('Rachel', 'Lucy'): 0,\n",
       " ('Rachel', 'Clack'): 11,\n",
       " ('Rachel', 'Cuff'): 20,\n",
       " ('Rachel', 'Candy'): 4,\n",
       " ('Rachel', 'Ezra'): 4,\n",
       " ('Rachel', 'Godfrey'): 45,\n",
       " ('Rachel', 'Penelope'): 35,\n",
       " ('Franklin', 'Betteredge'): 54,\n",
       " ('Franklin', 'Lucy'): 3,\n",
       " ('Franklin', 'Clack'): 10,\n",
       " ('Franklin', 'Cuff'): 24,\n",
       " ('Franklin', 'Candy'): 10,\n",
       " ('Franklin', 'Ezra'): 2,\n",
       " ('Franklin', 'Godfrey'): 26,\n",
       " ('Franklin', 'Penelope'): 52,\n",
       " ('Betteredge', 'Lucy'): 2,\n",
       " ('Betteredge', 'Clack'): 0,\n",
       " ('Betteredge', 'Cuff'): 21,\n",
       " ('Betteredge', 'Candy'): 16,\n",
       " ('Betteredge', 'Ezra'): 9,\n",
       " ('Betteredge', 'Godfrey'): 6,\n",
       " ('Betteredge', 'Penelope'): 10,\n",
       " ('Lucy', 'Clack'): 0,\n",
       " ('Lucy', 'Cuff'): 4,\n",
       " ('Lucy', 'Candy'): 0,\n",
       " ('Lucy', 'Ezra'): 0,\n",
       " ('Lucy', 'Godfrey'): 0,\n",
       " ('Lucy', 'Penelope'): 2,\n",
       " ('Clack', 'Cuff'): 0,\n",
       " ('Clack', 'Candy'): 0,\n",
       " ('Clack', 'Ezra'): 0,\n",
       " ('Clack', 'Godfrey'): 13,\n",
       " ('Clack', 'Penelope'): 1,\n",
       " ('Cuff', 'Candy'): 0,\n",
       " ('Cuff', 'Ezra'): 0,\n",
       " ('Cuff', 'Godfrey'): 4,\n",
       " ('Cuff', 'Penelope'): 8,\n",
       " ('Candy', 'Ezra'): 14,\n",
       " ('Candy', 'Godfrey'): 3,\n",
       " ('Candy', 'Penelope'): 2,\n",
       " ('Ezra', 'Godfrey'): 1,\n",
       " ('Ezra', 'Penelope'): 1,\n",
       " ('Godfrey', 'Penelope'): 10}"
      ]
     },
     "execution_count": 35,
     "metadata": {},
     "output_type": "execute_result"
    }
   ],
   "source": [
    "charPairs"
   ]
  },
  {
   "cell_type": "code",
   "execution_count": 44,
   "metadata": {},
   "outputs": [],
   "source": [
    "graph = networkx.Graph()"
   ]
  },
  {
   "cell_type": "code",
   "execution_count": 45,
   "metadata": {},
   "outputs": [],
   "source": [
    "graph.add_nodes_from(chars)"
   ]
  },
  {
   "cell_type": "code",
   "execution_count": 46,
   "metadata": {},
   "outputs": [
    {
     "data": {
      "text/plain": [
       "NodeView(('Rachel', 'Franklin', 'Betteredge', 'Lucy', 'Clack', 'Cuff', 'Candy', 'Ezra', 'Godfrey', 'Penelope'))"
      ]
     },
     "execution_count": 46,
     "metadata": {},
     "output_type": "execute_result"
    }
   ],
   "source": [
    "graph.nodes"
   ]
  },
  {
   "cell_type": "code",
   "execution_count": 47,
   "metadata": {},
   "outputs": [],
   "source": [
    "# graph.add_edge('Rachel', 'Franklin', 83)"
   ]
  },
  {
   "cell_type": "code",
   "execution_count": 48,
   "metadata": {},
   "outputs": [],
   "source": [
    "for pair, weight in charPairs.items(): \n",
    "    if weight > 0: \n",
    "        graph.add_edge(pair[0], pair[1], weight=weight)"
   ]
  },
  {
   "cell_type": "code",
   "execution_count": 49,
   "metadata": {},
   "outputs": [
    {
     "data": {
      "text/plain": [
       "EdgeView([('Rachel', 'Franklin'), ('Rachel', 'Betteredge'), ('Rachel', 'Clack'), ('Rachel', 'Cuff'), ('Rachel', 'Candy'), ('Rachel', 'Ezra'), ('Rachel', 'Godfrey'), ('Rachel', 'Penelope'), ('Franklin', 'Betteredge'), ('Franklin', 'Lucy'), ('Franklin', 'Clack'), ('Franklin', 'Cuff'), ('Franklin', 'Candy'), ('Franklin', 'Ezra'), ('Franklin', 'Godfrey'), ('Franklin', 'Penelope'), ('Betteredge', 'Lucy'), ('Betteredge', 'Cuff'), ('Betteredge', 'Candy'), ('Betteredge', 'Ezra'), ('Betteredge', 'Godfrey'), ('Betteredge', 'Penelope'), ('Lucy', 'Cuff'), ('Lucy', 'Penelope'), ('Clack', 'Godfrey'), ('Clack', 'Penelope'), ('Cuff', 'Godfrey'), ('Cuff', 'Penelope'), ('Candy', 'Ezra'), ('Candy', 'Godfrey'), ('Candy', 'Penelope'), ('Ezra', 'Godfrey'), ('Ezra', 'Penelope'), ('Godfrey', 'Penelope')])"
      ]
     },
     "execution_count": 49,
     "metadata": {},
     "output_type": "execute_result"
    }
   ],
   "source": [
    "graph.edges"
   ]
  },
  {
   "cell_type": "code",
   "execution_count": 52,
   "metadata": {},
   "outputs": [
    {
     "data": {
      "image/png": "[encoded data removed]",
      "text/plain": [
       "<Figure size 432x288 with 1 Axes>"
      ]
     },
     "metadata": {},
     "output_type": "display_data"
    }
   ],
   "source": [
    "networkx.draw_networkx(graph, figsize=(10,10))"
   ]
  },
  {
   "cell_type": "code",
   "execution_count": 106,
   "metadata": {},
   "outputs": [],
   "source": [
    "moonstoneLocs = [w for w in moonstoneDoc.ents if w.label_ == 'GPE']"
   ]
  },
  {
   "cell_type": "code",
   "execution_count": 135,
   "metadata": {},
   "outputs": [],
   "source": [
    "allLocs = list(Counter([w.text for w in moonstoneLocs if w.text.istitle()]).most_common(9))"
   ]
  },
  {
   "cell_type": "code",
   "execution_count": 136,
   "metadata": {},
   "outputs": [],
   "source": [
    "allLocs = [pair[0] for pair in allLocs]"
   ]
  },
  {
   "cell_type": "code",
   "execution_count": 137,
   "metadata": {},
   "outputs": [
    {
     "data": {
      "text/plain": [
       "['London',\n",
       " 'England',\n",
       " 'Yorkshire',\n",
       " 'India',\n",
       " 'Brighton',\n",
       " 'Hampstead',\n",
       " 'Amsterdam',\n",
       " 'Lambeth',\n",
       " 'Rotterdam']"
      ]
     },
     "execution_count": 137,
     "metadata": {},
     "output_type": "execute_result"
    }
   ],
   "source": [
    "allLocs"
   ]
  },
  {
   "cell_type": "code",
   "execution_count": 138,
   "metadata": {},
   "outputs": [],
   "source": [
    "locPairs = {pair: 0 for pair in list(combinations(allLocs, 2))}"
   ]
  },
  {
   "cell_type": "code",
   "execution_count": 139,
   "metadata": {},
   "outputs": [
    {
     "data": {
      "text/plain": [
       "36"
      ]
     },
     "execution_count": 139,
     "metadata": {},
     "output_type": "execute_result"
    }
   ],
   "source": [
    "len(locPairs)"
   ]
  },
  {
   "cell_type": "code",
   "execution_count": 140,
   "metadata": {},
   "outputs": [],
   "source": [
    "for para in moonstoneParas:\n",
    "    for pair in locPairs:\n",
    "        if pair[0] in para and pair[1] in para: \n",
    "            locPairs[pair] += 1"
   ]
  },
  {
   "cell_type": "code",
   "execution_count": 141,
   "metadata": {},
   "outputs": [],
   "source": [
    "graph = networkx.Graph()\n",
    "graph.add_nodes_from(allLocs)"
   ]
  },
  {
   "cell_type": "code",
   "execution_count": 142,
   "metadata": {},
   "outputs": [
    {
     "data": {
      "text/plain": [
       "NodeView(('London', 'England', 'Yorkshire', 'India', 'Brighton', 'Hampstead', 'Amsterdam', 'Lambeth', 'Rotterdam'))"
      ]
     },
     "execution_count": 142,
     "metadata": {},
     "output_type": "execute_result"
    }
   ],
   "source": [
    "graph.nodes"
   ]
  },
  {
   "cell_type": "code",
   "execution_count": 143,
   "metadata": {},
   "outputs": [],
   "source": [
    "for pair, weight in locPairs.items():\n",
    "    if weight > 0:\n",
    "        graph.add_edge(pair[0], pair[1], weight=weight)"
   ]
  },
  {
   "cell_type": "code",
   "execution_count": 144,
   "metadata": {},
   "outputs": [
    {
     "data": {
      "image/png": "[encoded data removed]",
      "text/plain": [
       "<Figure size 432x288 with 1 Axes>"
      ]
     },
     "metadata": {},
     "output_type": "display_data"
    }
   ],
   "source": [
    "networkx.draw_networkx(graph)"
   ]
  },
  {
   "cell_type": "code",
   "execution_count": null,
   "metadata": {},
   "outputs": [],
   "source": []
  }
 ],
 "metadata": {
  "kernelspec": {
   "display_name": "Python 3",
   "language": "python",
   "name": "python3"
  },
  "language_info": {
   "codemirror_mode": {
    "name": "ipython",
    "version": 3
   },
   "file_extension": ".py",
   "mimetype": "text/x-python",
   "name": "python",
   "nbconvert_exporter": "python",
   "pygments_lexer": "ipython3",
   "version": "3.7.4"
  }
 },
 "nbformat": 4,
 "nbformat_minor": 4
}
