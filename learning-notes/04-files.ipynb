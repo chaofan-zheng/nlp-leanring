{
 "cells": [
  {
   "cell_type": "markdown",
   "metadata": {},
   "source": [
    "# Working with Files\n",
    "\n",
    "## Working with Files on your Computer"
   ]
  },
  {
   "cell_type": "code",
   "execution_count": 4,
   "metadata": {},
   "outputs": [
    {
     "name": "stdout",
     "output_type": "stream",
     "text": [
      "a b c \n"
     ]
    }
   ],
   "source": [
    "a = \"a b c d\"\n",
    "result = a.strip(\"d\")\n",
    "print(result)"
   ]
  },
  {
   "cell_type": "code",
   "execution_count": 6,
   "metadata": {},
   "outputs": [
    {
     "name": "stdout",
     "output_type": "stream",
     "text": [
      "1\n"
     ]
    }
   ],
   "source": [
    "print(len(\"\\n\"))"
   ]
  },
  {
   "cell_type": "code",
   "execution_count": null,
   "metadata": {},
   "outputs": [],
   "source": [
    "\"aaaaaa\"[0]"
   ]
  },
  {
   "cell_type": "code",
   "execution_count": 1,
   "metadata": {},
   "outputs": [
    {
     "data": {
      "text/plain": [
       "'/home/jon/Code/course-computational-literary-analysis/Notes'"
      ]
     },
     "execution_count": 1,
     "metadata": {},
     "output_type": "execute_result"
    }
   ],
   "source": [
    "%pwd"
   ]
  },
  {
   "cell_type": "code",
   "execution_count": 2,
   "metadata": {},
   "outputs": [
    {
     "name": "stdout",
     "output_type": "stream",
     "text": [
      "00-getting-started.ipynb  03-if-lists-and-dictionaries.ipynb  moonstone.md\n",
      "01-strings.ipynb          04-files-.ipynb                     shell.nix\n",
      "02-for-loops.ipynb        04-files.ipynb\n"
     ]
    }
   ],
   "source": [
    "%ls"
   ]
  },
  {
   "cell_type": "code",
   "execution_count": 3,
   "metadata": {},
   "outputs": [],
   "source": [
    "moonstone = open('moonstone.md').read()"
   ]
  },
  {
   "cell_type": "markdown",
   "metadata": {},
   "source": [
    "## Loading directly from a URL on the Internet"
   ]
  },
  {
   "cell_type": "code",
   "execution_count": 4,
   "metadata": {},
   "outputs": [],
   "source": [
    "import requests\n",
    "response = requests.get('https://gitlab.com/digitalhumanitiesatberkeley/computational-literary-analysis-readings/-/raw/master/content/texts/moonstone.md')\n",
    "moonstone2 = response.text"
   ]
  },
  {
   "cell_type": "code",
   "execution_count": 6,
   "metadata": {},
   "outputs": [
    {
     "data": {
      "text/plain": [
       "'---\\ntitle: \"The Moonstone\"\\nauthor: Wilkie Collins\\neditor: Jonathan Reeve\\nrights: Public Domain\\nsource: Project Gutenberg\\npublication-date: 2019\\ntoc:\\n- Prologue\\n- Chapter X\\n- Chapter XV\\n- Second Period\\n- Second Narrative\\n- Third Narrative\\n- Fourth Narrative\\n- Sixth Narrative\\n---\\n\\n## Prologue\\n\\nThe Storming of Seringapatam (1799)\\n\\nExtracted from a Family Paper\\n\\nI address these lines–written in India–'"
      ]
     },
     "execution_count": 6,
     "metadata": {},
     "output_type": "execute_result"
    }
   ],
   "source": [
    "moonstone[:400]"
   ]
  },
  {
   "cell_type": "markdown",
   "metadata": {},
   "source": [
    "`\\n` is a line break\n",
    "`\\r` is a \"carriage return\" (Windows) "
   ]
  },
  {
   "cell_type": "code",
   "execution_count": 7,
   "metadata": {},
   "outputs": [
    {
     "name": "stdout",
     "output_type": "stream",
     "text": [
      "---\n",
      "title: \"The Moonstone\"\n",
      "author: Wilkie Collins\n",
      "editor: Jonathan Reeve\n",
      "rights: Public Domain\n",
      "source: Project Gutenberg\n",
      "publication-date: 2019\n",
      "toc:\n",
      "- Prologue\n",
      "- Chapter X\n",
      "- Chapter XV\n",
      "- Second Period\n",
      "- Second Narrative\n",
      "- Third Narrative\n",
      "- Fourth Narrative\n",
      "- Sixth Narrative\n",
      "---\n",
      "\n",
      "## Prologue\n",
      "\n",
      "The Storming of Seringapatam (1799)\n",
      "\n",
      "Extracted from a Family Paper\n",
      "\n",
      "I address these lines–written in India–\n"
     ]
    }
   ],
   "source": [
    "print(moonstone[:400])"
   ]
  },
  {
   "cell_type": "code",
   "execution_count": 8,
   "metadata": {},
   "outputs": [],
   "source": [
    "moonstoneParts = moonstone.split('##')"
   ]
  },
  {
   "cell_type": "code",
   "execution_count": 14,
   "metadata": {},
   "outputs": [
    {
     "name": "stdout",
     "output_type": "stream",
     "text": [
      "# First Period\n",
      "\n",
      "The Loss of the Diamond (1848)\n",
      "\n",
      "The events related by Gabriel Betteredge, house-steward in the service\n",
      "of Julia, Lady Verinder.\n",
      "\n",
      "\n"
     ]
    }
   ],
   "source": [
    "print(moonstoneParts[5])"
   ]
  },
  {
   "cell_type": "code",
   "execution_count": 15,
   "metadata": {},
   "outputs": [],
   "source": [
    "moonstonePrologueParts = moonstoneParts[1:5]"
   ]
  },
  {
   "cell_type": "code",
   "execution_count": 18,
   "metadata": {},
   "outputs": [
    {
     "data": {
      "text/plain": [
       "'# IV\\n\\nI beg it to be understood that what I write here about my cousin (unless\\nsome necessity should arise for making it public) is for the information\\nof the family only. Herncastle has said nothing that can justify me in\\nspeaking to our commanding officer. He has been taunted more than once\\nabout the Diamond, by those who recollect his angry outbreak before the\\nassault; but, as may easily be imagined, his own remembrance of the\\ncircumstances under which I surprised him in the armoury has been enough\\nto keep him silent. It is reported that he means to exchange into\\nanother regiment, avowedly for the purpose of separating himself from\\n*me*.\\n\\nWhether this be true or not, I cannot prevail upon myself to become his\\naccuser–and I think with good reason. If I made the matter public, I\\nhave no evidence but moral evidence to bring forward. I have not only no\\nproof that he killed the two men at the door; I cannot even declare that\\nhe killed the third man inside–for I cannot say that my own eyes saw the\\ndeed committed. It is true that I heard the dying Indian’s words; but if\\nthose words were pronounced to be the ravings of delirium, how could I\\ncontradict the assertion from my own knowledge? Let our relatives, on\\neither side, form their own opinion on what I have written, and decide\\nfor themselves whether the aversion I now feel towards this man is well\\nor ill founded.\\n\\nAlthough I attach no sort of credit to the fantastic Indian legend of\\nthe gem, I must acknowledge, before I conclude, that I am influenced by\\na certain superstition of my own in this matter. It is my conviction, or\\nmy delusion, no matter which, that crime brings its own fatality with\\nit. I am not only persuaded of Herncastle’s guilt; I am even fanciful\\nenough to believe that he will live to regret it, if he keeps the\\nDiamond; and that others will live to regret taking it from him, if he\\ngives the Diamond away.\\n\\n# The Story\\n\\n'"
      ]
     },
     "execution_count": 18,
     "metadata": {},
     "output_type": "execute_result"
    }
   ],
   "source": [
    "moonstonePrologueParts"
   ]
  },
  {
   "cell_type": "code",
   "execution_count": 20,
   "metadata": {},
   "outputs": [],
   "source": [
    "part2 = moonstonePrologueParts[1]"
   ]
  },
  {
   "cell_type": "code",
   "execution_count": 30,
   "metadata": {},
   "outputs": [
    {
     "name": "stdout",
     "output_type": "stream",
     "text": [
      "1\n",
      "6\n",
      "5\n",
      "2\n"
     ]
    }
   ],
   "source": [
    "for chapter in moonstonePrologueParts:\n",
    "    print(chapter.lower().count('india'))"
   ]
  },
  {
   "cell_type": "markdown",
   "metadata": {},
   "source": [
    "## Gotchas \n",
    "\n",
    "If you have any open errors, try opening a file as UTF-8, or ignoring errors. "
   ]
  },
  {
   "cell_type": "code",
   "execution_count": 32,
   "metadata": {},
   "outputs": [],
   "source": [
    "moonstone = open('moonstone.md', encoding='utf-8', errors='ignore').read()"
   ]
  },
  {
   "cell_type": "code",
   "execution_count": 33,
   "metadata": {},
   "outputs": [],
   "source": [
    "with open('moonstone.md') as moonstoneFile: \n",
    "    moonstone = moonstoneFile.read()\n",
    "    moonstoneFile.close()"
   ]
  }
 ],
 "metadata": {
  "kernelspec": {
   "display_name": "Python 3",
   "language": "python",
   "name": "python3"
  },
  "language_info": {
   "codemirror_mode": {
    "name": "ipython",
    "version": 3
   },
   "file_extension": ".py",
   "mimetype": "text/x-python",
   "name": "python",
   "nbconvert_exporter": "python",
   "pygments_lexer": "ipython3",
   "version": "3.7.4"
  }
 },
 "nbformat": 4,
 "nbformat_minor": 4
}
